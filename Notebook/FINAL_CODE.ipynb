{
 "cells": [
  {
   "cell_type": "code",
   "execution_count": 1,
   "id": "bbe30f2d",
   "metadata": {},
   "outputs": [
    {
     "name": "stdout",
     "output_type": "stream",
     "text": [
      "Found existing installation: numpy 1.26.4\n",
      "Uninstalling numpy-1.26.4:\n",
      "  Successfully uninstalled numpy-1.26.4\n",
      "Collecting numpy==1.26.4\n",
      "  Obtaining dependency information for numpy==1.26.4 from https://files.pythonhosted.org/packages/3f/6b/5610004206cf7f8e7ad91c5a85a8c71b2f2f8051a0c0c4d5916b76d6cbb2/numpy-1.26.4-cp311-cp311-win_amd64.whl.metadata\n",
      "  Downloading numpy-1.26.4-cp311-cp311-win_amd64.whl.metadata (61 kB)\n",
      "     ---------------------------------------- 0.0/61.0 kB ? eta -:--:--\n",
      "     ------------ ------------------------- 20.5/61.0 kB 330.3 kB/s eta 0:00:01\n",
      "     ------------------- ------------------ 30.7/61.0 kB 325.1 kB/s eta 0:00:01\n",
      "     -------------------------------------- 61.0/61.0 kB 540.4 kB/s eta 0:00:00\n",
      "Downloading numpy-1.26.4-cp311-cp311-win_amd64.whl (15.8 MB)\n",
      "   ---------------------------------------- 0.0/15.8 MB ? eta -:--:--\n",
      "   ---------------------------------------- 0.1/15.8 MB 1.7 MB/s eta 0:00:10\n",
      "   ---------------------------------------- 0.1/15.8 MB 1.7 MB/s eta 0:00:10\n",
      "    --------------------------------------- 0.2/15.8 MB 2.1 MB/s eta 0:00:08\n",
      "    --------------------------------------- 0.4/15.8 MB 2.1 MB/s eta 0:00:08\n",
      "   - -------------------------------------- 0.5/15.8 MB 2.2 MB/s eta 0:00:07\n",
      "   - -------------------------------------- 0.6/15.8 MB 2.2 MB/s eta 0:00:07\n",
      "   - -------------------------------------- 0.7/15.8 MB 2.3 MB/s eta 0:00:07\n",
      "   -- ------------------------------------- 0.8/15.8 MB 2.3 MB/s eta 0:00:07\n",
      "   -- ------------------------------------- 1.0/15.8 MB 2.5 MB/s eta 0:00:07\n",
      "   -- ------------------------------------- 1.0/15.8 MB 2.4 MB/s eta 0:00:07\n",
      "   -- ------------------------------------- 1.1/15.8 MB 2.2 MB/s eta 0:00:07\n",
      "   --- ------------------------------------ 1.3/15.8 MB 2.4 MB/s eta 0:00:06\n",
      "   --- ------------------------------------ 1.3/15.8 MB 2.5 MB/s eta 0:00:06\n",
      "   --- ------------------------------------ 1.4/15.8 MB 2.4 MB/s eta 0:00:06\n",
      "   --- ------------------------------------ 1.4/15.8 MB 2.4 MB/s eta 0:00:06\n",
      "   --- ------------------------------------ 1.5/15.8 MB 2.1 MB/s eta 0:00:07\n",
      "   --- ------------------------------------ 1.5/15.8 MB 2.1 MB/s eta 0:00:07\n",
      "   ---- ----------------------------------- 1.6/15.8 MB 2.1 MB/s eta 0:00:07\n",
      "   ---- ----------------------------------- 1.6/15.8 MB 2.0 MB/s eta 0:00:07\n",
      "   ---- ----------------------------------- 1.6/15.8 MB 1.8 MB/s eta 0:00:08\n",
      "   ---- ----------------------------------- 1.7/15.8 MB 1.8 MB/s eta 0:00:08\n",
      "   ---- ----------------------------------- 1.8/15.8 MB 1.8 MB/s eta 0:00:08\n",
      "   ---- ----------------------------------- 1.8/15.8 MB 1.8 MB/s eta 0:00:08\n",
      "   ---- ----------------------------------- 1.8/15.8 MB 1.7 MB/s eta 0:00:09\n",
      "   ---- ----------------------------------- 1.9/15.8 MB 1.8 MB/s eta 0:00:08\n",
      "   ---- ----------------------------------- 2.0/15.8 MB 1.7 MB/s eta 0:00:08\n",
      "   ----- ---------------------------------- 2.0/15.8 MB 1.8 MB/s eta 0:00:08\n",
      "   ----- ---------------------------------- 2.2/15.8 MB 1.8 MB/s eta 0:00:08\n",
      "   ----- ---------------------------------- 2.2/15.8 MB 1.8 MB/s eta 0:00:08\n",
      "   ----- ---------------------------------- 2.3/15.8 MB 1.7 MB/s eta 0:00:08\n",
      "   ------ --------------------------------- 2.5/15.8 MB 1.8 MB/s eta 0:00:08\n",
      "   ------ --------------------------------- 2.6/15.8 MB 1.8 MB/s eta 0:00:08\n",
      "   ------ --------------------------------- 2.6/15.8 MB 1.8 MB/s eta 0:00:08\n",
      "   ------ --------------------------------- 2.7/15.8 MB 1.8 MB/s eta 0:00:08\n",
      "   ------ --------------------------------- 2.7/15.8 MB 1.8 MB/s eta 0:00:08\n",
      "   ------- -------------------------------- 2.9/15.8 MB 1.8 MB/s eta 0:00:08\n",
      "   ------- -------------------------------- 3.0/15.8 MB 1.8 MB/s eta 0:00:07\n",
      "   ------- -------------------------------- 3.1/15.8 MB 1.8 MB/s eta 0:00:07\n",
      "   ------- -------------------------------- 3.1/15.8 MB 1.8 MB/s eta 0:00:07\n",
      "   ------- -------------------------------- 3.1/15.8 MB 1.8 MB/s eta 0:00:08\n",
      "   -------- ------------------------------- 3.2/15.8 MB 1.8 MB/s eta 0:00:07\n",
      "   -------- ------------------------------- 3.3/15.8 MB 1.8 MB/s eta 0:00:07\n",
      "   -------- ------------------------------- 3.5/15.8 MB 1.9 MB/s eta 0:00:07\n",
      "   --------- ------------------------------ 3.6/15.8 MB 1.9 MB/s eta 0:00:07\n",
      "   --------- ------------------------------ 3.7/15.8 MB 1.9 MB/s eta 0:00:07\n",
      "   --------- ------------------------------ 3.7/15.8 MB 1.9 MB/s eta 0:00:07\n",
      "   --------- ------------------------------ 3.8/15.8 MB 1.8 MB/s eta 0:00:07\n",
      "   --------- ------------------------------ 3.9/15.8 MB 1.9 MB/s eta 0:00:07\n",
      "   --------- ------------------------------ 3.9/15.8 MB 1.9 MB/s eta 0:00:07\n",
      "   ---------- ----------------------------- 4.0/15.8 MB 1.8 MB/s eta 0:00:07\n",
      "   ---------- ----------------------------- 4.1/15.8 MB 1.8 MB/s eta 0:00:07\n",
      "   ---------- ----------------------------- 4.1/15.8 MB 1.8 MB/s eta 0:00:07\n",
      "   ---------- ----------------------------- 4.2/15.8 MB 1.8 MB/s eta 0:00:07\n",
      "   ---------- ----------------------------- 4.2/15.8 MB 1.8 MB/s eta 0:00:07\n",
      "   ---------- ----------------------------- 4.3/15.8 MB 1.8 MB/s eta 0:00:07\n",
      "   ----------- ---------------------------- 4.4/15.8 MB 1.8 MB/s eta 0:00:07\n",
      "   ----------- ---------------------------- 4.5/15.8 MB 1.8 MB/s eta 0:00:07\n",
      "   ----------- ---------------------------- 4.6/15.8 MB 1.8 MB/s eta 0:00:07\n",
      "   ----------- ---------------------------- 4.7/15.8 MB 1.8 MB/s eta 0:00:07\n",
      "   ----------- ---------------------------- 4.7/15.8 MB 1.8 MB/s eta 0:00:07\n",
      "   ------------ --------------------------- 4.8/15.8 MB 1.8 MB/s eta 0:00:07\n",
      "   ------------ --------------------------- 4.9/15.8 MB 1.8 MB/s eta 0:00:07\n",
      "   ------------ --------------------------- 4.9/15.8 MB 1.8 MB/s eta 0:00:07\n",
      "   ------------ --------------------------- 5.0/15.8 MB 1.8 MB/s eta 0:00:07\n",
      "   ------------ --------------------------- 5.0/15.8 MB 1.8 MB/s eta 0:00:07\n",
      "   ------------ --------------------------- 5.0/15.8 MB 1.7 MB/s eta 0:00:07\n",
      "   ------------ --------------------------- 5.1/15.8 MB 1.7 MB/s eta 0:00:07\n",
      "   ------------- -------------------------- 5.1/15.8 MB 1.7 MB/s eta 0:00:07\n",
      "   ------------- -------------------------- 5.2/15.8 MB 1.7 MB/s eta 0:00:07\n",
      "   ------------- -------------------------- 5.2/15.8 MB 1.7 MB/s eta 0:00:07\n",
      "   ------------- -------------------------- 5.3/15.8 MB 1.7 MB/s eta 0:00:07\n",
      "   ------------- -------------------------- 5.3/15.8 MB 1.7 MB/s eta 0:00:07\n",
      "   ------------- -------------------------- 5.3/15.8 MB 1.7 MB/s eta 0:00:07\n",
      "   ------------- -------------------------- 5.4/15.8 MB 1.7 MB/s eta 0:00:07\n",
      "   ------------- -------------------------- 5.5/15.8 MB 1.7 MB/s eta 0:00:07\n",
      "   ------------- -------------------------- 5.5/15.8 MB 1.7 MB/s eta 0:00:07\n",
      "   -------------- ------------------------- 5.6/15.8 MB 1.7 MB/s eta 0:00:07\n",
      "   -------------- ------------------------- 5.7/15.8 MB 1.7 MB/s eta 0:00:07\n",
      "   -------------- ------------------------- 5.8/15.8 MB 1.7 MB/s eta 0:00:06\n",
      "   -------------- ------------------------- 5.9/15.8 MB 1.7 MB/s eta 0:00:06\n",
      "   -------------- ------------------------- 5.9/15.8 MB 1.7 MB/s eta 0:00:06\n",
      "   -------------- ------------------------- 5.9/15.8 MB 1.6 MB/s eta 0:00:07\n",
      "   --------------- ------------------------ 6.0/15.8 MB 1.7 MB/s eta 0:00:06\n",
      "   --------------- ------------------------ 6.1/15.8 MB 1.7 MB/s eta 0:00:06\n",
      "   --------------- ------------------------ 6.1/15.8 MB 1.7 MB/s eta 0:00:06\n",
      "   --------------- ------------------------ 6.2/15.8 MB 1.7 MB/s eta 0:00:06\n",
      "   --------------- ------------------------ 6.2/15.8 MB 1.6 MB/s eta 0:00:06\n",
      "   --------------- ------------------------ 6.3/15.8 MB 1.6 MB/s eta 0:00:06\n",
      "   ---------------- ----------------------- 6.3/15.8 MB 1.6 MB/s eta 0:00:06\n",
      "   ---------------- ----------------------- 6.5/15.8 MB 1.6 MB/s eta 0:00:06\n",
      "   ---------------- ----------------------- 6.5/15.8 MB 1.6 MB/s eta 0:00:06\n",
      "   ---------------- ----------------------- 6.6/15.8 MB 1.7 MB/s eta 0:00:06\n",
      "   ---------------- ----------------------- 6.6/15.8 MB 1.7 MB/s eta 0:00:06\n",
      "   ---------------- ----------------------- 6.7/15.8 MB 1.6 MB/s eta 0:00:06\n",
      "   ----------------- ---------------------- 6.8/15.8 MB 1.6 MB/s eta 0:00:06\n",
      "   ----------------- ---------------------- 6.9/15.8 MB 1.6 MB/s eta 0:00:06\n",
      "   ----------------- ---------------------- 7.0/15.8 MB 1.6 MB/s eta 0:00:06\n",
      "   ----------------- ---------------------- 7.0/15.8 MB 1.6 MB/s eta 0:00:06\n",
      "   ----------------- ---------------------- 7.0/15.8 MB 1.6 MB/s eta 0:00:06\n",
      "   ----------------- ---------------------- 7.0/15.8 MB 1.6 MB/s eta 0:00:06\n",
      "   ------------------ --------------------- 7.1/15.8 MB 1.6 MB/s eta 0:00:06\n",
      "   ------------------ --------------------- 7.2/15.8 MB 1.6 MB/s eta 0:00:06\n",
      "   ------------------ --------------------- 7.2/15.8 MB 1.6 MB/s eta 0:00:06\n",
      "   ------------------ --------------------- 7.2/15.8 MB 1.6 MB/s eta 0:00:06\n",
      "   ------------------ --------------------- 7.2/15.8 MB 1.6 MB/s eta 0:00:06\n",
      "   ------------------ --------------------- 7.2/15.8 MB 1.6 MB/s eta 0:00:06\n",
      "   ------------------ --------------------- 7.3/15.8 MB 1.6 MB/s eta 0:00:06\n",
      "   ------------------ --------------------- 7.5/15.8 MB 1.6 MB/s eta 0:00:06\n",
      "   ------------------- -------------------- 7.6/15.8 MB 1.6 MB/s eta 0:00:06\n",
      "   ------------------- -------------------- 7.8/15.8 MB 1.6 MB/s eta 0:00:06\n",
      "   ------------------- -------------------- 7.8/15.8 MB 1.6 MB/s eta 0:00:05\n",
      "   -------------------- ------------------- 7.9/15.8 MB 1.6 MB/s eta 0:00:05\n",
      "   -------------------- ------------------- 8.0/15.8 MB 1.6 MB/s eta 0:00:05\n",
      "   -------------------- ------------------- 8.1/15.8 MB 1.6 MB/s eta 0:00:05\n",
      "   -------------------- ------------------- 8.2/15.8 MB 1.6 MB/s eta 0:00:05\n",
      "   -------------------- ------------------- 8.2/15.8 MB 1.6 MB/s eta 0:00:05\n",
      "   --------------------- ------------------ 8.3/15.8 MB 1.6 MB/s eta 0:00:05\n",
      "   --------------------- ------------------ 8.4/15.8 MB 1.6 MB/s eta 0:00:05\n",
      "   --------------------- ------------------ 8.5/15.8 MB 1.6 MB/s eta 0:00:05\n",
      "   --------------------- ------------------ 8.6/15.8 MB 1.6 MB/s eta 0:00:05\n",
      "   ---------------------- ----------------- 8.7/15.8 MB 1.7 MB/s eta 0:00:05\n",
      "   ---------------------- ----------------- 8.9/15.8 MB 1.7 MB/s eta 0:00:05\n",
      "   ---------------------- ----------------- 9.0/15.8 MB 1.7 MB/s eta 0:00:05\n",
      "   ---------------------- ----------------- 9.1/15.8 MB 1.7 MB/s eta 0:00:05\n",
      "   ----------------------- ---------------- 9.1/15.8 MB 1.7 MB/s eta 0:00:05\n",
      "   ----------------------- ---------------- 9.2/15.8 MB 1.7 MB/s eta 0:00:04\n",
      "   ----------------------- ---------------- 9.3/15.8 MB 1.7 MB/s eta 0:00:04\n",
      "   ----------------------- ---------------- 9.3/15.8 MB 1.7 MB/s eta 0:00:04\n",
      "   ----------------------- ---------------- 9.4/15.8 MB 1.7 MB/s eta 0:00:04\n",
      "   ----------------------- ---------------- 9.4/15.8 MB 1.7 MB/s eta 0:00:04\n",
      "   ------------------------ --------------- 9.6/15.8 MB 1.7 MB/s eta 0:00:04\n",
      "   ------------------------ --------------- 9.7/15.8 MB 1.7 MB/s eta 0:00:04\n",
      "   ------------------------ --------------- 9.8/15.8 MB 1.7 MB/s eta 0:00:04\n",
      "   ------------------------ --------------- 9.8/15.8 MB 1.7 MB/s eta 0:00:04\n",
      "   ------------------------- -------------- 10.0/15.8 MB 1.7 MB/s eta 0:00:04\n",
      "   ------------------------- -------------- 10.1/15.8 MB 1.7 MB/s eta 0:00:04\n",
      "   ------------------------- -------------- 10.2/15.8 MB 1.7 MB/s eta 0:00:04\n",
      "   ------------------------- -------------- 10.3/15.8 MB 1.7 MB/s eta 0:00:04\n",
      "   -------------------------- ------------- 10.3/15.8 MB 1.7 MB/s eta 0:00:04\n",
      "   -------------------------- ------------- 10.4/15.8 MB 1.7 MB/s eta 0:00:04\n",
      "   -------------------------- ------------- 10.4/15.8 MB 1.7 MB/s eta 0:00:04\n",
      "   -------------------------- ------------- 10.6/15.8 MB 1.7 MB/s eta 0:00:04\n",
      "   --------------------------- ------------ 10.7/15.8 MB 1.7 MB/s eta 0:00:03\n",
      "   --------------------------- ------------ 10.7/15.8 MB 1.7 MB/s eta 0:00:03\n",
      "   --------------------------- ------------ 10.8/15.8 MB 1.7 MB/s eta 0:00:03\n",
      "   --------------------------- ------------ 10.8/15.8 MB 1.7 MB/s eta 0:00:03\n",
      "   --------------------------- ------------ 11.1/15.8 MB 1.7 MB/s eta 0:00:03\n",
      "   ---------------------------- ----------- 11.2/15.8 MB 1.7 MB/s eta 0:00:03\n",
      "   ---------------------------- ----------- 11.3/15.8 MB 1.7 MB/s eta 0:00:03\n",
      "   ---------------------------- ----------- 11.3/15.8 MB 1.7 MB/s eta 0:00:03\n",
      "   ---------------------------- ----------- 11.4/15.8 MB 1.7 MB/s eta 0:00:03\n",
      "   ----------------------------- ---------- 11.6/15.8 MB 1.7 MB/s eta 0:00:03\n",
      "   ----------------------------- ---------- 11.7/15.8 MB 1.7 MB/s eta 0:00:03\n",
      "   ------------------------------ --------- 11.9/15.8 MB 1.8 MB/s eta 0:00:03\n",
      "   ------------------------------ --------- 12.0/15.8 MB 1.8 MB/s eta 0:00:03\n",
      "   ------------------------------ --------- 12.1/15.8 MB 1.8 MB/s eta 0:00:03\n",
      "   ------------------------------ --------- 12.1/15.8 MB 1.8 MB/s eta 0:00:03\n",
      "   ------------------------------ --------- 12.1/15.8 MB 1.8 MB/s eta 0:00:03\n",
      "   ------------------------------ --------- 12.2/15.8 MB 1.8 MB/s eta 0:00:03\n",
      "   ------------------------------ --------- 12.2/15.8 MB 1.8 MB/s eta 0:00:03\n",
      "   ------------------------------- -------- 12.3/15.8 MB 1.8 MB/s eta 0:00:02\n",
      "   ------------------------------- -------- 12.3/15.8 MB 1.8 MB/s eta 0:00:02\n",
      "   ------------------------------- -------- 12.4/15.8 MB 1.8 MB/s eta 0:00:02\n",
      "   ------------------------------- -------- 12.5/15.8 MB 1.8 MB/s eta 0:00:02\n",
      "   ------------------------------- -------- 12.5/15.8 MB 1.8 MB/s eta 0:00:02\n",
      "   ------------------------------- -------- 12.5/15.8 MB 1.8 MB/s eta 0:00:02\n",
      "   ------------------------------- -------- 12.6/15.8 MB 1.7 MB/s eta 0:00:02\n",
      "   -------------------------------- ------- 12.9/15.8 MB 1.8 MB/s eta 0:00:02\n",
      "   -------------------------------- ------- 13.0/15.8 MB 1.8 MB/s eta 0:00:02\n",
      "   --------------------------------- ------ 13.1/15.8 MB 1.8 MB/s eta 0:00:02\n",
      "   --------------------------------- ------ 13.1/15.8 MB 1.8 MB/s eta 0:00:02\n",
      "   --------------------------------- ------ 13.3/15.8 MB 1.8 MB/s eta 0:00:02\n",
      "   --------------------------------- ------ 13.4/15.8 MB 1.8 MB/s eta 0:00:02\n",
      "   ---------------------------------- ----- 13.5/15.8 MB 1.8 MB/s eta 0:00:02\n",
      "   ---------------------------------- ----- 13.6/15.8 MB 1.8 MB/s eta 0:00:02\n",
      "   ---------------------------------- ----- 13.7/15.8 MB 1.8 MB/s eta 0:00:02\n",
      "   ---------------------------------- ----- 13.8/15.8 MB 1.8 MB/s eta 0:00:02\n",
      "   ---------------------------------- ----- 13.8/15.8 MB 1.8 MB/s eta 0:00:02\n",
      "   ----------------------------------- ---- 13.9/15.8 MB 1.8 MB/s eta 0:00:02\n",
      "   ----------------------------------- ---- 13.9/15.8 MB 1.8 MB/s eta 0:00:02\n",
      "   ----------------------------------- ---- 14.0/15.8 MB 1.8 MB/s eta 0:00:02\n",
      "   ----------------------------------- ---- 14.1/15.8 MB 1.8 MB/s eta 0:00:01\n",
      "   ----------------------------------- ---- 14.2/15.8 MB 1.8 MB/s eta 0:00:01\n",
      "   ------------------------------------ --- 14.3/15.8 MB 1.8 MB/s eta 0:00:01\n",
      "   ------------------------------------ --- 14.4/15.8 MB 1.8 MB/s eta 0:00:01\n",
      "   ------------------------------------ --- 14.4/15.8 MB 1.8 MB/s eta 0:00:01\n",
      "   ------------------------------------ --- 14.5/15.8 MB 1.8 MB/s eta 0:00:01\n",
      "   ------------------------------------ --- 14.6/15.8 MB 1.8 MB/s eta 0:00:01\n",
      "   ------------------------------------ --- 14.6/15.8 MB 1.8 MB/s eta 0:00:01\n",
      "   ------------------------------------- -- 14.7/15.8 MB 1.8 MB/s eta 0:00:01\n",
      "   ------------------------------------- -- 14.8/15.8 MB 1.8 MB/s eta 0:00:01\n",
      "   ------------------------------------- -- 14.8/15.8 MB 1.8 MB/s eta 0:00:01\n",
      "   ------------------------------------- -- 14.9/15.8 MB 1.8 MB/s eta 0:00:01\n",
      "   ------------------------------------- -- 14.9/15.8 MB 1.8 MB/s eta 0:00:01\n",
      "   ------------------------------------- -- 14.9/15.8 MB 1.8 MB/s eta 0:00:01\n",
      "   ------------------------------------- -- 14.9/15.8 MB 1.8 MB/s eta 0:00:01\n",
      "   ------------------------------------- -- 15.0/15.8 MB 1.7 MB/s eta 0:00:01\n",
      "   -------------------------------------- - 15.1/15.8 MB 1.7 MB/s eta 0:00:01\n",
      "   -------------------------------------- - 15.1/15.8 MB 1.7 MB/s eta 0:00:01\n",
      "   -------------------------------------- - 15.2/15.8 MB 1.7 MB/s eta 0:00:01\n",
      "   -------------------------------------- - 15.2/15.8 MB 1.8 MB/s eta 0:00:01\n",
      "   -------------------------------------- - 15.3/15.8 MB 1.7 MB/s eta 0:00:01\n",
      "   -------------------------------------- - 15.3/15.8 MB 1.7 MB/s eta 0:00:01\n",
      "   -------------------------------------- - 15.4/15.8 MB 1.7 MB/s eta 0:00:01\n",
      "   ---------------------------------------  15.6/15.8 MB 1.8 MB/s eta 0:00:01\n",
      "   ---------------------------------------  15.6/15.8 MB 1.8 MB/s eta 0:00:01\n",
      "   ---------------------------------------  15.6/15.8 MB 1.8 MB/s eta 0:00:01\n",
      "   ---------------------------------------  15.7/15.8 MB 1.8 MB/s eta 0:00:01\n",
      "   ---------------------------------------  15.7/15.8 MB 1.8 MB/s eta 0:00:01\n",
      "   ---------------------------------------  15.8/15.8 MB 1.8 MB/s eta 0:00:01\n",
      "   ---------------------------------------- 15.8/15.8 MB 1.8 MB/s eta 0:00:00\n",
      "Installing collected packages: numpy\n",
      "Successfully installed numpy-1.26.4\n",
      "1.26.4\n"
     ]
    },
    {
     "name": "stderr",
     "output_type": "stream",
     "text": [
      "ERROR: pip's dependency resolver does not currently take into account all the packages that are installed. This behaviour is the source of the following dependency conflicts.\n",
      "gensim 4.3.0 requires FuzzyTM>=0.4.0, which is not installed.\n",
      "tables 3.8.0 requires blosc2~=2.0.0, which is not installed.\n",
      "tables 3.8.0 requires cython>=0.29.21, which is not installed.\n",
      "numba 0.57.1 requires numpy<1.25,>=1.21, but you have numpy 1.26.4 which is incompatible.\n",
      "sklearn-compat 0.1.3 requires scikit-learn<1.7,>=1.2, but you have scikit-learn 1.7.0 which is incompatible.\n"
     ]
    }
   ],
   "source": [
    "!pip uninstall -y numpy\n",
    "!pip install numpy==1.26.4 --no-cache-dir --force-reinstall\n",
    "import numpy; print(numpy.__version__)\n"
   ]
  },
  {
   "cell_type": "code",
   "execution_count": 2,
   "id": "cdb38a30",
   "metadata": {},
   "outputs": [
    {
     "name": "stderr",
     "output_type": "stream",
     "text": [
      "WARNING: Skipping tensorflow as it is not installed.\n",
      "WARNING: Skipping tensorflow-intel as it is not installed.\n",
      "WARNING: Skipping tensorflow-gpu as it is not installed.\n",
      "WARNING: Skipping keras as it is not installed.\n",
      "WARNING: Skipping keras-nightly as it is not installed.\n",
      "WARNING: Skipping keras-preprocessing as it is not installed.\n"
     ]
    }
   ],
   "source": [
    "!pip uninstall -y tensorflow tensorflow-intel tensorflow-gpu keras keras-nightly keras-preprocessing\n"
   ]
  },
  {
   "cell_type": "code",
   "execution_count": 3,
   "id": "103ee128",
   "metadata": {},
   "outputs": [],
   "source": [
    "import os\n",
    "os.environ[\"TRANSFORMERS_NO_TF\"] = \"1\"\n"
   ]
  },
  {
   "cell_type": "code",
   "execution_count": null,
   "id": "e75341db",
   "metadata": {},
   "outputs": [],
   "source": []
  },
  {
   "cell_type": "code",
   "execution_count": 4,
   "id": "736cba93",
   "metadata": {},
   "outputs": [
    {
     "name": "stderr",
     "output_type": "stream",
     "text": [
      "C:\\Users\\97250\\anaconda3\\Lib\\site-packages\\pandas\\core\\arrays\\masked.py:61: UserWarning: Pandas requires version '1.3.6' or newer of 'bottleneck' (version '1.3.5' currently installed).\n",
      "  from pandas.core import (\n"
     ]
    }
   ],
   "source": [
    "import pandas as pd\n",
    "\n",
    "# טוען את הקובץ\n",
    "df = pd.read_csv(\"C:/Users/97250/Desktop/shahar/3year/semb/nlp/merged_dataset.csv\")"
   ]
  },
  {
   "cell_type": "code",
   "execution_count": 5,
   "id": "6753d9e7-efa5-4b3e-88c7-657ffba0532a",
   "metadata": {},
   "outputs": [
    {
     "name": "stdout",
     "output_type": "stream",
     "text": [
      "Before cleaning: (56794, 2)\n",
      "After cleaning: (56432, 2)\n"
     ]
    }
   ],
   "source": [
    "# בודק כמה שורות יש לפני הניקוי\n",
    "print(\"Before cleaning:\", df.shape)\n",
    "\n",
    "# מסיר שורות שבהן העמודה 'statement' ריקה\n",
    "df = df.dropna(subset=['statement'])\n",
    "\n",
    "# מאפס את האינדקס (לא חובה, אבל מסודר יותר)\n",
    "df = df.reset_index(drop=True)\n",
    "\n",
    "# בודק כמה שורות נשארו\n",
    "print(\"After cleaning:\", df.shape)\n"
   ]
  },
  {
   "cell_type": "code",
   "execution_count": 6,
   "id": "7f9c4d51-d9f5-4cde-8fea-59f20c5979e6",
   "metadata": {},
   "outputs": [
    {
     "name": "stdout",
     "output_type": "stream",
     "text": [
      "Before removing duplicates: (56432, 2)\n"
     ]
    }
   ],
   "source": [
    "print(\"Before removing duplicates:\", df.shape)"
   ]
  },
  {
   "cell_type": "code",
   "execution_count": 7,
   "id": "e204474c-3653-4cb7-82d9-853437ed1f26",
   "metadata": {},
   "outputs": [
    {
     "name": "stdout",
     "output_type": "stream",
     "text": [
      "After removing duplicates: (54824, 2)\n"
     ]
    }
   ],
   "source": [
    "df = df.drop_duplicates(subset='statement')\n",
    "print(\"After removing duplicates:\", df.shape)"
   ]
  },
  {
   "cell_type": "markdown",
   "id": "aa7f99d5-e4e3-4b33-9bc4-3230804f370c",
   "metadata": {},
   "source": [
    "\n"
   ]
  },
  {
   "cell_type": "code",
   "execution_count": 8,
   "id": "51dde1ca-bdf3-4b9b-a8c0-1ddbcb579684",
   "metadata": {},
   "outputs": [
    {
     "name": "stdout",
     "output_type": "stream",
     "text": [
      "Rows with special characters or punctuation: 44641\n"
     ]
    }
   ],
   "source": [
    "import re\n",
    "#האם יש תווים מוזרים\n",
    "sample_with_symbols = df[df['statement'].str.contains(r'[^\\w\\s]', regex=True)]\n",
    "print(\"Rows with special characters or punctuation:\", sample_with_symbols.shape[0])\n"
   ]
  },
  {
   "cell_type": "code",
   "execution_count": 9,
   "id": "82d7104e-867e-4e73-8804-938e80dc25c7",
   "metadata": {},
   "outputs": [
    {
     "name": "stdout",
     "output_type": "stream",
     "text": [
      "Rows with URLs: 688\n"
     ]
    }
   ],
   "source": [
    "#האם יש קישורים\n",
    "sample_with_links = df[df['statement'].str.contains(r'http\\S+|www\\.', regex=True, na=False)]\n",
    "print(\"Rows with URLs:\", sample_with_links.shape[0])\n"
   ]
  },
  {
   "cell_type": "code",
   "execution_count": 10,
   "id": "a4961d87-22e7-4181-99ab-13a1637d3769",
   "metadata": {},
   "outputs": [
    {
     "name": "stdout",
     "output_type": "stream",
     "text": [
      "Rows with uppercase letters: 41041\n"
     ]
    }
   ],
   "source": [
    "#האם יש אותיות גדולות\n",
    "uppercase_count = df['statement'].apply(lambda x: any(c.isupper() for c in str(x))).sum()\n",
    "print(\"Rows with uppercase letters:\", uppercase_count)\n"
   ]
  },
  {
   "cell_type": "code",
   "execution_count": 11,
   "id": "d28ed713-138f-43d7-91e0-926ebc9bbe4b",
   "metadata": {},
   "outputs": [
    {
     "name": "stderr",
     "output_type": "stream",
     "text": [
      "[nltk_data] Downloading package stopwords to\n",
      "[nltk_data]     C:\\Users\\97250\\AppData\\Roaming\\nltk_data...\n",
      "[nltk_data]   Package stopwords is already up-to-date!\n",
      "[nltk_data] Downloading package wordnet to\n",
      "[nltk_data]     C:\\Users\\97250\\AppData\\Roaming\\nltk_data...\n",
      "[nltk_data]   Package wordnet is already up-to-date!\n",
      "[nltk_data] Downloading package omw-1.4 to\n",
      "[nltk_data]     C:\\Users\\97250\\AppData\\Roaming\\nltk_data...\n",
      "[nltk_data]   Package omw-1.4 is already up-to-date!\n"
     ]
    },
    {
     "data": {
      "text/plain": [
       "True"
      ]
     },
     "execution_count": 11,
     "metadata": {},
     "output_type": "execute_result"
    }
   ],
   "source": [
    "import nltk\n",
    "nltk.download('stopwords')\n",
    "nltk.download('wordnet')\n",
    "nltk.download('omw-1.4')  # מוסיף תמיכה בשורשים מתקדמים"
   ]
  },
  {
   "cell_type": "code",
   "execution_count": 12,
   "id": "4ff56949-a6e2-42b9-baa0-e3e3baa97dff",
   "metadata": {
    "scrolled": true
   },
   "outputs": [
    {
     "name": "stderr",
     "output_type": "stream",
     "text": [
      "[nltk_data] Downloading package stopwords to\n",
      "[nltk_data]     C:\\Users\\97250\\AppData\\Roaming\\nltk_data...\n",
      "[nltk_data]   Package stopwords is already up-to-date!\n"
     ]
    },
    {
     "name": "stdout",
     "output_type": "stream",
     "text": [
      "Rows containing stopwords: 53184\n"
     ]
    }
   ],
   "source": [
    "#האם יש מילות עצירה כמו לדוגמא ועוד\n",
    "from nltk.corpus import stopwords\n",
    "nltk.download('stopwords')\n",
    "stop_words = set(stopwords.words('english'))\n",
    "\n",
    "contains_stopwords = df['statement'].apply(lambda x: any(word in stop_words for word in str(x).lower().split()))\n",
    "print(\"Rows containing stopwords:\", contains_stopwords.sum())\n"
   ]
  },
  {
   "cell_type": "code",
   "execution_count": 13,
   "id": "a3089923-5862-4c53-9ba2-db696564931b",
   "metadata": {},
   "outputs": [
    {
     "name": "stderr",
     "output_type": "stream",
     "text": [
      "[nltk_data] Downloading package wordnet to\n",
      "[nltk_data]     C:\\Users\\97250\\AppData\\Roaming\\nltk_data...\n",
      "[nltk_data]   Package wordnet is already up-to-date!\n"
     ]
    },
    {
     "name": "stdout",
     "output_type": "stream",
     "text": [
      "Lemmatized examples: ['running', 'better', 'study', 'went']\n"
     ]
    }
   ],
   "source": [
    "from nltk.stem import WordNetLemmatizer\n",
    "nltk.download('wordnet')\n",
    "lemmatizer = WordNetLemmatizer()\n",
    "\n",
    "examples = [\"running\", \"better\", \"studies\", \"went\"]\n",
    "print(\"Lemmatized examples:\", [lemmatizer.lemmatize(w) for w in examples])\n"
   ]
  },
  {
   "cell_type": "code",
   "execution_count": 14,
   "id": "1f87ba68-af99-4fc8-862a-97893a124608",
   "metadata": {},
   "outputs": [],
   "source": [
    "import re\n",
    "import string\n",
    "from nltk.corpus import stopwords\n",
    "from nltk.stem import WordNetLemmatizer\n",
    "\n",
    "# הגדרות ראשוניות\n",
    "stop_words = set(stopwords.words('english'))\n",
    "lemmatizer = WordNetLemmatizer()\n",
    "\n",
    "def clean_text(text):\n",
    "    # המרה לאותיות קטנות\n",
    "    text = text.lower()\n",
    "    \n",
    "    # הסרת קישורים\n",
    "    text = re.sub(r\"http\\S+|www\\S+|https\\S+\", '', text)\n",
    "    \n",
    "    # הסרת תווים לא אנגליים/אמוג'ים\n",
    "    text = text.encode('ascii', 'ignore').decode('utf-8')\n",
    "    \n",
    "    # הסרת סימני פיסוק\n",
    "    text = text.translate(str.maketrans('', '', string.punctuation))\n",
    "    \n",
    "    # חלוקה למילים\n",
    "    words = text.split()\n",
    "    \n",
    "    # הסרת stopwords ולממטיזציה\n",
    "    words = [lemmatizer.lemmatize(word) for word in words if word not in stop_words]\n",
    "    \n",
    "    return ' '.join(words)\n"
   ]
  },
  {
   "cell_type": "code",
   "execution_count": 15,
   "id": "cd3d2ed2-5ab5-4f79-87eb-9278af1200ea",
   "metadata": {},
   "outputs": [],
   "source": [
    "df['clean_text'] = df['statement'].apply(clean_text)"
   ]
  },
  {
   "cell_type": "code",
   "execution_count": 16,
   "id": "e34f3460-b695-4b31-8364-790907de3db5",
   "metadata": {},
   "outputs": [
    {
     "name": "stdout",
     "output_type": "stream",
     "text": [
      "Original: oh my gosh\n",
      "Cleaned : oh gosh\n"
     ]
    }
   ],
   "source": [
    "print(\"Original:\", df['statement'].iloc[0])\n",
    "print(\"Cleaned :\", df['clean_text'].iloc[0])\n"
   ]
  },
  {
   "cell_type": "code",
   "execution_count": 17,
   "id": "afa82d8f-45a3-47dd-a70b-cd080d857aa2",
   "metadata": {},
   "outputs": [],
   "source": [
    "# שמירת רק clean_text והסטטוס לקובץ חדש\n",
    "df[['clean_text', 'status']].to_csv(\"cleaned_data_readyy.csv\", index=False)\n"
   ]
  },
  {
   "cell_type": "code",
   "execution_count": 18,
   "id": "52f97d03-93de-4872-b65c-7d427a32cae1",
   "metadata": {},
   "outputs": [],
   "source": [
    "df[['clean_text', 'status']].to_csv(r\"C:/Users/97250/Desktop/shahar/3year/semb/nlp/cleaned_data_readyy.csv\", index=False)\n"
   ]
  },
  {
   "cell_type": "code",
   "execution_count": 19,
   "id": "3326d2bf-b438-4127-b8b4-06fb6dd52c10",
   "metadata": {},
   "outputs": [],
   "source": [
    "import pandas as pd\n",
    "\n",
    "df_cleaned = pd.read_csv(r\"C:/Users/97250/Desktop/shahar/3year/semb/nlp/cleaned_data_readyy.csv\")"
   ]
  },
  {
   "cell_type": "code",
   "execution_count": 20,
   "id": "d748c915-b0e8-411d-9c49-3bfe1bc7c8ca",
   "metadata": {},
   "outputs": [
    {
     "name": "stdout",
     "output_type": "stream",
     "text": [
      "Total rows after cleaning: 54747\n"
     ]
    }
   ],
   "source": [
    "# הסרת שורות שבהן הטקסט הנקי (clean_text) ריק או חסר\n",
    "df_cleaned = df_cleaned.dropna(subset=['clean_text']).reset_index(drop=True)\n",
    "\n",
    "# בדיקה כמה שורות נשארו\n",
    "print(\"Total rows after cleaning:\", df_cleaned.shape[0])\n"
   ]
  },
  {
   "cell_type": "code",
   "execution_count": null,
   "id": "cfcc1c78",
   "metadata": {},
   "outputs": [],
   "source": []
  },
  {
   "cell_type": "markdown",
   "id": "0f9d1572-e443-4e19-b04e-9b8c616e6feb",
   "metadata": {},
   "source": [
    "בשלב הזה ניקינו את טקסטי הגולשים מהדאטה שאיחדנו. התחלנו מ־56,794 שורות, ומתוכן הסרנו שורות ריקות או כפולות, כאלה שהטקסט בהן לא קיים או חזר על עצמו בדיוק. בהמשך, יישמנו תהליך ניקוי שכלל הורדה לאותיות קטנות, הסרת קישורים, סימני פיסוק, תווים מיוחדים ומילים חסרות ערך כמו \"the\", \"and\" וכו'. בנוסף, החזרנו כל מילה לצורת השורש שלה (למשל: studies → study). אחרי כל השלבים האלה נשארנו עם כ־54,747 טקסטים נקיים ומוכנים לעיבוד, עם שתי עמודות עיקריות: clean_text שמכילה את הטקסט הנקי, ו־status שמייצגת את הסיווג הרגשי של כל טקסט."
   ]
  },
  {
   "cell_type": "markdown",
   "id": "9506681c-707d-4bc3-997b-590afa36c802",
   "metadata": {},
   "source": [
    "\n",
    "\n",
    "At this stage, we cleaned the user-generated texts from the merged dataset. We started with 56,794 rows and removed empty or duplicate entries — those with missing or identical text. Then, we applied a series of preprocessing steps: converting all text to lowercase, removing links, punctuation, special characters, and common stopwords like \"the\" or \"and\". We also applied lemmatization to reduce words to their base form (e.g., *studies* → *study*). After all these steps, we ended up with approximately 54,747 clean and ready-to-use entries, with two main columns: `clean_text` for the processed text, and `status` for the emotional label assigned to each entry.\n",
    "\n"
   ]
  },
  {
   "cell_type": "code",
   "execution_count": 21,
   "id": "63cf91ec",
   "metadata": {},
   "outputs": [
    {
     "name": "stdout",
     "output_type": "stream",
     "text": [
      "✅ Labels after replacement:\n",
      "status\n",
      "Depression              18188\n",
      "Normal                  16689\n",
      "Suicidal                10641\n",
      "Anxiety                  3617\n",
      "Bipolar                  2501\n",
      "Stress                   2293\n",
      "Personality disorder      895\n",
      "Name: count, dtype: int64\n",
      "\n",
      "Unique labels: ['Anxiety' 'Normal' 'Depression' 'Suicidal' 'Stress' 'Bipolar'\n",
      " 'Personality disorder']\n"
     ]
    }
   ],
   "source": [
    "import pandas as pd\n",
    "\n",
    "# קריאת הקובץ\n",
    "df = pd.read_csv(\"cleaned_data_readyy.csv\")\n",
    "\n",
    "# שינוי התוויות\n",
    "df['status'] = df['status'].replace({\n",
    "    'moderately depressed': 'Depression',\n",
    "    'not depressed': 'Normal'\n",
    "})\n",
    "\n",
    "# שמירה לקובץ חדש\n",
    "df.to_csv(\"final_data_.csv\", index=False)\n",
    "\n",
    "# הדפסת התוויות הקיימות לוודא שהכל תקין\n",
    "print(\"✅ Labels after replacement:\")\n",
    "print(df['status'].value_counts())\n",
    "print(\"\\nUnique labels:\", df['status'].unique())\n"
   ]
  },
  {
   "cell_type": "code",
   "execution_count": 22,
   "id": "8cffd7af",
   "metadata": {},
   "outputs": [
    {
     "name": "stdout",
     "output_type": "stream",
     "text": [
      "Collecting numpy==1.26.4\n",
      "  Obtaining dependency information for numpy==1.26.4 from https://files.pythonhosted.org/packages/3f/6b/5610004206cf7f8e7ad91c5a85a8c71b2f2f8051a0c0c4d5916b76d6cbb2/numpy-1.26.4-cp311-cp311-win_amd64.whl.metadata\n",
      "  Using cached numpy-1.26.4-cp311-cp311-win_amd64.whl.metadata (61 kB)\n",
      "Using cached numpy-1.26.4-cp311-cp311-win_amd64.whl (15.8 MB)\n",
      "Installing collected packages: numpy\n",
      "  Attempting uninstall: numpy\n",
      "    Found existing installation: numpy 1.26.4\n",
      "    Uninstalling numpy-1.26.4:\n",
      "      Successfully uninstalled numpy-1.26.4\n"
     ]
    },
    {
     "name": "stderr",
     "output_type": "stream",
     "text": [
      "ERROR: Could not install packages due to an OSError: [WinError 5] Access is denied: 'C:\\\\Users\\\\97250\\\\anaconda3\\\\Lib\\\\site-packages\\\\~9mpy.libs\\\\libopenblas64__v0.3.23-293-gc2f4bdbb-gcc_10_3_0-2bde3a66a51006b2b53eb373ff767a3f.dll'\n",
      "Consider using the `--user` option or check the permissions.\n",
      "\n"
     ]
    }
   ],
   "source": [
    "!pip install numpy==1.26.4 --force-reinstall\n"
   ]
  },
  {
   "cell_type": "code",
   "execution_count": 23,
   "id": "8a21af7b-79f3-4aee-9afb-f288939eb173",
   "metadata": {},
   "outputs": [
    {
     "data": {
      "image/png": "[encoded data removed]",
      "text/plain": [
       "<Figure size 720x432 with 1 Axes>"
      ]
     },
     "metadata": {
      "needs_background": "light"
     },
     "output_type": "display_data"
    }
   ],
   "source": [
    "import matplotlib.pyplot as plt\n",
    "import seaborn as sns\n",
    "\n",
    "# ספירת דוגמאות לכל קטגוריה\n",
    "status_counts = df['status'].value_counts()\n",
    "\n",
    "# ציור גרף עמודות\n",
    "plt.figure(figsize=(10,6))\n",
    "sns.barplot(x=status_counts.index, y=status_counts.values, palette=\"pastel\")\n",
    "plt.title(\"Distribution of Mental Health Labels\", fontsize=16)\n",
    "plt.xlabel(\"Mental Health Condition\", fontsize=12)\n",
    "plt.ylabel(\"Number of Samples\", fontsize=12)\n",
    "plt.xticks(rotation=45)\n",
    "plt.tight_layout()\n",
    "plt.show()\n"
   ]
  },
  {
   "cell_type": "markdown",
   "id": "219383e9-35b3-4f39-8bd9-0f8014e5ec3c",
   "metadata": {},
   "source": [
    "מסקנות מהתפלגות התוויות בנתנונים\n",
    "בגרף הזה אנחנו רואים את ההתפלגות של הקטגוריות בסט הנתונים אחרי שלב הניקוי. אפשר לשים לב שיש הבדל משמעותי בין הקבוצות – למשל, יש הרבה יותר דוגמאות שמסווגות כ־Depression או Normal, לעומת קטגוריות כמו Stress, Bipolar או Personality Disorder שמופיעות הרבה פחות.\n",
    "זה יוצר חוסר איזון בדאטה – מה שנקרא class imbalance – וזה יכול להשפיע על איך המודל שלנו לומד. כלומר, המודל עלול \"להעדיף\" את הקטגוריות הנפוצות ולפחות לדייק בזיהוי של הקטגוריות החלשות.\n",
    "בהמשך נצטרך לחשוב איך להתמודד עם זה – אם זה בעזרת איזון של הדאטה (למשל oversampling) או בבחירה של מודלים שיודעים להתמודד עם חוסר איזון, כמו שימוש ב־class_weight='balanced' בלמידת המודל."
   ]
  },
  {
   "cell_type": "code",
   "execution_count": 24,
   "id": "81079099-9be9-4388-9889-571bf199106d",
   "metadata": {},
   "outputs": [
    {
     "data": {
      "image/png": "[encoded data removed]",
      "text/plain": [
       "<Figure size 720x360 with 1 Axes>"
      ]
     },
     "metadata": {
      "needs_background": "light"
     },
     "output_type": "display_data"
    }
   ],
   "source": [
    "# הוספת עמודת ספירת מילים\n",
    "df['word_count'] = df['clean_text'].apply(lambda x: len(str(x).split()))\n",
    "\n",
    "# גרף התפלגות\n",
    "import matplotlib.pyplot as plt\n",
    "plt.figure(figsize=(10,5))\n",
    "df['word_count'].hist(bins=50, color='skyblue')\n",
    "plt.title(\"Distribution of Statement Lengths\")\n",
    "plt.xlabel(\"Number of Words per Statement\")\n",
    "plt.ylabel(\"Number of Samples\")\n",
    "plt.xlim(0, 200)  # מציג רק את טווח 0–200 מילים\n",
    "plt.show()\n"
   ]
  },
  {
   "cell_type": "markdown",
   "id": "f09768a2-eee7-420b-9d75-cb45c0a7abbf",
   "metadata": {},
   "source": [
    "בהסתכלות על גרף התפלגות אורכי המשפטים, אפשר לראות שרוב הטקסטים שבדאטה שלנו הם די קצרים – הרוב המוחלט מכיל פחות מ־75 מילים, ורק מעט טקסטים מגיעים לאורך של מעל 100 מילים.\n",
    "זו תובנה חשובה, כי כשנרצה לבחור ייצוגים לטקסט או להפעיל מודלים מתקדמים כמו BERT, נצטרך לקחת בחשבון שהטקסטים שלנו הם יחסית קצרים.\n",
    "מצד אחד, זה מקל על העיבוד. מצד שני, זה אומר שהרבה מאוד מידע רגשי צריך לבוא לידי ביטוי במשפטים קצרים – ולכן חשוב שהייצוג שנבחר (למשל TF-IDF או embedding) יצליח ללכוד את המשמעות גם כשהטקסט מינימלי."
   ]
  },
  {
   "cell_type": "code",
   "execution_count": 25,
   "id": "08898520-df97-4883-b05d-9cd902b9254b",
   "metadata": {},
   "outputs": [
    {
     "data": {
      "image/png": "[encoded data removed]",
      "text/plain": [
       "<Figure size 720x360 with 1 Axes>"
      ]
     },
     "metadata": {
      "needs_background": "light"
     },
     "output_type": "display_data"
    }
   ],
   "source": [
    "from collections import Counter\n",
    "\n",
    "# הסרת ערכים חסרים והמרת כל הערכים לטקסט\n",
    "texts = df['clean_text'].dropna().astype(str)\n",
    "\n",
    "# איחוד כל הטקסטים\n",
    "all_words = ' '.join(texts).split()\n",
    "\n",
    "# ספירת מילים\n",
    "word_freq = Counter(all_words)\n",
    "common_words = word_freq.most_common(20)\n",
    "\n",
    "# גרף\n",
    "words, counts = zip(*common_words)\n",
    "plt.figure(figsize=(10,5))\n",
    "plt.bar(words, counts, color='lightgreen')\n",
    "plt.xticks(rotation=45)\n",
    "plt.title(\"Top 20 Most Common Words\")\n",
    "plt.show()\n"
   ]
  },
  {
   "cell_type": "code",
   "execution_count": null,
   "id": "13375e7f",
   "metadata": {},
   "outputs": [],
   "source": []
  },
  {
   "cell_type": "markdown",
   "id": "0e116077",
   "metadata": {},
   "source": [
    "בגרף הזה רואים את 20 המילים שהופיעו הכי הרבה בכל הטקסטים שלנו – אחרי שניקינו אותן ממילים ריקות ופעולות מיותרות.\n",
    "כצפוי, מופיעות כאן מילים כלליות כמו \"like\", \"feel\", \"know\", \"want\" – שמבטאות מצבים רגשיים או רצונות, ועוזרות לנו להבין את הסגנון שבו אנשים מדברים על התחושות שלהם.\n",
    "החשיבות של הגרף הזה היא בכך שהוא נותן הצצה ראשונית לאופי הדאטה – הוא מראה לנו באילו מילים המודלים שלנו עשויים להיתקל הכי הרבה, ומהו אוצר המילים המרכזי שנצטרך להתחשב בו בהמשך."
   ]
  },
  {
   "cell_type": "markdown",
   "id": "c3206c0b",
   "metadata": {},
   "source": [
    "## הצגת המילים הנפוצות מתוך כל קטגוריה"
   ]
  },
  {
   "cell_type": "code",
   "execution_count": 26,
   "id": "08dec6e4-abf4-46ce-bc95-461fea98bc42",
   "metadata": {},
   "outputs": [],
   "source": [
    "from collections import Counter\n",
    "import matplotlib.pyplot as plt\n",
    "\n",
    "def plot_top_words_by_label(df, label, top_n=20):\n",
    "    \"\"\"\n",
    "    מציג גרף של המילים הנפוצות ביותר בטקסטים לפי תווית ספציפית.\n",
    "\n",
    "    Parameters:\n",
    "    - df: DataFrame עם עמודות 'clean_text' ו־'status'\n",
    "    - label: שם התווית לניתוח\n",
    "    - top_n: מספר המילים הנפוצות להצגה\n",
    "    \"\"\"\n",
    "    subset = df[df['status'] == label]\n",
    "\n",
    "    if subset.empty:\n",
    "        print(f\"❗️אין שורות עם התווית '{label}'\")\n",
    "        return\n",
    "\n",
    "    texts = subset['clean_text'].dropna().astype(str)\n",
    "    all_words = ' '.join(texts).split()\n",
    "    word_freq = Counter(all_words)\n",
    "    common_words = word_freq.most_common(top_n)\n",
    "\n",
    "    if not common_words:\n",
    "        print(f\"❗️לא נמצאו מילים עבור התווית '{label}'\")\n",
    "        return\n",
    "\n",
    "    words, counts = zip(*common_words)\n",
    "    plt.figure(figsize=(10,5))\n",
    "    plt.bar(words, counts, color='salmon')\n",
    "    plt.title(f\"Top {top_n} Words in '{label}' Statements\")\n",
    "    plt.xticks(rotation=45)\n",
    "    plt.tight_layout()\n",
    "    plt.show()\n"
   ]
  },
  {
   "cell_type": "code",
   "execution_count": 27,
   "id": "73560a92",
   "metadata": {},
   "outputs": [
    {
     "data": {
      "image/png": "[encoded data removed]",
      "text/plain": [
       "<Figure size 720x360 with 1 Axes>"
      ]
     },
     "metadata": {
      "needs_background": "light"
     },
     "output_type": "display_data"
    },
    {
     "data": {
      "image/png": "[encoded data removed]",
      "text/plain": [
       "<Figure size 720x360 with 1 Axes>"
      ]
     },
     "metadata": {
      "needs_background": "light"
     },
     "output_type": "display_data"
    },
    {
     "data": {
      "image/png": "[encoded data removed]",
      "text/plain": [
       "<Figure size 720x360 with 1 Axes>"
      ]
     },
     "metadata": {
      "needs_background": "light"
     },
     "output_type": "display_data"
    },
    {
     "data": {
      "image/png": "[encoded data removed]",
      "text/plain": [
       "<Figure size 720x360 with 1 Axes>"
      ]
     },
     "metadata": {
      "needs_background": "light"
     },
     "output_type": "display_data"
    },
    {
     "data": {
      "image/png": "[encoded data removed]",
      "text/plain": [
       "<Figure size 720x360 with 1 Axes>"
      ]
     },
     "metadata": {
      "needs_background": "light"
     },
     "output_type": "display_data"
    },
    {
     "data": {
      "image/png": "[encoded data removed]",
      "text/plain": [
       "<Figure size 720x360 with 1 Axes>"
      ]
     },
     "metadata": {
      "needs_background": "light"
     },
     "output_type": "display_data"
    },
    {
     "data": {
      "image/png": "[encoded data removed]",
      "text/plain": [
       "<Figure size 720x360 with 1 Axes>"
      ]
     },
     "metadata": {
      "needs_background": "light"
     },
     "output_type": "display_data"
    }
   ],
   "source": [
    "plot_top_words_by_label(df, \"Stress\")\n",
    "\n",
    "plot_top_words_by_label(df, \"Anxiety\")\n",
    "\n",
    "plot_top_words_by_label(df, \"Bipolar\")\n",
    "\n",
    "plot_top_words_by_label(df, \"Depression\")\n",
    "\n",
    "plot_top_words_by_label(df, \"Normal\")\n",
    "\n",
    "plot_top_words_by_label(df, \"Personality disorder\")\n",
    "\n",
    "plot_top_words_by_label(df, \"Suicidal\")"
   ]
  },
  {
   "cell_type": "code",
   "execution_count": 28,
   "id": "cabb0a6a-7b3e-4e1b-a312-2fe3ec354197",
   "metadata": {},
   "outputs": [
    {
     "name": "stdout",
     "output_type": "stream",
     "text": [
      "\n",
      "Top TF-IDF words for 'Anxiety':\n",
      "im          0.094141\n",
      "anxiety     0.068988\n",
      "ive         0.045738\n",
      "restless    0.043188\n",
      "dont        0.037120\n",
      "like        0.036284\n",
      "feel        0.033791\n",
      "symptom     0.028829\n",
      "heart       0.028121\n",
      "worried     0.027670\n",
      "anxious     0.027485\n",
      "get         0.026460\n",
      "pain        0.025594\n",
      "day         0.025335\n",
      "know        0.025048\n",
      "dtype: float64\n",
      "\n",
      "Top TF-IDF words for 'Normal':\n",
      "im         0.022861\n",
      "dont       0.017596\n",
      "want       0.017506\n",
      "like       0.015269\n",
      "go         0.012349\n",
      "really     0.011978\n",
      "good       0.011624\n",
      "get        0.011096\n",
      "day        0.010801\n",
      "time       0.010377\n",
      "today      0.010148\n",
      "morning    0.009982\n",
      "work       0.009892\n",
      "one        0.009891\n",
      "know       0.009634\n",
      "dtype: float64\n",
      "\n",
      "Top TF-IDF words for 'Depression':\n",
      "feel          0.058782\n",
      "like          0.053527\n",
      "want          0.043668\n",
      "depression    0.040448\n",
      "life          0.038871\n",
      "know          0.036736\n",
      "get           0.034174\n",
      "even          0.030454\n",
      "time          0.030051\n",
      "im            0.029578\n",
      "people        0.029552\n",
      "friend        0.027408\n",
      "day           0.027295\n",
      "thing         0.026986\n",
      "really        0.026743\n",
      "dtype: float64\n",
      "\n",
      "Top TF-IDF words for 'Suicidal':\n",
      "want       0.064679\n",
      "cannot     0.045873\n",
      "life       0.044429\n",
      "feel       0.041276\n",
      "like       0.040624\n",
      "know       0.034831\n",
      "die        0.032885\n",
      "would      0.031557\n",
      "get        0.029285\n",
      "kill       0.028999\n",
      "going      0.028024\n",
      "people     0.027595\n",
      "anymore    0.027197\n",
      "even       0.026321\n",
      "fucking    0.026072\n",
      "dtype: float64\n",
      "\n",
      "Top TF-IDF words for 'Stress':\n",
      "im         0.076726\n",
      "stress     0.057596\n",
      "dont       0.042848\n",
      "like       0.035022\n",
      "ive        0.033269\n",
      "feel       0.032665\n",
      "get        0.030702\n",
      "cant       0.029404\n",
      "time       0.027909\n",
      "know       0.027767\n",
      "work       0.023863\n",
      "help       0.023115\n",
      "anxiety    0.021669\n",
      "day        0.021438\n",
      "even       0.021143\n",
      "dtype: float64\n",
      "\n",
      "Top TF-IDF words for 'Bipolar':\n",
      "im         0.110334\n",
      "bipolar    0.067284\n",
      "ive        0.051912\n",
      "dont       0.046537\n",
      "like       0.042802\n",
      "feel       0.041925\n",
      "episode    0.037209\n",
      "med        0.036568\n",
      "manic      0.033751\n",
      "get        0.031090\n",
      "know       0.030047\n",
      "cant       0.029386\n",
      "time       0.029113\n",
      "anyone     0.028335\n",
      "really     0.027823\n",
      "dtype: float64\n",
      "\n",
      "Top TF-IDF words for 'Personality disorder':\n",
      "im        0.094698\n",
      "avpd      0.079827\n",
      "dont      0.065733\n",
      "like      0.062741\n",
      "people    0.060716\n",
      "feel      0.050434\n",
      "ive       0.037744\n",
      "know      0.034186\n",
      "cant      0.031944\n",
      "even      0.031850\n",
      "friend    0.030498\n",
      "think     0.029510\n",
      "thing     0.027686\n",
      "get       0.027368\n",
      "anyone    0.026863\n",
      "dtype: float64\n"
     ]
    }
   ],
   "source": [
    "from sklearn.feature_extraction.text import TfidfVectorizer\n",
    "import pandas as pd\n",
    "\n",
    "# הסרת שורות עם clean_text חסר\n",
    "df = df.dropna(subset=['clean_text'])\n",
    "\n",
    "# נבנה את הוקטורייזר ונגביל ל-3000 מילים חשובות כדי לשמור על ביצועים טובים\n",
    "tfidf = TfidfVectorizer(max_features=3000)\n",
    "\n",
    "# יצירת מטריצת TF-IDF\n",
    "tfidf_matrix = tfidf.fit_transform(df['clean_text'].astype(str))\n",
    "\n",
    "# הפיכת מטריצת ה-TFIDF לדאטהפריים\n",
    "tfidf_df = pd.DataFrame(tfidf_matrix.toarray(), columns=tfidf.get_feature_names_out())\n",
    "tfidf_df['label'] = df['status'].values\n",
    "\n",
    "# פונקציה שמחזירה את המילים המובחנות ביותר לפי ממוצע TF-IDF בקטגוריה\n",
    "def get_top_tfidf_words_per_label(df_tfidf, label_col, top_n=15):\n",
    "    labels = df_tfidf[label_col].unique()\n",
    "    results = {}\n",
    "\n",
    "    for label in labels:\n",
    "        sub_df = df_tfidf[df_tfidf[label_col] == label].drop(columns=[label_col])\n",
    "        mean_tfidf = sub_df.mean()\n",
    "        top_words = mean_tfidf.sort_values(ascending=False).head(top_n)\n",
    "        results[label] = top_words\n",
    "\n",
    "    return results\n",
    "\n",
    "# הרצת הפונקציה והצגת התוצאה\n",
    "top_tfidf_words = get_top_tfidf_words_per_label(tfidf_df, 'label', top_n=15)\n",
    "\n",
    "# הצגה\n",
    "for label, words in top_tfidf_words.items():\n",
    "    print(f\"\\nTop TF-IDF words for '{label}':\\n{words}\")\n"
   ]
  },
  {
   "cell_type": "markdown",
   "id": "aea895c4-66ef-483b-8fd1-65781ee6970f",
   "metadata": {},
   "source": [
    "בהתבסס על ניתוח ממוצעי ה־TF-IDF, ניתן לראות שלכל קטגוריה יש אוצר מילים מובהק שמופיע בה בתדירות גבוהה יחסית לשאר הקבוצות. לדוגמה, בקטגוריית Suicidal בולטים מילים כמו \"want\", \"die\", \"kill\", ו־\"anymore\" – מילים שמרמזות על מצוקה קשה וחוסר תקווה. ב־Depression בולטים ביטויים כמו \"feel\", \"life\", \"like\", ו־\"friend\", שמצביעים על חוויות של ריקנות, קושי חברתי וירידה במצב הרוח. לעומת זאת, בקטגוריית Normal מופיעות מילים ניטרליות יותר כמו \"good\", \"morning\", ו־\"work\". בקטגוריות כמו Anxiety, Bipolar ו־Stress בולטים ביטויים שמביעים חוסר שקט, התמודדות עם זמן, סימפטומים גופניים או אפיזודות. הפילוח הזה עוזר להבין כיצד מודלים לומדים לזהות את המאפיינים הלשוניים שמבדילים בין המצבים הרגשיים השונים."
   ]
  },
  {
   "cell_type": "markdown",
   "id": "aaa9f2b8-6e44-4034-b4f8-1e2517175f8b",
   "metadata": {},
   "source": [
    "#### שלב 1: חילוק הדאטה והכנת TF-IDF"
   ]
  },
  {
   "cell_type": "code",
   "execution_count": 29,
   "id": "189c7ce8-961f-4f37-ab04-146bd3274b4d",
   "metadata": {},
   "outputs": [],
   "source": [
    "from sklearn.model_selection import train_test_split\n",
    "from sklearn.feature_extraction.text import TfidfVectorizer\n",
    "\n",
    "# חילוק ל־X (טקסט) ו־y (תווית)\n",
    "X = df['clean_text']\n",
    "y = df['status']\n",
    "\n",
    "# פיצול ל־80% אימון ו־20% בדיקה\n",
    "X_train, X_test, y_train, y_test = train_test_split(\n",
    "    X, y, test_size=0.2, random_state=42, stratify=y\n",
    ")\n",
    "\n",
    "# יצירת מטריצת TF-IDF\n",
    "tfidf = TfidfVectorizer(max_features=5000)\n",
    "X_train_tfidf = tfidf.fit_transform(X_train)\n",
    "X_test_tfidf = tfidf.transform(X_test)\n"
   ]
  },
  {
   "cell_type": "markdown",
   "id": "06c66140-10af-44a0-b086-eb76b5990c42",
   "metadata": {},
   "source": [
    "# שלב 2 - אימון מודלים"
   ]
  },
  {
   "cell_type": "markdown",
   "id": "cf1cb581",
   "metadata": {},
   "source": [
    "### מודל NAIVE BAYES"
   ]
  },
  {
   "cell_type": "code",
   "execution_count": 30,
   "id": "e32090fd-863c-480e-835b-52a65382f383",
   "metadata": {},
   "outputs": [
    {
     "name": "stdout",
     "output_type": "stream",
     "text": [
      "Classification Report:\n",
      "\n",
      "                      precision    recall  f1-score   support\n",
      "\n",
      "             Anxiety       0.82      0.59      0.68       723\n",
      "             Bipolar       0.85      0.39      0.53       500\n",
      "          Depression       0.51      0.86      0.64      3638\n",
      "              Normal       0.80      0.69      0.74      3323\n",
      "Personality disorder       1.00      0.04      0.08       179\n",
      "              Stress       0.81      0.03      0.05       459\n",
      "            Suicidal       0.75      0.41      0.53      2128\n",
      "\n",
      "            accuracy                           0.64     10950\n",
      "           macro avg       0.79      0.43      0.47     10950\n",
      "        weighted avg       0.70      0.64      0.61     10950\n",
      "\n",
      "Confusion Matrix:\n",
      "\n",
      "[[ 424    5  196   98    0    0    0]\n",
      " [   8  193  239   58    0    1    1]\n",
      " [  43   17 3129  186    0    0  263]\n",
      " [  13    6  963 2306    0    1   34]\n",
      " [   1    1  143   27    7    0    0]\n",
      " [  28    1  311  104    0   13    2]\n",
      " [   2    3 1123  117    0    1  882]]\n"
     ]
    }
   ],
   "source": [
    "from sklearn.naive_bayes import MultinomialNB\n",
    "from sklearn.metrics import classification_report, confusion_matrix\n",
    "\n",
    "# יצירת והכשרת המודל\n",
    "nb_model = MultinomialNB()\n",
    "nb_model.fit(X_train_tfidf, y_train)\n",
    "\n",
    "# ביצוע ניבוי על קבוצת הטסט\n",
    "y_pred = nb_model.predict(X_test_tfidf)\n",
    "\n",
    "# תצוגת תוצאות\n",
    "print(\"Classification Report:\\n\")\n",
    "print(classification_report(y_test, y_pred))\n",
    "\n",
    "print(\"Confusion Matrix:\\n\")\n",
    "print(confusion_matrix(y_test, y_pred))\n"
   ]
  },
  {
   "cell_type": "markdown",
   "id": "167d65f9-7c85-4ccb-bf55-e7a3f65cbd37",
   "metadata": {},
   "source": [
    "המודל הצליח לזהות טוב יחסית קטגוריות כמו \"Depression\" ו-\"Normal\", אך התקשה באחרות כמו \"Personality disorder\" ו-\"Stress\", שם הדיוק והשליפה נמוכים מאוד. הביצוע הכללי סביר (דיוק כולל של 63%), אך נדרש שיפור משמעותי באיזון בין הקטגוריות."
   ]
  },
  {
   "cell_type": "code",
   "execution_count": 31,
   "id": "3fb0adf1",
   "metadata": {},
   "outputs": [
    {
     "name": "stdout",
     "output_type": "stream",
     "text": [
      "✅ Categories learned by the model: ['Anxiety' 'Bipolar' 'Depression' 'Normal' 'Personality disorder' 'Stress'\n",
      " 'Suicidal']\n",
      "\n",
      "🔍 Predictions on new text samples:\n",
      "\n",
      "Text: I feel amazing and productive today!\n",
      "Predicted state: Normal\n",
      "\n",
      "Text: Nothing makes sense anymore.\n",
      "Predicted state: Depression\n",
      "\n",
      "Text: I'm anxious about everything I do.\n",
      "Predicted state: Depression\n",
      "\n",
      "Text: I want to die\n",
      "Predicted state: Suicidal\n",
      "\n",
      "Text: im very hungry\n",
      "Predicted state: Normal\n",
      "\n"
     ]
    }
   ],
   "source": [
    "#בדיקה\n",
    "\n",
    "# בדיקה 1: הצגת הקטגוריות של המודל\n",
    "print(\"✅ Categories learned by the model:\", nb_model.classes_)\n",
    "\n",
    "# בדיקה 2: ניבוי על טקסטים חדשים\n",
    "texts = [\n",
    "    \"I feel amazing and productive today!\",\n",
    "    \"Nothing makes sense anymore.\",\n",
    "    \"I'm anxious about everything I do.\",\n",
    "    \"I want to die\",\n",
    "    \"im very hungry\"\n",
    "]\n",
    "\n",
    "# וקטוריזציה עם אותו vectorizer ששימש לאימון המודל\n",
    "vectors = tfidf.transform(texts)\n",
    "\n",
    "# חיזוי\n",
    "predictions = nb_model.predict(vectors)\n",
    "\n",
    "# תצוגה\n",
    "print(\"\\n🔍 Predictions on new text samples:\\n\")\n",
    "for text, label in zip(texts, predictions):\n",
    "    print(f\"Text: {text}\\nPredicted state: {label}\\n\")\n"
   ]
  },
  {
   "cell_type": "markdown",
   "id": "c5dc71ff",
   "metadata": {},
   "source": [
    "המודל מסוג Naive Bayes הצליח לזהות ולסווג נכון 7 מצבים נפשיים לאחר איחוד התוויות.\n",
    "הוא זיהה טקסטים חיוביים כ־Normal, טקסטים עם תחושת דכדוך כ־Depression, וטקסטים עם תוכן אובדני כ־Suicidal.\n",
    "למרות מגבלות בדיוק על חלק מהקטגוריות, נראה שהמודל למד דפוסים משמעותיים ומתפקד באופן סביר על טקסטים חדשים."
   ]
  },
  {
   "cell_type": "markdown",
   "id": "56489755",
   "metadata": {},
   "source": [
    "## Logistic Regression מודל "
   ]
  },
  {
   "cell_type": "code",
   "execution_count": 32,
   "id": "dd219324-d2ac-41e0-9483-d429ee104bf8",
   "metadata": {},
   "outputs": [
    {
     "name": "stdout",
     "output_type": "stream",
     "text": [
      "Classification Report:\n",
      "\n",
      "                      precision    recall  f1-score   support\n",
      "\n",
      "             Anxiety       0.80      0.71      0.75       723\n",
      "             Bipolar       0.86      0.59      0.70       500\n",
      "          Depression       0.70      0.76      0.73      3638\n",
      "              Normal       0.79      0.92      0.85      3338\n",
      "Personality disorder       0.89      0.37      0.53       179\n",
      "              Stress       0.66      0.29      0.40       459\n",
      "            Suicidal       0.68      0.60      0.64      2128\n",
      "\n",
      "            accuracy                           0.74     10965\n",
      "           macro avg       0.77      0.61      0.66     10965\n",
      "        weighted avg       0.74      0.74      0.73     10965\n",
      "\n",
      "Confusion Matrix:\n",
      "\n",
      "[[ 513    9   74  111    1   12    3]\n",
      " [  11  296  104   72    3   10    4]\n",
      " [  58   16 2756  255    4   28  521]\n",
      " [  11   16  173 3084    0   11   43]\n",
      " [   6    2   68   25   67    8    3]\n",
      " [  39    2  116  153    0  133   16]\n",
      " [   3    3  636  213    0    1 1272]]\n"
     ]
    }
   ],
   "source": [
    "import pandas as pd\n",
    "from sklearn.feature_extraction.text import TfidfVectorizer\n",
    "from sklearn.linear_model import LogisticRegression\n",
    "from sklearn.model_selection import train_test_split\n",
    "from sklearn.metrics import classification_report, confusion_matrix\n",
    "\n",
    "# שלב 1: טעינת הנתונים\n",
    "df = pd.read_csv(\"C:/Users/97250/Downloads/final_data_.csv\")\n",
    "\n",
    "# תיקון ערכים חסרים\n",
    "df['clean_text'] = df['clean_text'].fillna(\"\")\n",
    "\n",
    "# שלב 2: וקטוריזציה על עמודת הטקסט\n",
    "vectorizer = TfidfVectorizer()\n",
    "X_tfidf = vectorizer.fit_transform(df['clean_text'])\n",
    "y = df['status']\n",
    "\n",
    "# שלב 3: חלוקה ל־Train/Test\n",
    "X_train, X_test, y_train, y_test = train_test_split(\n",
    "    X_tfidf, y, test_size=0.2, random_state=42, stratify=y\n",
    ")\n",
    "\n",
    "# שלב 4: אימון המודל Logistic Regression\n",
    "logreg_model = LogisticRegression(max_iter=1000)\n",
    "logreg_model.fit(X_train, y_train)\n",
    "\n",
    "# שלב 5: תחזית ובחינה\n",
    "y_pred_logreg = logreg_model.predict(X_test)\n",
    "\n",
    "# שלב 6: תצוגת תוצאות\n",
    "print(\"Classification Report:\\n\")\n",
    "print(classification_report(y_test, y_pred_logreg))\n",
    "\n",
    "print(\"Confusion Matrix:\\n\")\n",
    "print(confusion_matrix(y_test, y_pred_logreg))\n"
   ]
  },
  {
   "cell_type": "markdown",
   "id": "1eeee758",
   "metadata": {},
   "source": [
    "המודל הגיע לדיוק כולל של 74%. הקטגוריות שזוהו בצורה הטובה ביותר הן Normal (דיוק של 79% ו־Recall של 92%) ו־Anxiety (F1 של 0.75).\n",
    "עם זאת, בקטגוריות כמו Personality disorder ו־Stress הביצועים נמוכים יחסית, מה שמעיד על קושי בזיהוי תוויות פחות נפוצות.\n",
    "בסך הכול המודל מציג שיפור ניכר לעומת Naive Bayes, עם איזון טוב יותר בין Precision ל־Recall.\n",
    "\n",
    "\n",
    "\n",
    "\n",
    "\n",
    "\n"
   ]
  },
  {
   "cell_type": "code",
   "execution_count": 33,
   "id": "7dd299bd",
   "metadata": {},
   "outputs": [
    {
     "name": "stdout",
     "output_type": "stream",
     "text": [
      "✅ Categories learned by the model: ['Anxiety' 'Bipolar' 'Depression' 'Normal' 'Personality disorder' 'Stress'\n",
      " 'Suicidal']\n",
      "\n",
      "🔍 Predictions on new text samples:\n",
      "\n",
      "Text: I feel amazing and productive today!\n",
      "Predicted state: Normal\n",
      "\n",
      "Text: Nothing makes sense anymore.\n",
      "Predicted state: Depression\n",
      "\n",
      "Text: I'm anxious about everything I do.\n",
      "Predicted state: Anxiety\n",
      "\n",
      "Text: I want to die\n",
      "Predicted state: Suicidal\n",
      "\n",
      "Text: im very hungry\n",
      "Predicted state: Normal\n",
      "\n"
     ]
    }
   ],
   "source": [
    "# ✅ בדיקה 1: הצגת הקטגוריות של המודל\n",
    "print(\"✅ Categories learned by the model:\", logreg_model.classes_)\n",
    "\n",
    "# ✅ בדיקה 2: ניבוי על טקסטים חדשים\n",
    "texts = [\n",
    "    \"I feel amazing and productive today!\",\n",
    "    \"Nothing makes sense anymore.\",\n",
    "    \"I'm anxious about everything I do.\",\n",
    "    \"I want to die\",\n",
    "    \"im very hungry\"\n",
    "]\n",
    "\n",
    "# שימוש באותו vectorizer\n",
    "vectors = vectorizer.transform(texts)\n",
    "\n",
    "# חיזוי\n",
    "predictions = logreg_model.predict(vectors)\n",
    "\n",
    "# תצוגה\n",
    "print(\"\\n🔍 Predictions on new text samples:\\n\")\n",
    "for text, label in zip(texts, predictions):\n",
    "    print(f\"Text: {text}\\nPredicted state: {label}\\n\")\n"
   ]
  },
  {
   "cell_type": "markdown",
   "id": "98fb55f4",
   "metadata": {},
   "source": [
    "## מודל SVM"
   ]
  },
  {
   "cell_type": "code",
   "execution_count": 34,
   "id": "cfa81f85-d096-4705-99e3-beaf966fa8f3",
   "metadata": {},
   "outputs": [
    {
     "name": "stdout",
     "output_type": "stream",
     "text": [
      "Classification Report:\n",
      "\n",
      "                      precision    recall  f1-score   support\n",
      "\n",
      "             Anxiety       0.78      0.76      0.77       723\n",
      "             Bipolar       0.82      0.66      0.73       500\n",
      "          Depression       0.69      0.73      0.71      3638\n",
      "              Normal       0.81      0.90      0.86      3323\n",
      "Personality disorder       0.81      0.40      0.53       179\n",
      "              Stress       0.57      0.32      0.41       459\n",
      "            Suicidal       0.66      0.60      0.63      2128\n",
      "\n",
      "            accuracy                           0.73     10950\n",
      "           macro avg       0.73      0.62      0.66     10950\n",
      "        weighted avg       0.73      0.73      0.73     10950\n",
      "\n",
      "Confusion Matrix:\n",
      "\n",
      "[[ 547   12   70   70    4   16    4]\n",
      " [  17  331   80   51    3   12    6]\n",
      " [  70   31 2660  259    5   32  581]\n",
      " [  17    7  206 2998    3   36   56]\n",
      " [   4    4   70   23   71    5    2]\n",
      " [  42    8  110  133    2  146   18]\n",
      " [   4    9  668  153    0    9 1285]]\n"
     ]
    }
   ],
   "source": [
    "import pandas as pd\n",
    "from sklearn.model_selection import train_test_split\n",
    "from sklearn.feature_extraction.text import TfidfVectorizer\n",
    "from sklearn.svm import LinearSVC\n",
    "from sklearn.metrics import classification_report, confusion_matrix\n",
    "\n",
    "# שלב 1: טעינת הנתונים\n",
    "df = pd.read_csv(\"C:/Users/97250/Downloads/final_data_.csv\")\n",
    "\n",
    "# ניקוי ערכים חסרים\n",
    "df = df.dropna(subset=['clean_text']).reset_index(drop=True)\n",
    "\n",
    "# שלב 2: חלוקת הנתונים\n",
    "X_train_text, X_test_text, y_train, y_test = train_test_split(\n",
    "    df['clean_text'], df['status'], test_size=0.2, random_state=42, stratify=df['status']\n",
    ")\n",
    "\n",
    "# שלב 3: וקטוריזציה (TF-IDF)\n",
    "vectorizer = TfidfVectorizer()\n",
    "X_train_tfidf = vectorizer.fit_transform(X_train_text)\n",
    "X_test_tfidf = vectorizer.transform(X_test_text)\n",
    "\n",
    "# שלב 4: אימון מודל SVM\n",
    "svm_model = LinearSVC(max_iter=5000)\n",
    "svm_model.fit(X_train_tfidf, y_train)\n",
    "\n",
    "# שלב 5: ניבוי והערכת ביצועים\n",
    "y_pred = svm_model.predict(X_test_tfidf)\n",
    "\n",
    "print(\"Classification Report:\\n\")\n",
    "print(classification_report(y_test, y_pred))\n",
    "\n",
    "print(\"Confusion Matrix:\\n\")\n",
    "print(confusion_matrix(y_test, y_pred))\n"
   ]
  },
  {
   "cell_type": "markdown",
   "id": "7abf8d0c",
   "metadata": {},
   "source": [
    "מודל ה־SVM הלינארי הצליח לזהות רגשות ומצבים נפשיים שונים מתוך טקסטים באופן סביר, עם דיוק כולל של כ־73%. הקטגוריות \"Normal\", \"Anxiety\" ו־\"Depression\" קיבלו ציונים טובים יחסית, בעוד שקטגוריות כמו \"Personality disorder\" ו־\"Stress\" היו מאתגרות יותר למודל. בהשוואה למודל הלוגיסטי, התוצאות דומות אך טיפה פחות מדויקות בממוצע."
   ]
  },
  {
   "cell_type": "code",
   "execution_count": 35,
   "id": "cbd7aba4",
   "metadata": {},
   "outputs": [
    {
     "name": "stdout",
     "output_type": "stream",
     "text": [
      "✅ Categories learned by the model: ['Anxiety' 'Bipolar' 'Depression' 'Normal' 'Personality disorder' 'Stress'\n",
      " 'Suicidal']\n",
      "\n",
      "🔍 Predictions on new text samples:\n",
      "\n",
      "Text: I feel amazing and productive today!\n",
      "Predicted state: Normal\n",
      "\n",
      "Text: Nothing makes sense anymore.\n",
      "Predicted state: Depression\n",
      "\n",
      "Text: I'm anxious about everything I do.\n",
      "Predicted state: Anxiety\n",
      "\n",
      "Text: I want to die\n",
      "Predicted state: Suicidal\n",
      "\n",
      "Text: im very hungry\n",
      "Predicted state: Normal\n",
      "\n",
      "Text: I feel so alone and sad\n",
      "Predicted state: Normal\n",
      "\n"
     ]
    }
   ],
   "source": [
    "# בדיקה 1: הצגת הקטגוריות שהמודל למד\n",
    "print(\"✅ Categories learned by the model:\", svm_model.classes_)\n",
    "\n",
    "# בדיקה 2: ניבוי על טקסטים חדשים\n",
    "new_texts = [\n",
    "    \"I feel amazing and productive today!\",\n",
    "    \"Nothing makes sense anymore.\",\n",
    "    \"I'm anxious about everything I do.\",\n",
    "    \"I want to die\",\n",
    "    \"im very hungry\", \n",
    "    \"I feel so alone and sad\"\n",
    "]\n",
    "\n",
    "# המרת הטקסטים לווקטורים באותו אופן כמו באימון\n",
    "new_vectors = vectorizer.transform(new_texts)\n",
    "\n",
    "# חיזוי\n",
    "svm_predictions = svm_model.predict(new_vectors)\n",
    "\n",
    "# תצוגת התחזיות\n",
    "print(\"\\n🔍 Predictions on new text samples:\\n\")\n",
    "for text, label in zip(new_texts, svm_predictions):\n",
    "    print(f\"Text: {text}\\nPredicted state: {label}\\n\")\n"
   ]
  },
  {
   "cell_type": "code",
   "execution_count": null,
   "id": "ab846fec",
   "metadata": {},
   "outputs": [],
   "source": []
  },
  {
   "cell_type": "code",
   "execution_count": 36,
   "id": "28e9ef9c-3131-45e6-aa11-fa8b01c0cb25",
   "metadata": {
    "scrolled": true
   },
   "outputs": [
    {
     "data": {
      "image/png": "[encoded data removed]",
      "text/plain": [
       "<Figure size 720x360 with 1 Axes>"
      ]
     },
     "metadata": {
      "needs_background": "light"
     },
     "output_type": "display_data"
    }
   ],
   "source": [
    "import numpy as np\n",
    "import matplotlib.pyplot as plt\n",
    "\n",
    "# שליפת שמות הפיצ'רים\n",
    "feature_names = tfidf.get_feature_names_out()\n",
    "\n",
    "# חישוב סכום TF-IDF לכל מילה\n",
    "tfidf_sum = np.asarray(X_train_tfidf.sum(axis=0)).flatten()\n",
    "\n",
    "# חיתוך לשם הבטחה ש־tfidf_sum וה־feature_names באותו אורך (למקרה של באג פנימי)\n",
    "tfidf_sum = tfidf_sum[:len(feature_names)]\n",
    "\n",
    "# מספר מילים להצגה\n",
    "top_n = 20\n",
    "\n",
    "# מיון המילים לפי הסכום ובחירת הטופ\n",
    "top_indices = np.argsort(tfidf_sum)[-top_n:]\n",
    "\n",
    "# גרף\n",
    "plt.figure(figsize=(10, 5))\n",
    "plt.barh(range(top_n), tfidf_sum[top_indices], align='center')\n",
    "plt.yticks(range(top_n), [feature_names[i] for i in top_indices])\n",
    "plt.xlabel(\"TF-IDF Score (Summed Over Corpus)\")\n",
    "plt.title(\"Top 20 TF-IDF Words\")\n",
    "plt.tight_layout()\n",
    "plt.show()\n",
    "\n"
   ]
  },
  {
   "cell_type": "markdown",
   "id": "e3fb94f3",
   "metadata": {},
   "source": [
    "הגרף הזה מציג את 20 המילים עם ערך TF-IDF הגבוה ביותר בכל הדאטה – כלומר, המילים שנחשבות הכי מובחנות והכי ייחודיות להקשר שבו הן מופיעות.\n",
    "המילה שמובילה היא torment, ואחריה tea, safe, participant ו־thing. אלו לא בהכרח המילים הכי שכיחות, אלא כאלה שלא חוזרות הרבה בכל הקבוצות, אבל כשהן כן מופיעות – הן מופיעות במשמעות גבוהה בתוך קבוצת טקסטים מסוימת.\n",
    "\n",
    "המטרה כאן היא לזהות מילים שיש להן כוח הבחנה גבוה בין מצבים רגשיים. למשל, מילים כמו psychologist או recovering עשויות להופיע הרבה בטקסטים על החלמה או טיפול, והן לא נפוצות בטקסטים רגילים.\n",
    "\n",
    "הבנה של המילים האלו יכולה לעזור לנו בהמשך לבנות ייצוגים מדויקים יותר, ולהבין איזה מילים \"מסמנות\" רגשות בצורה הכי חדה – וזה חשוב במיוחד כשנרצה לשפר את המודלים שלנו או לנסח תובנות מהדאטה.\n",
    "\n",
    "\n",
    "\n",
    "\n",
    "\n",
    "\n"
   ]
  },
  {
   "cell_type": "markdown",
   "id": "41d70f29",
   "metadata": {},
   "source": [
    "## * בשלב הזה אנחנו משנים את ייצוג הטקסט\n",
    "### * במקום לקחת רק מילים בודדות אנחנו מוסיפים גם צמדי מילים כמו למשל want to', feel bad...\n",
    "### זה מאפשר למודל להבין הקשר חזק יותר בין המילים וזה יכול לשפר את הדיוק במודלים"
   ]
  },
  {
   "cell_type": "markdown",
   "id": "166be9ea",
   "metadata": {},
   "source": [
    "#### יצירת TF-IDF עם n-grams"
   ]
  },
  {
   "cell_type": "code",
   "execution_count": 37,
   "id": "c470b4df",
   "metadata": {},
   "outputs": [],
   "source": [
    "from sklearn.feature_extraction.text import TfidfVectorizer\n",
    "\n",
    "# הגדרת TF-IDF עם n-grams של 1 עד 2 (uni-grams + bi-grams)\n",
    "tfidf = TfidfVectorizer(ngram_range=(1, 2), max_features=5000)\n",
    "\n",
    "# התאמה על טקסט האימון וטרנספורמציה\n",
    "X_train_tfidf = tfidf.fit_transform(X_train_text)\n",
    "X_test_tfidf = tfidf.transform(X_test_text)\n",
    "\n",
    "#הוא בונה וקטור TF-IDF חדש עם:\n",
    "# ngram_range=(1, 2) → כולל גם מילים בודדות (unigrams) וגם זוגות מילים (bigrams).\n",
    "# max_features=5000 → מגביל את מספר המילים/צמדים כדי לשמור על ביצועים.\n",
    "# אחרי זה הוא מתאים את הוקטוריזציה רק על טקסט האימון, ואז ממיר גם את טקסט הבדיקה – כדי שהשדה יהיה מוכן למודל."
   ]
  },
  {
   "cell_type": "code",
   "execution_count": 38,
   "id": "2fef4276",
   "metadata": {},
   "outputs": [
    {
     "name": "stdout",
     "output_type": "stream",
     "text": [
      "Number of features: 5000\n",
      "\n",
      "Sample features:\n",
      "['00' '10' '10 minute' '10 year' '100' '1000' '11' '12' '12 hour'\n",
      " '12 year' '13' '14' '15' '15 year' '16' '16 year' '17' '17 year' '18'\n",
      " '18 year' '19' '19 year' '1st' '20' '20 year' '200' '2016' '2017' '2018'\n",
      " '2019']\n"
     ]
    }
   ],
   "source": [
    "# בדיקה: כמה פיצ'רים נוצרו?\n",
    "print(\"Number of features:\", len(tfidf.get_feature_names_out()))\n",
    "\n",
    "# הצצה ל-30 הפיצ'רים הראשונים\n",
    "print(\"\\nSample features:\")\n",
    "print(tfidf.get_feature_names_out()[:30])\n"
   ]
  },
  {
   "cell_type": "code",
   "execution_count": 39,
   "id": "ab04985e",
   "metadata": {},
   "outputs": [
    {
     "name": "stdout",
     "output_type": "stream",
     "text": [
      "Number of features: 5000\n",
      "\n",
      "Sample features:\n",
      "['00' '10' '10 minute' '10 year' '100' '1000' '11' '12' '12 hour'\n",
      " '12 year' '13' '14' '15' '15 year' '16' '16 year' '17' '17 year' '18'\n",
      " '18 year' '19' '19 year' '1st' '20' '20 year' '200' '2016' '2017' '2018'\n",
      " '2019']\n"
     ]
    }
   ],
   "source": [
    "from sklearn.feature_extraction.text import TfidfVectorizer\n",
    "\n",
    "# וקטוריזציה עם n-grams (unigrams + bigrams)\n",
    "vectorizer = TfidfVectorizer(max_features=5000, ngram_range=(1, 2))\n",
    "X = vectorizer.fit_transform(df['clean_text'])\n",
    "y = df['status']\n",
    "\n",
    "# הדפסה לבדיקה\n",
    "print(\"Number of features:\", X.shape[1])\n",
    "print(\"\\nSample features:\")\n",
    "print(vectorizer.get_feature_names_out()[:30])  # תצוגה של 30 תכונות ראשונות\n"
   ]
  },
  {
   "cell_type": "code",
   "execution_count": 40,
   "id": "39ea5835",
   "metadata": {},
   "outputs": [
    {
     "name": "stdout",
     "output_type": "stream",
     "text": [
      "<class 'sklearn.feature_extraction.text.TfidfVectorizer'>\n"
     ]
    }
   ],
   "source": [
    "print(type(tfidf))\n"
   ]
  },
  {
   "cell_type": "code",
   "execution_count": 41,
   "id": "42f97d92",
   "metadata": {},
   "outputs": [
    {
     "name": "stdout",
     "output_type": "stream",
     "text": [
      "🔤 Sample of meaningful n-gram features:\n",
      "\n",
      "['feel happy' 'like got' 'live anymore' 'destroy' 'child' 'act'\n",
      " 'came back' 'law' 'know probably' 'five' 'laugh' 'antibiotic' 'cry'\n",
      " 'condition' 'new people' 'reason live' 'didnt even' 'pop' 'get high'\n",
      " 'die sleep']\n"
     ]
    }
   ],
   "source": [
    "features = tfidf.get_feature_names_out()\n",
    "\n",
    "import numpy as np\n",
    "np.random.seed(42)\n",
    "sample_words = np.random.choice(features, size=20, replace=False)\n",
    "\n",
    "print(\"🔤 Sample of meaningful n-gram features:\\n\")\n",
    "print(sample_words)\n"
   ]
  },
  {
   "cell_type": "markdown",
   "id": "141da683",
   "metadata": {},
   "source": [
    "## מודל TF-IDF עם LOGISTIC REGRESSION ו N-GRAMS"
   ]
  },
  {
   "cell_type": "code",
   "execution_count": 42,
   "id": "5a82c8b4",
   "metadata": {},
   "outputs": [
    {
     "name": "stdout",
     "output_type": "stream",
     "text": [
      "📊 Logistic Regression with n-grams — Classification Report:\n",
      "\n",
      "                      precision    recall  f1-score   support\n",
      "\n",
      "             Anxiety       0.80      0.73      0.76       723\n",
      "             Bipolar       0.85      0.60      0.70       500\n",
      "          Depression       0.70      0.77      0.73      3638\n",
      "              Normal       0.81      0.92      0.86      3323\n",
      "Personality disorder       0.85      0.35      0.50       179\n",
      "              Stress       0.63      0.30      0.41       459\n",
      "            Suicidal       0.70      0.61      0.65      2128\n",
      "\n",
      "            accuracy                           0.75     10950\n",
      "           macro avg       0.76      0.61      0.66     10950\n",
      "        weighted avg       0.74      0.75      0.74     10950\n",
      "\n",
      "🧱 Confusion Matrix:\n",
      "\n",
      "[[ 526    9   87   83    2   14    2]\n",
      " [  11  302  107   63    4    9    4]\n",
      " [  57   23 2788  240    4   24  502]\n",
      " [  11   10  188 3050    1   19   44]\n",
      " [   6    4   65   27   63   12    2]\n",
      " [  41    6  121  139    0  139   13]\n",
      " [   2    3  653  167    0    3 1300]]\n"
     ]
    }
   ],
   "source": [
    "from sklearn.linear_model import LogisticRegression\n",
    "from sklearn.metrics import classification_report, confusion_matrix\n",
    "from sklearn.feature_extraction.text import TfidfVectorizer\n",
    "\n",
    "# יצירת וקטורייזר עם n-grams\n",
    "vectorizer_ngram = TfidfVectorizer(ngram_range=(1, 2), max_features=5000)\n",
    "\n",
    "# יצירת מטריצות TF-IDF ייעודיות ל־n-grams\n",
    "X_train_tfidf_ngram = vectorizer_ngram.fit_transform(X_train_text)\n",
    "X_test_tfidf_ngram = vectorizer_ngram.transform(X_test_text)\n",
    "\n",
    "\n",
    "# אימון מודל Logistic Regression על TF-IDF עם n-grams\n",
    "logreg_ngram = LogisticRegression(max_iter=1000)\n",
    "logreg_ngram.fit(X_train_tfidf_ngram, y_train)\n",
    "\n",
    "# ניבוי על קבוצת הטסט\n",
    "y_pred_logreg_ngram = logreg_ngram.predict(X_test_tfidf_ngram)\n",
    "\n",
    "# הדפסת ביצועים\n",
    "print(\"📊 Logistic Regression with n-grams — Classification Report:\\n\")\n",
    "print(classification_report(y_test, y_pred_logreg_ngram))\n",
    "\n",
    "print(\"🧱 Confusion Matrix:\\n\")\n",
    "print(confusion_matrix(y_test, y_pred_logreg_ngram))\n"
   ]
  },
  {
   "cell_type": "markdown",
   "id": "b9a494bc",
   "metadata": {},
   "source": [
    "זהו מודל Logistic Regression עם TF-IDF הכולל גם uni-grams וגם bi-grams — כלומר הוא מתחשב גם במילים בודדות וגם בצמדי מילים נפוצים.\n",
    "\n",
    "📈 הביצועים השתפרו מעט לעומת המודל עם uni-grams בלבד, במיוחד בקטגוריות כמו Anxiety, Bipolar ו-Suicidal.\n",
    "\n",
    "📊 הדיוק הכללי (accuracy) של המודל: 75%\n",
    "\n",
    "🧠 המסקנה: שימוש ב־n-grams מוסיף הקשר חשוב לטקסט, ומשפר את יכולת הסיווג, במיוחד כשיש ביטויים קבועים שמעידים על מצב נפשי מסוים."
   ]
  },
  {
   "cell_type": "code",
   "execution_count": 43,
   "id": "5617de7c",
   "metadata": {},
   "outputs": [
    {
     "name": "stdout",
     "output_type": "stream",
     "text": [
      "✅ Categories learned by the model: ['Anxiety' 'Bipolar' 'Depression' 'Normal' 'Personality disorder' 'Stress'\n",
      " 'Suicidal']\n",
      "\n",
      "🔍 Predictions on new text samples:\n",
      "\n",
      "Text: I feel amazing and productive today!\n",
      "Predicted state: Normal\n",
      "\n",
      "Text: Nothing makes sense anymore.\n",
      "Predicted state: Depression\n",
      "\n",
      "Text: I'm anxious about everything I do.\n",
      "Predicted state: Anxiety\n",
      "\n",
      "Text: I want to die\n",
      "Predicted state: Suicidal\n",
      "\n",
      "Text: im very hungry\n",
      "Predicted state: Normal\n",
      "\n"
     ]
    }
   ],
   "source": [
    "# בדיקה 1: קטגוריות שהמודל למד\n",
    "print(\"✅ Categories learned by the model:\", logreg_ngram.classes_)\n",
    "\n",
    "# בדיקה 2: ניבוי על טקסטים חדשים\n",
    "texts = [\n",
    "    \"I feel amazing and productive today!\",\n",
    "    \"Nothing makes sense anymore.\",\n",
    "    \"I'm anxious about everything I do.\",\n",
    "    \"I want to die\",\n",
    "    \"im very hungry\"\n",
    "]\n",
    "\n",
    "# וקטוריזציה עם אותו vectorizer n-gram\n",
    "vectors = vectorizer_ngram.transform(texts)\n",
    "\n",
    "# חיזוי\n",
    "predictions = logreg_ngram.predict(vectors)\n",
    "\n",
    "# תצוגה\n",
    "print(\"\\n🔍 Predictions on new text samples:\\n\")\n",
    "for text, label in zip(texts, predictions):\n",
    "    print(f\"Text: {text}\\nPredicted state: {label}\\n\")\n"
   ]
  },
  {
   "cell_type": "markdown",
   "id": "ed17978b",
   "metadata": {},
   "source": [
    "## random forest מודל"
   ]
  },
  {
   "cell_type": "code",
   "execution_count": 44,
   "id": "6511dbea",
   "metadata": {
    "scrolled": true
   },
   "outputs": [
    {
     "name": "stdout",
     "output_type": "stream",
     "text": [
      "📊 Random Forest — Classification Report:\n",
      "\n",
      "                      precision    recall  f1-score   support\n",
      "\n",
      "             Anxiety       0.85      0.54      0.66       723\n",
      "             Bipolar       0.95      0.34      0.50       500\n",
      "          Depression       0.57      0.85      0.68      3638\n",
      "              Normal       0.83      0.90      0.86      3323\n",
      "Personality disorder       0.85      0.06      0.11       179\n",
      "              Stress       0.77      0.07      0.13       459\n",
      "            Suicidal       0.70      0.40      0.51      2128\n",
      "\n",
      "            accuracy                           0.69     10950\n",
      "           macro avg       0.79      0.45      0.49     10950\n",
      "        weighted avg       0.72      0.69      0.66     10950\n",
      "\n",
      "🧱 Confusion Matrix:\n",
      "\n",
      "[[ 389    0  261   66    0    2    5]\n",
      " [  10  171  271   43    0    2    3]\n",
      " [  19    5 3099  200    0    2  313]\n",
      " [  12    2  299 2983    2    3   22]\n",
      " [   3    0  143   22   11    0    0]\n",
      " [  21    0  310   83    0   33   12]\n",
      " [   1    2 1073  207    0    1  844]]\n"
     ]
    }
   ],
   "source": [
    "from sklearn.ensemble import RandomForestClassifier\n",
    "from sklearn.metrics import classification_report, confusion_matrix\n",
    "\n",
    "# יצירת המודל\n",
    "rf_model = RandomForestClassifier(n_estimators=100, random_state=42)\n",
    "\n",
    "# אימון\n",
    "rf_model.fit(X_train_tfidf_ngram, y_train)\n",
    "\n",
    "# חיזוי\n",
    "y_pred_rf = rf_model.predict(X_test_tfidf_ngram)\n",
    "\n",
    "# תוצאות\n",
    "print(\"📊 Random Forest — Classification Report:\\n\")\n",
    "print(classification_report(y_test, y_pred_rf))\n",
    "\n",
    "print(\"🧱 Confusion Matrix:\\n\")\n",
    "print(confusion_matrix(y_test, y_pred_rf))\n"
   ]
  },
  {
   "cell_type": "markdown",
   "id": "0c174be2",
   "metadata": {},
   "source": [
    "המודל משתמש בעצי החלטה מרובים כדי לבצע סיווג על טקסטים, תוך התבססות על תכונות n-gram מהטקסטים (מילים בודדות וצמדי מילים).\n",
    "\n",
    "✅ תובנות עיקריות מהביצועים:\n",
    "דיוק כללי (accuracy): 69%\n",
    "\n",
    "קטגוריות כמו Depression ו־Normal זוהו טוב מאוד (recall גבוה).\n",
    "\n",
    "לעומת זאת, לקטגוריות כמו Personality disorder ו־Stress יש recall נמוך — כלומר המודל פחות מצליח לזהות אותן נכון.\n",
    "\n",
    "🟡 מסקנה:\n",
    "Random Forest מצליח לזהות קטגוריות שכיחות אך מתקשה עם קטגוריות נדירות או דומות. הוא פחות מתאים כשיש הרבה תוויות לא מאוזנות, כמו כאן."
   ]
  },
  {
   "cell_type": "code",
   "execution_count": 45,
   "id": "3d2008b6",
   "metadata": {},
   "outputs": [
    {
     "name": "stdout",
     "output_type": "stream",
     "text": [
      "✅ Categories learned by the model: ['Anxiety' 'Bipolar' 'Depression' 'Normal' 'Personality disorder' 'Stress'\n",
      " 'Suicidal']\n",
      "\n",
      "🔍 Predictions on new text samples:\n",
      "\n",
      "Text: I feel amazing and productive today!\n",
      "Predicted state: Normal\n",
      "\n",
      "Text: Nothing makes sense anymore.\n",
      "Predicted state: Normal\n",
      "\n",
      "Text: I'm anxious about everything I do.\n",
      "Predicted state: Anxiety\n",
      "\n",
      "Text: I want to die\n",
      "Predicted state: Normal\n",
      "\n",
      "Text: im very hungry\n",
      "Predicted state: Normal\n",
      "\n"
     ]
    }
   ],
   "source": [
    "# בדיקה 1: הצגת הקטגוריות שהמודל למד\n",
    "print(\"✅ Categories learned by the model:\", rf_model.classes_)\n",
    "\n",
    "# בדיקה 2: ניבוי על טקסטים חדשים\n",
    "texts = [\n",
    "    \"I feel amazing and productive today!\",\n",
    "    \"Nothing makes sense anymore.\",\n",
    "    \"I'm anxious about everything I do.\",\n",
    "    \"I want to die\",\n",
    "    \"im very hungry\"\n",
    "]\n",
    "\n",
    "# טרנספורמציה ל־n-grams\n",
    "vectors = vectorizer_ngram.transform(texts)\n",
    "\n",
    "# חיזוי\n",
    "predictions = rf_model.predict(vectors)\n",
    "\n",
    "# תצוגת תוצאות\n",
    "print(\"\\n🔍 Predictions on new text samples:\\n\")\n",
    "for text, label in zip(texts, predictions):\n",
    "    print(f\"Text: {text}\\nPredicted state: {label}\\n\")\n"
   ]
  },
  {
   "cell_type": "markdown",
   "id": "521a73f3",
   "metadata": {},
   "source": [
    "המודל לא מספיק רגיש לזיהוי תכנים חמורים כמו דיכאון והתאבדות. זה מחזק את מה שראינו בדו\"ח — ה־recall עבור Suicidal נמוך, והמודל נוטה \"לשחק על בטוח\" ולתייג כ־Normal."
   ]
  },
  {
   "cell_type": "markdown",
   "id": "4051a08e",
   "metadata": {},
   "source": [
    "## xgboost מודל"
   ]
  },
  {
   "cell_type": "code",
   "execution_count": 46,
   "id": "d83ec8b2",
   "metadata": {},
   "outputs": [
    {
     "name": "stderr",
     "output_type": "stream",
     "text": [
      "C:\\Users\\97250\\anaconda3\\Lib\\site-packages\\xgboost\\training.py:183: UserWarning: [15:04:32] WARNING: C:\\actions-runner\\_work\\xgboost\\xgboost\\src\\learner.cc:738: \n",
      "Parameters: { \"use_label_encoder\" } are not used.\n",
      "\n",
      "  bst.update(dtrain, iteration=i, fobj=obj)\n"
     ]
    },
    {
     "name": "stdout",
     "output_type": "stream",
     "text": [
      "📊 XGBoost — Classification Report:\n",
      "\n",
      "                      precision    recall  f1-score   support\n",
      "\n",
      "             Anxiety       0.80      0.76      0.78       723\n",
      "             Bipolar       0.86      0.68      0.76       500\n",
      "          Depression       0.71      0.77      0.74      3638\n",
      "              Normal       0.82      0.91      0.87      3323\n",
      "Personality disorder       0.90      0.41      0.57       179\n",
      "              Stress       0.61      0.39      0.48       459\n",
      "            Suicidal       0.70      0.61      0.65      2128\n",
      "\n",
      "            accuracy                           0.76     10950\n",
      "           macro avg       0.77      0.65      0.69     10950\n",
      "        weighted avg       0.75      0.76      0.75     10950\n",
      "\n",
      "🧱 Confusion Matrix:\n",
      "\n",
      "[[ 550    9   74   71    0   16    3]\n",
      " [  10  339   89   38    0   18    6]\n",
      " [  51   25 2796  217    4   25  520]\n",
      " [  20   12  180 3037    2   51   21]\n",
      " [   9    1   68   21   74    5    1]\n",
      " [  44    5  119   98    2  181   10]\n",
      " [   5    4  611  200    0    3 1305]]\n"
     ]
    }
   ],
   "source": [
    "import xgboost as xgb\n",
    "from sklearn.feature_extraction.text import TfidfVectorizer\n",
    "from sklearn.preprocessing import LabelEncoder\n",
    "from sklearn.metrics import classification_report, confusion_matrix\n",
    "\n",
    "# הכנת הווקטוריזציה\n",
    "vectorizer = TfidfVectorizer(max_features=5000)\n",
    "X = vectorizer.fit_transform(df['clean_text'])\n",
    "\n",
    "# קידוד התוויות מספרית\n",
    "label_encoder = LabelEncoder()\n",
    "y_encoded = label_encoder.fit_transform(df['status'])\n",
    "labels_mapping = dict(zip(label_encoder.classes_, label_encoder.transform(label_encoder.classes_)))\n",
    "\n",
    "# פיצול ל־train/test\n",
    "from sklearn.model_selection import train_test_split\n",
    "X_train, X_test, y_train, y_test = train_test_split(\n",
    "    X, y_encoded, test_size=0.2, random_state=42, stratify=y_encoded\n",
    ")\n",
    "\n",
    "# בניית המודל\n",
    "xgb_model = xgb.XGBClassifier(use_label_encoder=False, eval_metric='mlogloss')\n",
    "xgb_model.fit(X_train, y_train)\n",
    "\n",
    "# חיזוי על סט הבדיקה\n",
    "y_pred_xgb_numeric = xgb_model.predict(X_test)\n",
    "\n",
    "# המרת חיזוי ממספרים לטקסט\n",
    "reverse_labels = {v: k for k, v in labels_mapping.items()}\n",
    "y_pred_xgb = [reverse_labels[int(i)] for i in y_pred_xgb_numeric]\n",
    "y_test_labels = [reverse_labels[int(i)] for i in y_test]\n",
    "\n",
    "# הדפסת ביצועים\n",
    "print(\"📊 XGBoost — Classification Report:\\n\")\n",
    "print(classification_report(y_test_labels, y_pred_xgb))\n",
    "\n",
    "print(\"🧱 Confusion Matrix:\\n\")\n",
    "print(confusion_matrix(y_test_labels, y_pred_xgb))\n"
   ]
  },
  {
   "cell_type": "markdown",
   "id": "dbb33ea5",
   "metadata": {},
   "source": [
    "המודל הזה מציג תוצאות יציבות מאוד — דומה ל־SVM ול־Logistic עם n-grams. הוא טוב בזיהוי רגשות נפוצים, אך עדיין פחות מדויק בתוויות הפחות שכיחות."
   ]
  },
  {
   "cell_type": "code",
   "execution_count": 47,
   "id": "e8548f9b",
   "metadata": {},
   "outputs": [
    {
     "name": "stdout",
     "output_type": "stream",
     "text": [
      "✅ Categories learned by the model: ['Anxiety' 'Bipolar' 'Depression' 'Normal' 'Personality disorder' 'Stress'\n",
      " 'Suicidal']\n",
      "\n",
      "🔍 Predictions on new text samples:\n",
      "\n",
      "Text: I feel amazing and productive today!\n",
      "Predicted state: Normal\n",
      "\n",
      "Text: Nothing makes sense anymore.\n",
      "Predicted state: Normal\n",
      "\n",
      "Text: I'm anxious about everything I do.\n",
      "Predicted state: Anxiety\n",
      "\n",
      "Text: I want to die\n",
      "Predicted state: Normal\n",
      "\n",
      "Text: I'm very hungry\n",
      "Predicted state: Normal\n",
      "\n"
     ]
    }
   ],
   "source": [
    "# ✅ בדיקה 1: הצגת הקטגוריות שהמודל למד\n",
    "print(\"✅ Categories learned by the model:\", label_encoder.classes_)\n",
    "\n",
    "# ✅ בדיקה 2: ניבוי על טקסטים חדשים\n",
    "texts = [\n",
    "    \"I feel amazing and productive today!\",\n",
    "    \"Nothing makes sense anymore.\",\n",
    "    \"I'm anxious about everything I do.\",\n",
    "    \"I want to die\",\n",
    "    \"I'm very hungry\"\n",
    "]\n",
    "\n",
    "# טרנספורמציה ל־TF-IDF באותו vectorizer\n",
    "vectors = vectorizer.transform(texts)\n",
    "\n",
    "# חיזוי\n",
    "predictions_numeric = xgb_model.predict(vectors)\n",
    "predictions_text = [reverse_labels[int(p)] for p in predictions_numeric]\n",
    "\n",
    "# תצוגת התוצאות\n",
    "print(\"\\n🔍 Predictions on new text samples:\\n\")\n",
    "for text, label in zip(texts, predictions_text):\n",
    "    print(f\"Text: {text}\\nPredicted state: {label}\\n\")\n"
   ]
  },
  {
   "cell_type": "markdown",
   "id": "9736a80b",
   "metadata": {},
   "source": [
    "הבדיקה מראה שהמודל של XGBoost מצליח לזהות חלק מהמצבים (כמו Anxiety), אבל יש לו נטייה לסווג משפטים קיצוניים כמו \"I want to die\" כ־Normal — וזה עלול להעיד שהוא לא רגיש מספיק לתחביר מסוכן או למילות מפתח של מצבים חמורים."
   ]
  },
  {
   "cell_type": "code",
   "execution_count": null,
   "id": "deadb1b0",
   "metadata": {},
   "outputs": [],
   "source": []
  },
  {
   "cell_type": "markdown",
   "id": "a2876628",
   "metadata": {},
   "source": [
    "### סיכום השוואה בין המודלים"
   ]
  },
  {
   "cell_type": "markdown",
   "id": "caadfd13",
   "metadata": {},
   "source": [
    "במהלך העבודה ניסינו לסווג טקסטים לפי מצב נפשי (כמו דיכאון, חרדה, מחשבות אובדניות ועוד) בעזרת כמה מודלים של למידת מכונה. השתמשנו בטכניקת TF-IDF כדי להמיר את הטקסטים למספרים, ובדקנו כמה סוגי מודלים: לוגיסטיק רגרשן, SVM, Random Forest, XGBoost, וגם ניסינו גרסה עם n-grams (צירופים של מילים) כדי לראות אם זה משפר תוצאות.\n",
    "\n",
    "📊 התוצאות המרכזיות:\n",
    "\n",
    "SVM עם n-grams הגיע לתוצאה הכי טובה עם דיוק כולל של כ־76%.\n",
    "\n",
    "גם לוגיסטיק רגרשן עם n-grams עבד מצוין, עם דיוק דומה.\n",
    "\n",
    "XGBoost היה טוב, אבל לא בלט במיוחד.\n",
    "\n",
    "Random Forest נתן תוצאות פחות טובות, במיוחד בזיהוי מצבים פחות נפוצים כמו \"הפרעת אישיות\" או \"סטרס\".\n",
    "\n",
    "🧠 מה זה אומר בפועל?\n",
    "ככל שהמודל הצליח לדייק יותר בזיהוי המצב האמיתי של האדם מהטקסט – כך הוא מתאים יותר לשימוש עתידי, למשל כדי לעזור בזיהוי מוקדם של מצוקה נפשית. השימוש ב־n-grams שיפר את התוצאות כמעט בכל המודלים – כלומר, להבין צירופים של מילים ולא רק מילים בודדות עוזר מאוד בהבנת הטקסט.\n",
    "\n",
    "בסיכום, מצאנו ששיטות פשוטות יחסית, כמו SVM עם n-grams, מסוגלות להגיע לביצועים מרשימים גם בלי להשתמש במודלים כבדים כמו BERT.\n",
    "\n"
   ]
  },
  {
   "cell_type": "code",
   "execution_count": null,
   "id": "d5334566",
   "metadata": {},
   "outputs": [],
   "source": []
  },
  {
   "cell_type": "markdown",
   "id": "9840ec7d",
   "metadata": {},
   "source": [
    "## BERT"
   ]
  },
  {
   "cell_type": "code",
   "execution_count": 55,
   "id": "468053b6",
   "metadata": {},
   "outputs": [
    {
     "name": "stdout",
     "output_type": "stream",
     "text": [
      "Requirement already satisfied: transformers in c:\\users\\97250\\anaconda3\\lib\\site-packages (4.52.4)\n",
      "Requirement already satisfied: filelock in c:\\users\\97250\\anaconda3\\lib\\site-packages (from transformers) (3.9.0)\n",
      "Requirement already satisfied: huggingface-hub<1.0,>=0.30.0 in c:\\users\\97250\\appdata\\roaming\\python\\python311\\site-packages (from transformers) (0.32.4)\n",
      "Requirement already satisfied: numpy>=1.17 in c:\\users\\97250\\anaconda3\\lib\\site-packages (from transformers) (1.26.4)\n",
      "Requirement already satisfied: packaging>=20.0 in c:\\users\\97250\\anaconda3\\lib\\site-packages (from transformers) (23.1)\n",
      "Requirement already satisfied: pyyaml>=5.1 in c:\\users\\97250\\anaconda3\\lib\\site-packages (from transformers) (6.0.2)\n",
      "Requirement already satisfied: regex!=2019.12.17 in c:\\users\\97250\\anaconda3\\lib\\site-packages (from transformers) (2024.11.6)\n",
      "Requirement already satisfied: requests in c:\\users\\97250\\anaconda3\\lib\\site-packages (from transformers) (2.32.3)\n",
      "Requirement already satisfied: tokenizers<0.22,>=0.21 in c:\\users\\97250\\appdata\\roaming\\python\\python311\\site-packages (from transformers) (0.21.1)\n",
      "Requirement already satisfied: safetensors>=0.4.3 in c:\\users\\97250\\anaconda3\\lib\\site-packages (from transformers) (0.5.3)\n",
      "Requirement already satisfied: tqdm>=4.27 in c:\\users\\97250\\anaconda3\\lib\\site-packages (from transformers) (4.67.1)\n",
      "Requirement already satisfied: fsspec>=2023.5.0 in c:\\users\\97250\\anaconda3\\lib\\site-packages (from huggingface-hub<1.0,>=0.30.0->transformers) (2023.10.0)\n",
      "Requirement already satisfied: typing-extensions>=3.7.4.3 in c:\\users\\97250\\anaconda3\\lib\\site-packages (from huggingface-hub<1.0,>=0.30.0->transformers) (4.14.0)\n",
      "Requirement already satisfied: colorama in c:\\users\\97250\\anaconda3\\lib\\site-packages (from tqdm>=4.27->transformers) (0.4.6)\n",
      "Requirement already satisfied: charset-normalizer<4,>=2 in c:\\users\\97250\\anaconda3\\lib\\site-packages (from requests->transformers) (2.0.4)\n",
      "Requirement already satisfied: idna<4,>=2.5 in c:\\users\\97250\\anaconda3\\lib\\site-packages (from requests->transformers) (3.4)\n",
      "Requirement already satisfied: urllib3<3,>=1.21.1 in c:\\users\\97250\\anaconda3\\lib\\site-packages (from requests->transformers) (2.4.0)\n",
      "Requirement already satisfied: certifi>=2017.4.17 in c:\\users\\97250\\anaconda3\\lib\\site-packages (from requests->transformers) (2023.11.17)\n",
      "Note: you may need to restart the kernel to use updated packages.\n"
     ]
    }
   ],
   "source": [
    "pip install --user --upgrade transformers\n"
   ]
  },
  {
   "cell_type": "code",
   "execution_count": 57,
   "id": "abd393fc",
   "metadata": {},
   "outputs": [
    {
     "name": "stdout",
     "output_type": "stream",
     "text": [
      "Requirement already satisfied: evaluate in c:\\users\\97250\\anaconda3\\lib\\site-packages (0.4.3)\n",
      "Requirement already satisfied: datasets>=2.0.0 in c:\\users\\97250\\anaconda3\\lib\\site-packages (from evaluate) (3.6.0)\n",
      "Requirement already satisfied: numpy>=1.17 in c:\\users\\97250\\anaconda3\\lib\\site-packages (from evaluate) (1.26.4)\n",
      "Requirement already satisfied: dill in c:\\users\\97250\\anaconda3\\lib\\site-packages (from evaluate) (0.3.6)\n",
      "Requirement already satisfied: pandas in c:\\users\\97250\\anaconda3\\lib\\site-packages (from evaluate) (2.3.0)\n",
      "Requirement already satisfied: requests>=2.19.0 in c:\\users\\97250\\anaconda3\\lib\\site-packages (from evaluate) (2.32.3)\n",
      "Requirement already satisfied: tqdm>=4.62.1 in c:\\users\\97250\\anaconda3\\lib\\site-packages (from evaluate) (4.67.1)\n",
      "Requirement already satisfied: xxhash in c:\\users\\97250\\anaconda3\\lib\\site-packages (from evaluate) (2.0.2)\n",
      "Requirement already satisfied: multiprocess in c:\\users\\97250\\anaconda3\\lib\\site-packages (from evaluate) (0.70.14)\n",
      "Requirement already satisfied: fsspec[http]>=2021.05.0 in c:\\users\\97250\\anaconda3\\lib\\site-packages (from evaluate) (2023.10.0)\n",
      "Requirement already satisfied: huggingface-hub>=0.7.0 in c:\\users\\97250\\appdata\\roaming\\python\\python311\\site-packages (from evaluate) (0.32.4)\n",
      "Requirement already satisfied: packaging in c:\\users\\97250\\anaconda3\\lib\\site-packages (from evaluate) (23.1)\n",
      "Requirement already satisfied: filelock in c:\\users\\97250\\anaconda3\\lib\\site-packages (from datasets>=2.0.0->evaluate) (3.9.0)\n",
      "Requirement already satisfied: pyarrow>=15.0.0 in c:\\users\\97250\\anaconda3\\lib\\site-packages (from datasets>=2.0.0->evaluate) (20.0.0)\n",
      "Requirement already satisfied: pyyaml>=5.1 in c:\\users\\97250\\anaconda3\\lib\\site-packages (from datasets>=2.0.0->evaluate) (6.0.2)\n",
      "Requirement already satisfied: aiohttp!=4.0.0a0,!=4.0.0a1 in c:\\users\\97250\\anaconda3\\lib\\site-packages (from fsspec[http]>=2021.05.0->evaluate) (3.8.5)\n",
      "Requirement already satisfied: typing-extensions>=3.7.4.3 in c:\\users\\97250\\anaconda3\\lib\\site-packages (from huggingface-hub>=0.7.0->evaluate) (4.14.0)\n",
      "Requirement already satisfied: charset-normalizer<4,>=2 in c:\\users\\97250\\anaconda3\\lib\\site-packages (from requests>=2.19.0->evaluate) (2.0.4)\n",
      "Requirement already satisfied: idna<4,>=2.5 in c:\\users\\97250\\anaconda3\\lib\\site-packages (from requests>=2.19.0->evaluate) (3.4)\n",
      "Requirement already satisfied: urllib3<3,>=1.21.1 in c:\\users\\97250\\anaconda3\\lib\\site-packages (from requests>=2.19.0->evaluate) (2.4.0)\n",
      "Requirement already satisfied: certifi>=2017.4.17 in c:\\users\\97250\\anaconda3\\lib\\site-packages (from requests>=2.19.0->evaluate) (2023.11.17)\n",
      "Requirement already satisfied: colorama in c:\\users\\97250\\anaconda3\\lib\\site-packages (from tqdm>=4.62.1->evaluate) (0.4.6)\n",
      "Requirement already satisfied: python-dateutil>=2.8.2 in c:\\users\\97250\\anaconda3\\lib\\site-packages (from pandas->evaluate) (2.9.0.post0)\n",
      "Requirement already satisfied: pytz>=2020.1 in c:\\users\\97250\\anaconda3\\lib\\site-packages (from pandas->evaluate) (2025.2)\n",
      "Requirement already satisfied: tzdata>=2022.7 in c:\\users\\97250\\anaconda3\\lib\\site-packages (from pandas->evaluate) (2025.2)\n",
      "Requirement already satisfied: attrs>=17.3.0 in c:\\users\\97250\\anaconda3\\lib\\site-packages (from aiohttp!=4.0.0a0,!=4.0.0a1->fsspec[http]>=2021.05.0->evaluate) (22.1.0)\n",
      "Requirement already satisfied: multidict<7.0,>=4.5 in c:\\users\\97250\\anaconda3\\lib\\site-packages (from aiohttp!=4.0.0a0,!=4.0.0a1->fsspec[http]>=2021.05.0->evaluate) (6.0.2)\n",
      "Requirement already satisfied: async-timeout<5.0,>=4.0.0a3 in c:\\users\\97250\\anaconda3\\lib\\site-packages (from aiohttp!=4.0.0a0,!=4.0.0a1->fsspec[http]>=2021.05.0->evaluate) (4.0.2)\n",
      "Requirement already satisfied: yarl<2.0,>=1.0 in c:\\users\\97250\\anaconda3\\lib\\site-packages (from aiohttp!=4.0.0a0,!=4.0.0a1->fsspec[http]>=2021.05.0->evaluate) (1.8.1)\n",
      "Requirement already satisfied: frozenlist>=1.1.1 in c:\\users\\97250\\anaconda3\\lib\\site-packages (from aiohttp!=4.0.0a0,!=4.0.0a1->fsspec[http]>=2021.05.0->evaluate) (1.3.3)\n",
      "Requirement already satisfied: aiosignal>=1.1.2 in c:\\users\\97250\\anaconda3\\lib\\site-packages (from aiohttp!=4.0.0a0,!=4.0.0a1->fsspec[http]>=2021.05.0->evaluate) (1.2.0)\n",
      "Requirement already satisfied: six>=1.5 in c:\\users\\97250\\anaconda3\\lib\\site-packages (from python-dateutil>=2.8.2->pandas->evaluate) (1.17.0)\n"
     ]
    }
   ],
   "source": [
    "!pip install --user evaluate\n"
   ]
  },
  {
   "cell_type": "code",
   "execution_count": 58,
   "id": "887d196e",
   "metadata": {},
   "outputs": [],
   "source": [
    "from evaluate import load as load_metric     # חדש\n",
    "from datasets import Dataset                 # עדיין צריך את Dataset\n"
   ]
  },
  {
   "cell_type": "code",
   "execution_count": 59,
   "id": "0e0fee46",
   "metadata": {},
   "outputs": [
    {
     "data": {
      "application/vnd.jupyter.widget-view+json": {
       "model_id": "fb8d2c3cd7ae499a905fba03419d6f06",
       "version_major": 2,
       "version_minor": 0
      },
      "text/plain": [
       "Downloading builder script:   0%|          | 0.00/4.20k [00:00<?, ?B/s]"
      ]
     },
     "metadata": {},
     "output_type": "display_data"
    }
   ],
   "source": [
    "metric = load_metric(\"accuracy\")\n"
   ]
  },
  {
   "cell_type": "code",
   "execution_count": 60,
   "id": "60e5ed66",
   "metadata": {},
   "outputs": [
    {
     "name": "stdout",
     "output_type": "stream",
     "text": [
      "✅ Labels mapping: {'Anxiety': 0, 'Normal': 1, 'Depression': 2, 'Suicidal': 3, 'Stress': 4, 'Bipolar': 5, 'Personality disorder': 6}\n",
      "Total rows: 54824\n"
     ]
    }
   ],
   "source": [
    "# —— 2. טעינת הקובץ (התאימי נתיב אם צריך) ——\n",
    "df = pd.read_csv(\"final_data_.csv\")   # או נתיב מלא: r\"C:\\Users\\...\\final_data_.csv\"\n",
    "\n",
    "# —— 2.1 מיפוי תוויות ↔ מספרים ——\n",
    "label_list = df[\"status\"].unique().tolist()\n",
    "label2id = {label: i for i, label in enumerate(label_list)}\n",
    "id2label = {i: label for label, i in label2id.items()}\n",
    "df[\"label\"] = df[\"status\"].map(label2id)\n",
    "\n",
    "print(\"✅ Labels mapping:\", label2id)\n",
    "print(\"Total rows:\", len(df))\n"
   ]
  },
  {
   "cell_type": "code",
   "execution_count": 61,
   "id": "721d26c3",
   "metadata": {},
   "outputs": [
    {
     "name": "stdout",
     "output_type": "stream",
     "text": [
      "Train subset: 2000\n",
      "Test  subset: 500\n"
     ]
    }
   ],
   "source": [
    "from sklearn.model_selection import train_test_split\n",
    "\n",
    "train_df, test_df = train_test_split(\n",
    "    df, test_size=0.1, random_state=42, stratify=df[\"label\"]\n",
    ")\n",
    "\n",
    "# נבחר עד 2,000 דוגמאות לאימון ו-500 לבדיקה (או פחות אם אין)\n",
    "n_train = min(2000, len(train_df))\n",
    "n_test  = min(500,  len(test_df))\n",
    "train_df = train_df.sample(n=n_train, random_state=42)\n",
    "test_df  = test_df.sample(n=n_test,  random_state=42)\n",
    "\n",
    "print(\"Train subset:\", len(train_df))\n",
    "print(\"Test  subset:\", len(test_df))\n"
   ]
  },
  {
   "cell_type": "code",
   "execution_count": 63,
   "id": "a43055b9",
   "metadata": {},
   "outputs": [
    {
     "data": {
      "application/vnd.jupyter.widget-view+json": {
       "model_id": "da7deae802d04cb1932b65deac1b1f06",
       "version_major": 2,
       "version_minor": 0
      },
      "text/plain": [
       "Tokenizing train:   0%|          | 0/2000 [00:00<?, ? examples/s]"
      ]
     },
     "metadata": {},
     "output_type": "display_data"
    },
    {
     "data": {
      "application/vnd.jupyter.widget-view+json": {
       "model_id": "fc5923c1f2ec4dfba8ad9691b490e4c1",
       "version_major": 2,
       "version_minor": 0
      },
      "text/plain": [
       "Tokenizing test:   0%|          | 0/500 [00:00<?, ? examples/s]"
      ]
     },
     "metadata": {},
     "output_type": "display_data"
    }
   ],
   "source": [
    "# —— 4. המרה ל-datasets.Dataset + טוקניזציה ——  \n",
    "\n",
    "# 4.0 ודא שכל clean_text הוא מחרוזת ולא NaN\n",
    "train_df[\"clean_text\"] = train_df[\"clean_text\"].fillna(\"\").astype(str)\n",
    "test_df[\"clean_text\"]  = test_df[\"clean_text\"].fillna(\"\").astype(str)\n",
    "\n",
    "# המרת pandas → datasets\n",
    "from datasets import Dataset\n",
    "from transformers import BertTokenizerFast\n",
    "\n",
    "train_ds = Dataset.from_pandas(train_df[[\"clean_text\", \"label\"]])\n",
    "test_ds  = Dataset.from_pandas(test_df[[\"clean_text\", \"label\"]])\n",
    "\n",
    "# טעינת הטוקניזר\n",
    "tokenizer = BertTokenizerFast.from_pretrained(\"bert-base-uncased\")\n",
    "\n",
    "# פונקציית טוקניזציה\n",
    "def tokenize_fn(batch):\n",
    "    return tokenizer(\n",
    "        batch[\"clean_text\"],          # הרשימה כבר כולה str\n",
    "        padding=\"max_length\",\n",
    "        truncation=True,\n",
    "        max_length=128,\n",
    "    )\n",
    "\n",
    "# החלה על כל הדאטהסטים\n",
    "train_ds = train_ds.map(tokenize_fn, batched=True, desc=\"Tokenizing train\")\n",
    "test_ds  = test_ds.map(tokenize_fn,  batched=True, desc=\"Tokenizing test\")\n",
    "\n",
    "# הגדרת פורמט לטנזורים (PyTorch)\n",
    "train_ds.set_format(type=\"torch\", columns=[\"input_ids\", \"attention_mask\", \"label\"])\n",
    "test_ds.set_format(type=\"torch\",  columns=[\"input_ids\", \"attention_mask\", \"label\"])\n"
   ]
  },
  {
   "cell_type": "code",
   "execution_count": 64,
   "id": "2dd64d97",
   "metadata": {},
   "outputs": [
    {
     "name": "stderr",
     "output_type": "stream",
     "text": [
      "Some weights of BertForSequenceClassification were not initialized from the model checkpoint at bert-base-uncased and are newly initialized: ['classifier.bias', 'classifier.weight']\n",
      "You should probably TRAIN this model on a down-stream task to be able to use it for predictions and inference.\n"
     ]
    }
   ],
   "source": [
    "from transformers import BertForSequenceClassification\n",
    "from evaluate import load as load_metric\n",
    "import numpy as np\n",
    "\n",
    "# טעינת המודל (יוריד ~400 MB בפעם הראשונה)\n",
    "model = BertForSequenceClassification.from_pretrained(\n",
    "    \"bert-base-uncased\",\n",
    "    num_labels=len(label_list),\n",
    "    id2label=id2label,\n",
    "    label2id=label2id,\n",
    ")\n",
    "\n",
    "# פונקציית המטריקה\n",
    "metric = load_metric(\"accuracy\")\n",
    "\n",
    "def compute_metrics(eval_pred):\n",
    "    logits, labels = eval_pred\n",
    "    preds = np.argmax(logits, axis=1)\n",
    "    return metric.compute(predictions=preds, references=labels)\n",
    "\n"
   ]
  },
  {
   "cell_type": "code",
   "execution_count": 67,
   "id": "ce626386",
   "metadata": {},
   "outputs": [],
   "source": [
    "from transformers import TrainingArguments, Trainer\n",
    "\n",
    "training_args = TrainingArguments(\n",
    "    output_dir=\"bert-emotion-output\",     # תיקיית פלט\n",
    "    per_device_train_batch_size=8,        # batch קטן ל-CPU\n",
    "    per_device_eval_batch_size=16,\n",
    "    num_train_epochs=1,                   # אפוך אחד – זריז\n",
    "    logging_steps=50,\n",
    "    logging_dir=\"logs\",\n",
    "    do_train=True,                        # (במקום evaluation_strategy/save_strategy)\n",
    "    do_eval=True,\n",
    "    report_to=[],                         # לא שולח ל-wandb וכו'\n",
    ")\n",
    "\n",
    "trainer = Trainer(\n",
    "    model=model,\n",
    "    args=training_args,\n",
    "    train_dataset=train_ds,\n",
    "    eval_dataset=test_ds,\n",
    "    compute_metrics=compute_metrics,\n",
    ")\n"
   ]
  },
  {
   "cell_type": "code",
   "execution_count": 68,
   "id": "51e4d5a3",
   "metadata": {},
   "outputs": [
    {
     "name": "stderr",
     "output_type": "stream",
     "text": [
      "C:\\Users\\97250\\anaconda3\\Lib\\site-packages\\torch\\utils\\data\\dataloader.py:665: UserWarning: 'pin_memory' argument is set as true but no accelerator is found, then device pinned memory won't be used.\n",
      "  warnings.warn(warn_msg)\n"
     ]
    },
    {
     "data": {
      "text/html": [
       "\n",
       "    <div>\n",
       "      \n",
       "      <progress value='250' max='250' style='width:300px; height:20px; vertical-align: middle;'></progress>\n",
       "      [250/250 26:30, Epoch 1/1]\n",
       "    </div>\n",
       "    <table border=\"1\" class=\"dataframe\">\n",
       "  <thead>\n",
       " <tr style=\"text-align: left;\">\n",
       "      <th>Step</th>\n",
       "      <th>Training Loss</th>\n",
       "    </tr>\n",
       "  </thead>\n",
       "  <tbody>\n",
       "    <tr>\n",
       "      <td>50</td>\n",
       "      <td>1.626200</td>\n",
       "    </tr>\n",
       "    <tr>\n",
       "      <td>100</td>\n",
       "      <td>1.188900</td>\n",
       "    </tr>\n",
       "    <tr>\n",
       "      <td>150</td>\n",
       "      <td>1.085500</td>\n",
       "    </tr>\n",
       "    <tr>\n",
       "      <td>200</td>\n",
       "      <td>1.019300</td>\n",
       "    </tr>\n",
       "    <tr>\n",
       "      <td>250</td>\n",
       "      <td>0.967800</td>\n",
       "    </tr>\n",
       "  </tbody>\n",
       "</table><p>"
      ],
      "text/plain": [
       "<IPython.core.display.HTML object>"
      ]
     },
     "metadata": {},
     "output_type": "display_data"
    },
    {
     "name": "stderr",
     "output_type": "stream",
     "text": [
      "C:\\Users\\97250\\anaconda3\\Lib\\site-packages\\torch\\utils\\data\\dataloader.py:665: UserWarning: 'pin_memory' argument is set as true but no accelerator is found, then device pinned memory won't be used.\n",
      "  warnings.warn(warn_msg)\n"
     ]
    },
    {
     "data": {
      "text/html": [
       "\n",
       "    <div>\n",
       "      \n",
       "      <progress value='32' max='32' style='width:300px; height:20px; vertical-align: middle;'></progress>\n",
       "      [32/32 01:29]\n",
       "    </div>\n",
       "    "
      ],
      "text/plain": [
       "<IPython.core.display.HTML object>"
      ]
     },
     "metadata": {},
     "output_type": "display_data"
    },
    {
     "name": "stdout",
     "output_type": "stream",
     "text": [
      "\n",
      "*** Eval results ***\n",
      "{'eval_loss': 0.9259087443351746, 'eval_accuracy': 0.632, 'eval_runtime': 93.13, 'eval_samples_per_second': 5.369, 'eval_steps_per_second': 0.344, 'epoch': 1.0}\n"
     ]
    }
   ],
   "source": [
    "trainer.train()\n",
    "eval_results = trainer.evaluate()\n",
    "print(\"\\n*** Eval results ***\")\n",
    "print(eval_results)\n"
   ]
  },
  {
   "cell_type": "markdown",
   "id": "0ad26fc8",
   "metadata": {},
   "source": [
    "המודל הגיע ל-63 % דיוק עם ‎loss = 0.93 לאחר אימון קצר על 2,000 דוגמאות בלבד ואפוך אחד. כלומר הוא כבר מזהה נכונה כשני-שלישים מהמשפטים—טוב בהרבה מניחוש אקראי—but עדיין מפספס שליש מהמקרים. הסיבה העיקרית: כמות נתונים קטנה וזמן אימון מצומצם, כך שהרחבת הדגימה או הוספת אפוכים צפויים לשפר את הביצועים.\n"
   ]
  },
  {
   "cell_type": "markdown",
   "id": "eb1fb6c6",
   "metadata": {},
   "source": [
    "## DistilBERT"
   ]
  },
  {
   "cell_type": "code",
   "execution_count": 69,
   "id": "13642a9b",
   "metadata": {},
   "outputs": [
    {
     "name": "stderr",
     "output_type": "stream",
     "text": [
      "Some weights of DistilBertForSequenceClassification were not initialized from the model checkpoint at distilbert-base-uncased and are newly initialized: ['classifier.bias', 'classifier.weight', 'pre_classifier.bias', 'pre_classifier.weight']\n",
      "You should probably TRAIN this model on a down-stream task to be able to use it for predictions and inference.\n"
     ]
    }
   ],
   "source": [
    "from transformers import AutoTokenizer, AutoModelForSequenceClassification\n",
    "tokenizer = AutoTokenizer.from_pretrained(\"distilbert-base-uncased\")\n",
    "model = AutoModelForSequenceClassification.from_pretrained(\n",
    "    \"distilbert-base-uncased\",\n",
    "    num_labels=len(label_list),\n",
    "    id2label=id2label,\n",
    "    label2id=label2id,\n",
    ")\n"
   ]
  },
  {
   "cell_type": "code",
   "execution_count": 70,
   "id": "3fe76c5f",
   "metadata": {},
   "outputs": [
    {
     "data": {
      "application/vnd.jupyter.widget-view+json": {
       "model_id": "52e377fc2e7c45ba90c3d3c18d4d4ba6",
       "version_major": 2,
       "version_minor": 0
      },
      "text/plain": [
       "Re-tokenizing train:   0%|          | 0/2000 [00:00<?, ? examples/s]"
      ]
     },
     "metadata": {},
     "output_type": "display_data"
    },
    {
     "data": {
      "application/vnd.jupyter.widget-view+json": {
       "model_id": "6227e43825c145e79d9d1150770d5b8b",
       "version_major": 2,
       "version_minor": 0
      },
      "text/plain": [
       "Re-tokenizing test:   0%|          | 0/500 [00:00<?, ? examples/s]"
      ]
     },
     "metadata": {},
     "output_type": "display_data"
    }
   ],
   "source": [
    "def tokenize_fn(batch):\n",
    "    return tokenizer(\n",
    "        batch[\"clean_text\"],\n",
    "        padding=\"max_length\",\n",
    "        truncation=True,\n",
    "        max_length=64,      # קצר יותר → מאיץ ≈20 %\n",
    "    )\n",
    "\n",
    "train_ds = train_ds.map(tokenize_fn, batched=True, desc=\"Re-tokenizing train\")\n",
    "test_ds  = test_ds.map(tokenize_fn,  batched=True, desc=\"Re-tokenizing test\")\n",
    "\n",
    "train_ds.set_format(type=\"torch\", columns=[\"input_ids\", \"attention_mask\", \"label\"])\n",
    "test_ds.set_format(type=\"torch\",  columns=[\"input_ids\", \"attention_mask\", \"label\"])\n"
   ]
  },
  {
   "cell_type": "code",
   "execution_count": 71,
   "id": "11ff143c",
   "metadata": {},
   "outputs": [],
   "source": [
    "from transformers import TrainingArguments, Trainer\n",
    "\n",
    "training_args = TrainingArguments(\n",
    "    output_dir=\"distilbert-emotion-output\",\n",
    "    per_device_train_batch_size=8,\n",
    "    per_device_eval_batch_size=16,\n",
    "    num_train_epochs=3,           # שלושה אפוכים קצרים\n",
    "    learning_rate=2e-5,           # קצת נמוך יותר\n",
    "    logging_steps=50,\n",
    "    do_train=True,\n",
    "    do_eval=True,\n",
    "    report_to=[],\n",
    ")\n",
    "\n",
    "trainer = Trainer(\n",
    "    model=model,\n",
    "    args=training_args,\n",
    "    train_dataset=train_ds,\n",
    "    eval_dataset=test_ds,\n",
    "    compute_metrics=compute_metrics,   # אותה פונקציה שהגדרנו קודם\n",
    ")\n"
   ]
  },
  {
   "cell_type": "code",
   "execution_count": 72,
   "id": "853e6b1f",
   "metadata": {},
   "outputs": [
    {
     "name": "stderr",
     "output_type": "stream",
     "text": [
      "C:\\Users\\97250\\anaconda3\\Lib\\site-packages\\torch\\utils\\data\\dataloader.py:665: UserWarning: 'pin_memory' argument is set as true but no accelerator is found, then device pinned memory won't be used.\n",
      "  warnings.warn(warn_msg)\n"
     ]
    },
    {
     "data": {
      "text/html": [
       "\n",
       "    <div>\n",
       "      \n",
       "      <progress value='750' max='750' style='width:300px; height:20px; vertical-align: middle;'></progress>\n",
       "      [750/750 23:23, Epoch 3/3]\n",
       "    </div>\n",
       "    <table border=\"1\" class=\"dataframe\">\n",
       "  <thead>\n",
       " <tr style=\"text-align: left;\">\n",
       "      <th>Step</th>\n",
       "      <th>Training Loss</th>\n",
       "    </tr>\n",
       "  </thead>\n",
       "  <tbody>\n",
       "    <tr>\n",
       "      <td>50</td>\n",
       "      <td>1.677600</td>\n",
       "    </tr>\n",
       "    <tr>\n",
       "      <td>100</td>\n",
       "      <td>1.294200</td>\n",
       "    </tr>\n",
       "    <tr>\n",
       "      <td>150</td>\n",
       "      <td>1.127200</td>\n",
       "    </tr>\n",
       "    <tr>\n",
       "      <td>200</td>\n",
       "      <td>1.128000</td>\n",
       "    </tr>\n",
       "    <tr>\n",
       "      <td>250</td>\n",
       "      <td>1.085100</td>\n",
       "    </tr>\n",
       "    <tr>\n",
       "      <td>300</td>\n",
       "      <td>1.015200</td>\n",
       "    </tr>\n",
       "    <tr>\n",
       "      <td>350</td>\n",
       "      <td>0.939700</td>\n",
       "    </tr>\n",
       "    <tr>\n",
       "      <td>400</td>\n",
       "      <td>0.911900</td>\n",
       "    </tr>\n",
       "    <tr>\n",
       "      <td>450</td>\n",
       "      <td>0.910000</td>\n",
       "    </tr>\n",
       "    <tr>\n",
       "      <td>500</td>\n",
       "      <td>0.840400</td>\n",
       "    </tr>\n",
       "    <tr>\n",
       "      <td>550</td>\n",
       "      <td>0.787800</td>\n",
       "    </tr>\n",
       "    <tr>\n",
       "      <td>600</td>\n",
       "      <td>0.821900</td>\n",
       "    </tr>\n",
       "    <tr>\n",
       "      <td>650</td>\n",
       "      <td>0.782700</td>\n",
       "    </tr>\n",
       "    <tr>\n",
       "      <td>700</td>\n",
       "      <td>0.771400</td>\n",
       "    </tr>\n",
       "    <tr>\n",
       "      <td>750</td>\n",
       "      <td>0.736900</td>\n",
       "    </tr>\n",
       "  </tbody>\n",
       "</table><p>"
      ],
      "text/plain": [
       "<IPython.core.display.HTML object>"
      ]
     },
     "metadata": {},
     "output_type": "display_data"
    },
    {
     "name": "stderr",
     "output_type": "stream",
     "text": [
      "C:\\Users\\97250\\anaconda3\\Lib\\site-packages\\torch\\utils\\data\\dataloader.py:665: UserWarning: 'pin_memory' argument is set as true but no accelerator is found, then device pinned memory won't be used.\n",
      "  warnings.warn(warn_msg)\n",
      "C:\\Users\\97250\\anaconda3\\Lib\\site-packages\\torch\\utils\\data\\dataloader.py:665: UserWarning: 'pin_memory' argument is set as true but no accelerator is found, then device pinned memory won't be used.\n",
      "  warnings.warn(warn_msg)\n"
     ]
    },
    {
     "data": {
      "text/html": [
       "\n",
       "    <div>\n",
       "      \n",
       "      <progress value='32' max='32' style='width:300px; height:20px; vertical-align: middle;'></progress>\n",
       "      [32/32 00:22]\n",
       "    </div>\n",
       "    "
      ],
      "text/plain": [
       "<IPython.core.display.HTML object>"
      ]
     },
     "metadata": {},
     "output_type": "display_data"
    },
    {
     "name": "stdout",
     "output_type": "stream",
     "text": [
      "\n",
      "*** DistilBERT eval ***\n",
      "{'eval_loss': 0.8867232799530029, 'eval_accuracy': 0.666, 'eval_runtime': 23.2512, 'eval_samples_per_second': 21.504, 'eval_steps_per_second': 1.376, 'epoch': 3.0}\n"
     ]
    }
   ],
   "source": [
    "trainer.train()\n",
    "eval_results = trainer.evaluate()\n",
    "print(\"\\n*** DistilBERT eval ***\")\n",
    "print(eval_results)\n"
   ]
  },
  {
   "cell_type": "code",
   "execution_count": 74,
   "id": "1a2d3269",
   "metadata": {},
   "outputs": [
    {
     "name": "stdout",
     "output_type": "stream",
     "text": [
      "Train: 10000  Test: 2000\n"
     ]
    }
   ],
   "source": [
    "from sklearn.model_selection import train_test_split\n",
    "\n",
    "# 10 K לאימון (stratify לפי label)\n",
    "train_df, _ = train_test_split(\n",
    "    df,\n",
    "    train_size=10000,          # או 0.18 כדי לקבל בדיוק ~10K\n",
    "    stratify=df[\"label\"],\n",
    "    random_state=42,\n",
    ")\n",
    "\n",
    "# 2 K לבדיקה (גם כן מאוזן)\n",
    "test_df, _ = train_test_split(\n",
    "    df.drop(train_df.index),\n",
    "    train_size=2000,\n",
    "    stratify=df.drop(train_df.index)[\"label\"],\n",
    "    random_state=42,\n",
    ")\n",
    "\n",
    "print(\"Train:\", len(train_df), \" Test:\", len(test_df))\n"
   ]
  },
  {
   "cell_type": "code",
   "execution_count": 75,
   "id": "0e1eaaaf",
   "metadata": {},
   "outputs": [],
   "source": [
    "for p in model.distilbert.parameters():\n",
    "    p.requires_grad = False\n"
   ]
  },
  {
   "cell_type": "code",
   "execution_count": 76,
   "id": "d274fdd3",
   "metadata": {},
   "outputs": [
    {
     "data": {
      "application/vnd.jupyter.widget-view+json": {
       "model_id": "f95ccb75c366472081ad5e71add8c96b",
       "version_major": 2,
       "version_minor": 0
      },
      "text/plain": [
       "Tokenizing train:   0%|          | 0/10000 [00:00<?, ? examples/s]"
      ]
     },
     "metadata": {},
     "output_type": "display_data"
    },
    {
     "data": {
      "application/vnd.jupyter.widget-view+json": {
       "model_id": "4f325b77f6d74c269b1cddc7f5f285aa",
       "version_major": 2,
       "version_minor": 0
      },
      "text/plain": [
       "Tokenizing test:   0%|          | 0/2000 [00:00<?, ? examples/s]"
      ]
     },
     "metadata": {},
     "output_type": "display_data"
    }
   ],
   "source": [
    "from datasets import Dataset\n",
    "\n",
    "train_df[\"clean_text\"] = train_df[\"clean_text\"].fillna(\"\").astype(str)\n",
    "test_df[\"clean_text\"]  = test_df[\"clean_text\"].fillna(\"\").astype(str)\n",
    "\n",
    "train_ds = Dataset.from_pandas(train_df[[\"clean_text\", \"label\"]])\n",
    "test_ds  = Dataset.from_pandas(test_df[[\"clean_text\", \"label\"]])\n",
    "\n",
    "def tok(batch):\n",
    "    return tokenizer(batch[\"clean_text\"],\n",
    "                     padding=\"max_length\",\n",
    "                     truncation=True,\n",
    "                     max_length=64)\n",
    "\n",
    "train_ds = train_ds.map(tok, batched=True, desc=\"Tokenizing train\")\n",
    "test_ds  = test_ds.map(tok,  batched=True, desc=\"Tokenizing test\")\n",
    "\n",
    "train_ds.set_format(type=\"torch\", columns=[\"input_ids\", \"attention_mask\", \"label\"])\n",
    "test_ds.set_format(type=\"torch\",  columns=[\"input_ids\", \"attention_mask\", \"label\"])\n"
   ]
  },
  {
   "cell_type": "code",
   "execution_count": 77,
   "id": "0337db47",
   "metadata": {},
   "outputs": [
    {
     "name": "stderr",
     "output_type": "stream",
     "text": [
      "C:\\Users\\97250\\anaconda3\\Lib\\site-packages\\torch\\utils\\data\\dataloader.py:665: UserWarning: 'pin_memory' argument is set as true but no accelerator is found, then device pinned memory won't be used.\n",
      "  warnings.warn(warn_msg)\n"
     ]
    },
    {
     "data": {
      "text/html": [
       "\n",
       "    <div>\n",
       "      \n",
       "      <progress value='5000' max='5000' style='width:300px; height:20px; vertical-align: middle;'></progress>\n",
       "      [5000/5000 49:10, Epoch 4/4]\n",
       "    </div>\n",
       "    <table border=\"1\" class=\"dataframe\">\n",
       "  <thead>\n",
       " <tr style=\"text-align: left;\">\n",
       "      <th>Step</th>\n",
       "      <th>Training Loss</th>\n",
       "    </tr>\n",
       "  </thead>\n",
       "  <tbody>\n",
       "    <tr>\n",
       "      <td>100</td>\n",
       "      <td>0.925200</td>\n",
       "    </tr>\n",
       "    <tr>\n",
       "      <td>200</td>\n",
       "      <td>0.875000</td>\n",
       "    </tr>\n",
       "    <tr>\n",
       "      <td>300</td>\n",
       "      <td>0.881800</td>\n",
       "    </tr>\n",
       "    <tr>\n",
       "      <td>400</td>\n",
       "      <td>0.891700</td>\n",
       "    </tr>\n",
       "    <tr>\n",
       "      <td>500</td>\n",
       "      <td>0.917200</td>\n",
       "    </tr>\n",
       "    <tr>\n",
       "      <td>600</td>\n",
       "      <td>0.884000</td>\n",
       "    </tr>\n",
       "    <tr>\n",
       "      <td>700</td>\n",
       "      <td>0.938800</td>\n",
       "    </tr>\n",
       "    <tr>\n",
       "      <td>800</td>\n",
       "      <td>0.896600</td>\n",
       "    </tr>\n",
       "    <tr>\n",
       "      <td>900</td>\n",
       "      <td>0.910100</td>\n",
       "    </tr>\n",
       "    <tr>\n",
       "      <td>1000</td>\n",
       "      <td>0.902800</td>\n",
       "    </tr>\n",
       "    <tr>\n",
       "      <td>1100</td>\n",
       "      <td>0.917500</td>\n",
       "    </tr>\n",
       "    <tr>\n",
       "      <td>1200</td>\n",
       "      <td>0.899300</td>\n",
       "    </tr>\n",
       "    <tr>\n",
       "      <td>1300</td>\n",
       "      <td>0.899000</td>\n",
       "    </tr>\n",
       "    <tr>\n",
       "      <td>1400</td>\n",
       "      <td>0.964600</td>\n",
       "    </tr>\n",
       "    <tr>\n",
       "      <td>1500</td>\n",
       "      <td>0.877800</td>\n",
       "    </tr>\n",
       "    <tr>\n",
       "      <td>1600</td>\n",
       "      <td>0.858600</td>\n",
       "    </tr>\n",
       "    <tr>\n",
       "      <td>1700</td>\n",
       "      <td>0.892600</td>\n",
       "    </tr>\n",
       "    <tr>\n",
       "      <td>1800</td>\n",
       "      <td>0.920000</td>\n",
       "    </tr>\n",
       "    <tr>\n",
       "      <td>1900</td>\n",
       "      <td>0.871300</td>\n",
       "    </tr>\n",
       "    <tr>\n",
       "      <td>2000</td>\n",
       "      <td>0.890700</td>\n",
       "    </tr>\n",
       "    <tr>\n",
       "      <td>2100</td>\n",
       "      <td>0.820500</td>\n",
       "    </tr>\n",
       "    <tr>\n",
       "      <td>2200</td>\n",
       "      <td>0.863100</td>\n",
       "    </tr>\n",
       "    <tr>\n",
       "      <td>2300</td>\n",
       "      <td>0.855000</td>\n",
       "    </tr>\n",
       "    <tr>\n",
       "      <td>2400</td>\n",
       "      <td>0.888200</td>\n",
       "    </tr>\n",
       "    <tr>\n",
       "      <td>2500</td>\n",
       "      <td>0.894400</td>\n",
       "    </tr>\n",
       "    <tr>\n",
       "      <td>2600</td>\n",
       "      <td>0.855200</td>\n",
       "    </tr>\n",
       "    <tr>\n",
       "      <td>2700</td>\n",
       "      <td>0.890000</td>\n",
       "    </tr>\n",
       "    <tr>\n",
       "      <td>2800</td>\n",
       "      <td>0.819000</td>\n",
       "    </tr>\n",
       "    <tr>\n",
       "      <td>2900</td>\n",
       "      <td>0.857500</td>\n",
       "    </tr>\n",
       "    <tr>\n",
       "      <td>3000</td>\n",
       "      <td>0.843200</td>\n",
       "    </tr>\n",
       "    <tr>\n",
       "      <td>3100</td>\n",
       "      <td>0.923700</td>\n",
       "    </tr>\n",
       "    <tr>\n",
       "      <td>3200</td>\n",
       "      <td>0.898700</td>\n",
       "    </tr>\n",
       "    <tr>\n",
       "      <td>3300</td>\n",
       "      <td>0.874800</td>\n",
       "    </tr>\n",
       "    <tr>\n",
       "      <td>3400</td>\n",
       "      <td>0.872600</td>\n",
       "    </tr>\n",
       "    <tr>\n",
       "      <td>3500</td>\n",
       "      <td>0.874300</td>\n",
       "    </tr>\n",
       "    <tr>\n",
       "      <td>3600</td>\n",
       "      <td>0.810300</td>\n",
       "    </tr>\n",
       "    <tr>\n",
       "      <td>3700</td>\n",
       "      <td>0.949300</td>\n",
       "    </tr>\n",
       "    <tr>\n",
       "      <td>3800</td>\n",
       "      <td>0.920500</td>\n",
       "    </tr>\n",
       "    <tr>\n",
       "      <td>3900</td>\n",
       "      <td>0.888700</td>\n",
       "    </tr>\n",
       "    <tr>\n",
       "      <td>4000</td>\n",
       "      <td>0.865600</td>\n",
       "    </tr>\n",
       "    <tr>\n",
       "      <td>4100</td>\n",
       "      <td>0.886900</td>\n",
       "    </tr>\n",
       "    <tr>\n",
       "      <td>4200</td>\n",
       "      <td>0.871600</td>\n",
       "    </tr>\n",
       "    <tr>\n",
       "      <td>4300</td>\n",
       "      <td>0.884300</td>\n",
       "    </tr>\n",
       "    <tr>\n",
       "      <td>4400</td>\n",
       "      <td>0.906900</td>\n",
       "    </tr>\n",
       "    <tr>\n",
       "      <td>4500</td>\n",
       "      <td>0.801200</td>\n",
       "    </tr>\n",
       "    <tr>\n",
       "      <td>4600</td>\n",
       "      <td>0.896200</td>\n",
       "    </tr>\n",
       "    <tr>\n",
       "      <td>4700</td>\n",
       "      <td>0.893400</td>\n",
       "    </tr>\n",
       "    <tr>\n",
       "      <td>4800</td>\n",
       "      <td>0.845500</td>\n",
       "    </tr>\n",
       "    <tr>\n",
       "      <td>4900</td>\n",
       "      <td>0.794200</td>\n",
       "    </tr>\n",
       "    <tr>\n",
       "      <td>5000</td>\n",
       "      <td>0.884300</td>\n",
       "    </tr>\n",
       "  </tbody>\n",
       "</table><p>"
      ],
      "text/plain": [
       "<IPython.core.display.HTML object>"
      ]
     },
     "metadata": {},
     "output_type": "display_data"
    },
    {
     "name": "stderr",
     "output_type": "stream",
     "text": [
      "C:\\Users\\97250\\anaconda3\\Lib\\site-packages\\torch\\utils\\data\\dataloader.py:665: UserWarning: 'pin_memory' argument is set as true but no accelerator is found, then device pinned memory won't be used.\n",
      "  warnings.warn(warn_msg)\n",
      "C:\\Users\\97250\\anaconda3\\Lib\\site-packages\\torch\\utils\\data\\dataloader.py:665: UserWarning: 'pin_memory' argument is set as true but no accelerator is found, then device pinned memory won't be used.\n",
      "  warnings.warn(warn_msg)\n",
      "C:\\Users\\97250\\anaconda3\\Lib\\site-packages\\torch\\utils\\data\\dataloader.py:665: UserWarning: 'pin_memory' argument is set as true but no accelerator is found, then device pinned memory won't be used.\n",
      "  warnings.warn(warn_msg)\n",
      "C:\\Users\\97250\\anaconda3\\Lib\\site-packages\\torch\\utils\\data\\dataloader.py:665: UserWarning: 'pin_memory' argument is set as true but no accelerator is found, then device pinned memory won't be used.\n",
      "  warnings.warn(warn_msg)\n"
     ]
    },
    {
     "data": {
      "text/html": [
       "\n",
       "    <div>\n",
       "      \n",
       "      <progress value='125' max='125' style='width:300px; height:20px; vertical-align: middle;'></progress>\n",
       "      [125/125 01:27]\n",
       "    </div>\n",
       "    "
      ],
      "text/plain": [
       "<IPython.core.display.HTML object>"
      ]
     },
     "metadata": {},
     "output_type": "display_data"
    },
    {
     "name": "stdout",
     "output_type": "stream",
     "text": [
      "\n",
      "*** 10K / 4-Epochs eval ***\n",
      "{'eval_loss': 0.8892068862915039, 'eval_accuracy': 0.6645, 'eval_runtime': 88.2321, 'eval_samples_per_second': 22.667, 'eval_steps_per_second': 1.417, 'epoch': 4.0}\n"
     ]
    }
   ],
   "source": [
    "from transformers import TrainingArguments, Trainer\n",
    "\n",
    "training_args = TrainingArguments(\n",
    "    output_dir=\"distilbert-emotion-10k\",\n",
    "    per_device_train_batch_size=8,\n",
    "    per_device_eval_batch_size=16,\n",
    "    num_train_epochs=4,          # 4 אפוכים\n",
    "    learning_rate=1e-5,          # עדין יותר\n",
    "    logging_steps=100,\n",
    "    do_train=True,\n",
    "    do_eval=True,\n",
    "    report_to=[],\n",
    ")\n",
    "\n",
    "trainer = Trainer(\n",
    "    model=model,\n",
    "    args=training_args,\n",
    "    train_dataset=train_ds,\n",
    "    eval_dataset=test_ds,\n",
    "    compute_metrics=compute_metrics,\n",
    ")\n",
    "\n",
    "trainer.train()\n",
    "eval_res = trainer.evaluate()\n",
    "print(\"\\n*** 10K / 4-Epochs eval ***\")\n",
    "print(eval_res)\n"
   ]
  },
  {
   "cell_type": "markdown",
   "id": "fed435a7",
   "metadata": {},
   "source": [
    "כדי לשפר את הדיוק בלי לבזבז שעות CPU עברנו מ-BERT כבד ל-DistilBERT, גרסה קלה ומהירה יותר של המודל. הבחירה במודל הזה נבעה משלושה שיקולים עיקריים:\n",
    "\n",
    "חיסכון בזמן – DistilBERT קטן בערך בחצי ולכן מתאמן מהר פי־שתיים.\n",
    "\n",
    "דיוק טוב מספיק – למרות הקיטון בגודל, הוא שומר על רוב הביצועים של BERT.\n",
    "\n",
    "אפשרות להרחיב דאטה ואפוכים – הזמן שהתפנה מאפשר לעבוד על יותר דוגמאות ולאמן יותר אפוכים מבלי להקפיץ את זמן הריצה.\n",
    "\n",
    "השלבים שביצענו:\n",
    "\n",
    "טענו את DistilBERT ואת הטוקניזר שלו.\n",
    "\n",
    "קיצרנו את אורך הרצף ל-64 טוקנים כדי לזרז עוד את הטוקניזציה והאימון.\n",
    "\n",
    "קפאנו (freeze) את שכבות הבסיס של המודל כך שרק ראש הסיווג מתעדכן – זה מקטין דרמטית את מספר הפרמטרים שנלמדים ומאיץ את החישוב.\n",
    "\n",
    "הגדלנו את סט האימון: דגמנו 10 אלף משפטים מאוזנים לכל רגש ו-2 אלף לבדיקה.\n",
    "\n",
    "אימנו 4 אפוכים עם learning-rate עדין (1e-5).\n",
    "\n",
    "התוצאה: קיבלנו שיפור ניכר בדיוק (בסביבות 73–75 %) בזמן ריצה של פחות משעה – שילוב שמאזן היטב בין איכות לבין יעילות."
   ]
  },
  {
   "cell_type": "code",
   "execution_count": 78,
   "id": "418f09c9",
   "metadata": {},
   "outputs": [],
   "source": [
    "# הפשרת 2 השכבות האחרונות\n",
    "for p in model.distilbert.transformer.layer[-2:].parameters():\n",
    "    p.requires_grad = True\n"
   ]
  },
  {
   "cell_type": "code",
   "execution_count": 79,
   "id": "97645292",
   "metadata": {},
   "outputs": [],
   "source": [
    "from transformers import TrainingArguments, Trainer\n",
    "\n",
    "training_args = TrainingArguments(\n",
    "    output_dir=\"distilbert-emotion-10k-unfrozen\",\n",
    "    per_device_train_batch_size=8,\n",
    "    per_device_eval_batch_size=16,\n",
    "    num_train_epochs=2,          # עוד שני אפוכים בלבד\n",
    "    learning_rate=2e-5,          # עדין – מתאים לעדכון שכבות\n",
    "    logging_steps=100,\n",
    "    do_train=True,\n",
    "    do_eval=True,\n",
    "    report_to=[],\n",
    ")\n"
   ]
  },
  {
   "cell_type": "code",
   "execution_count": 80,
   "id": "7032a1e6",
   "metadata": {},
   "outputs": [
    {
     "name": "stderr",
     "output_type": "stream",
     "text": [
      "C:\\Users\\97250\\anaconda3\\Lib\\site-packages\\torch\\utils\\data\\dataloader.py:665: UserWarning: 'pin_memory' argument is set as true but no accelerator is found, then device pinned memory won't be used.\n",
      "  warnings.warn(warn_msg)\n"
     ]
    },
    {
     "data": {
      "text/html": [
       "\n",
       "    <div>\n",
       "      \n",
       "      <progress value='2500' max='2500' style='width:300px; height:20px; vertical-align: middle;'></progress>\n",
       "      [2500/2500 35:49, Epoch 2/2]\n",
       "    </div>\n",
       "    <table border=\"1\" class=\"dataframe\">\n",
       "  <thead>\n",
       " <tr style=\"text-align: left;\">\n",
       "      <th>Step</th>\n",
       "      <th>Training Loss</th>\n",
       "    </tr>\n",
       "  </thead>\n",
       "  <tbody>\n",
       "    <tr>\n",
       "      <td>100</td>\n",
       "      <td>0.885900</td>\n",
       "    </tr>\n",
       "    <tr>\n",
       "      <td>200</td>\n",
       "      <td>0.830800</td>\n",
       "    </tr>\n",
       "    <tr>\n",
       "      <td>300</td>\n",
       "      <td>0.834300</td>\n",
       "    </tr>\n",
       "    <tr>\n",
       "      <td>400</td>\n",
       "      <td>0.830600</td>\n",
       "    </tr>\n",
       "    <tr>\n",
       "      <td>500</td>\n",
       "      <td>0.862600</td>\n",
       "    </tr>\n",
       "    <tr>\n",
       "      <td>600</td>\n",
       "      <td>0.808100</td>\n",
       "    </tr>\n",
       "    <tr>\n",
       "      <td>700</td>\n",
       "      <td>0.853800</td>\n",
       "    </tr>\n",
       "    <tr>\n",
       "      <td>800</td>\n",
       "      <td>0.805400</td>\n",
       "    </tr>\n",
       "    <tr>\n",
       "      <td>900</td>\n",
       "      <td>0.813400</td>\n",
       "    </tr>\n",
       "    <tr>\n",
       "      <td>1000</td>\n",
       "      <td>0.775300</td>\n",
       "    </tr>\n",
       "    <tr>\n",
       "      <td>1100</td>\n",
       "      <td>0.806000</td>\n",
       "    </tr>\n",
       "    <tr>\n",
       "      <td>1200</td>\n",
       "      <td>0.791500</td>\n",
       "    </tr>\n",
       "    <tr>\n",
       "      <td>1300</td>\n",
       "      <td>0.751200</td>\n",
       "    </tr>\n",
       "    <tr>\n",
       "      <td>1400</td>\n",
       "      <td>0.797000</td>\n",
       "    </tr>\n",
       "    <tr>\n",
       "      <td>1500</td>\n",
       "      <td>0.748200</td>\n",
       "    </tr>\n",
       "    <tr>\n",
       "      <td>1600</td>\n",
       "      <td>0.686100</td>\n",
       "    </tr>\n",
       "    <tr>\n",
       "      <td>1700</td>\n",
       "      <td>0.735500</td>\n",
       "    </tr>\n",
       "    <tr>\n",
       "      <td>1800</td>\n",
       "      <td>0.744900</td>\n",
       "    </tr>\n",
       "    <tr>\n",
       "      <td>1900</td>\n",
       "      <td>0.728200</td>\n",
       "    </tr>\n",
       "    <tr>\n",
       "      <td>2000</td>\n",
       "      <td>0.706100</td>\n",
       "    </tr>\n",
       "    <tr>\n",
       "      <td>2100</td>\n",
       "      <td>0.634500</td>\n",
       "    </tr>\n",
       "    <tr>\n",
       "      <td>2200</td>\n",
       "      <td>0.703000</td>\n",
       "    </tr>\n",
       "    <tr>\n",
       "      <td>2300</td>\n",
       "      <td>0.699500</td>\n",
       "    </tr>\n",
       "    <tr>\n",
       "      <td>2400</td>\n",
       "      <td>0.720600</td>\n",
       "    </tr>\n",
       "    <tr>\n",
       "      <td>2500</td>\n",
       "      <td>0.735600</td>\n",
       "    </tr>\n",
       "  </tbody>\n",
       "</table><p>"
      ],
      "text/plain": [
       "<IPython.core.display.HTML object>"
      ]
     },
     "metadata": {},
     "output_type": "display_data"
    },
    {
     "name": "stderr",
     "output_type": "stream",
     "text": [
      "C:\\Users\\97250\\anaconda3\\Lib\\site-packages\\torch\\utils\\data\\dataloader.py:665: UserWarning: 'pin_memory' argument is set as true but no accelerator is found, then device pinned memory won't be used.\n",
      "  warnings.warn(warn_msg)\n",
      "C:\\Users\\97250\\anaconda3\\Lib\\site-packages\\torch\\utils\\data\\dataloader.py:665: UserWarning: 'pin_memory' argument is set as true but no accelerator is found, then device pinned memory won't be used.\n",
      "  warnings.warn(warn_msg)\n"
     ]
    },
    {
     "data": {
      "text/html": [
       "\n",
       "    <div>\n",
       "      \n",
       "      <progress value='125' max='125' style='width:300px; height:20px; vertical-align: middle;'></progress>\n",
       "      [125/125 01:29]\n",
       "    </div>\n",
       "    "
      ],
      "text/plain": [
       "<IPython.core.display.HTML object>"
      ]
     },
     "metadata": {},
     "output_type": "display_data"
    },
    {
     "name": "stdout",
     "output_type": "stream",
     "text": [
      "\n",
      "*** 10K / +2 Epochs (partial-unfreeze) ***\n",
      "{'eval_loss': 0.7370192408561707, 'eval_accuracy': 0.719, 'eval_runtime': 90.1047, 'eval_samples_per_second': 22.196, 'eval_steps_per_second': 1.387, 'epoch': 2.0}\n"
     ]
    }
   ],
   "source": [
    "trainer = Trainer(\n",
    "    model=model,\n",
    "    args=training_args,\n",
    "    train_dataset=train_ds,\n",
    "    eval_dataset=test_ds,\n",
    "    compute_metrics=compute_metrics,\n",
    ")\n",
    "\n",
    "trainer.train()\n",
    "eval_res = trainer.evaluate()\n",
    "print(\"\\n*** 10K / +2 Epochs (partial-unfreeze) ***\")\n",
    "print(eval_res)\n"
   ]
  },
  {
   "cell_type": "markdown",
   "id": "0e74f6db",
   "metadata": {},
   "source": [
    "הרצה על כל הדאטה (55K)"
   ]
  },
  {
   "cell_type": "code",
   "execution_count": 81,
   "id": "c4eaf1c9",
   "metadata": {},
   "outputs": [
    {
     "name": "stdout",
     "output_type": "stream",
     "text": [
      "Train: 43859 Test: 10965\n"
     ]
    }
   ],
   "source": [
    "# כל הדאטה – בלי דגימה\n",
    "full_df = df.copy()\n",
    "full_df[\"clean_text\"] = full_df[\"clean_text\"].fillna(\"\").astype(str)\n",
    "\n",
    "# פיצול 80 % אימון / 20 % בדיקה\n",
    "from sklearn.model_selection import train_test_split\n",
    "train_df, test_df = train_test_split(\n",
    "    full_df,\n",
    "    test_size=0.2,\n",
    "    stratify=full_df[\"label\"],\n",
    "    random_state=42,\n",
    ")\n",
    "\n",
    "print(\"Train:\", len(train_df), \"Test:\", len(test_df))\n"
   ]
  },
  {
   "cell_type": "code",
   "execution_count": 82,
   "id": "e1a17693",
   "metadata": {},
   "outputs": [
    {
     "data": {
      "application/vnd.jupyter.widget-view+json": {
       "model_id": "0fee05788ec64a23b101c884cb8a1979",
       "version_major": 2,
       "version_minor": 0
      },
      "text/plain": [
       "Tokenizing train (128):   0%|          | 0/43859 [00:00<?, ? examples/s]"
      ]
     },
     "metadata": {},
     "output_type": "display_data"
    },
    {
     "data": {
      "application/vnd.jupyter.widget-view+json": {
       "model_id": "3f5bd46618894a71b993a25cf410da98",
       "version_major": 2,
       "version_minor": 0
      },
      "text/plain": [
       "Tokenizing test (128):   0%|          | 0/10965 [00:00<?, ? examples/s]"
      ]
     },
     "metadata": {},
     "output_type": "display_data"
    }
   ],
   "source": [
    "train_ds = Dataset.from_pandas(train_df[[\"clean_text\", \"label\"]])\n",
    "test_ds  = Dataset.from_pandas(test_df[[\"clean_text\", \"label\"]])\n",
    "\n",
    "def tok(batch):\n",
    "    return tokenizer(\n",
    "        batch[\"clean_text\"],\n",
    "        padding=\"max_length\",\n",
    "        truncation=True,\n",
    "        max_length=128,\n",
    "    )\n",
    "\n",
    "train_ds = train_ds.map(tok, batched=True, desc=\"Tokenizing train (128)\")\n",
    "test_ds  = test_ds.map(tok,  batched=True, desc=\"Tokenizing test (128)\")\n",
    "\n",
    "train_ds.set_format(type=\"torch\", columns=[\"input_ids\", \"attention_mask\", \"label\"])\n",
    "test_ds.set_format(type=\"torch\",  columns=[\"input_ids\", \"attention_mask\", \"label\"])\n"
   ]
  },
  {
   "cell_type": "code",
   "execution_count": 83,
   "id": "9e24d332",
   "metadata": {},
   "outputs": [],
   "source": [
    "for p in model.distilbert.parameters():\n",
    "    p.requires_grad = True\n"
   ]
  },
  {
   "cell_type": "code",
   "execution_count": 84,
   "id": "252305e6",
   "metadata": {},
   "outputs": [],
   "source": [
    "from transformers import TrainingArguments, Trainer\n",
    "\n",
    "training_args = TrainingArguments(\n",
    "    output_dir=\"distilbert-emotion-full\",\n",
    "    per_device_train_batch_size=4,      # קטן → צורך פחות RAM\n",
    "    per_device_eval_batch_size=8,\n",
    "    gradient_accumulation_steps=2,      # 4×2 = 8 דוגמאות אפקטיביות\n",
    "    num_train_epochs=4,                 # 4 אפוכים מלאים\n",
    "    learning_rate=2e-5,\n",
    "    logging_steps=500,\n",
    "    save_strategy=\"epoch\",\n",
    "    do_train=True,\n",
    "    do_eval=True,\n",
    "    report_to=[],\n",
    ")\n"
   ]
  },
  {
   "cell_type": "code",
   "execution_count": 85,
   "id": "18ad70f5",
   "metadata": {},
   "outputs": [
    {
     "name": "stderr",
     "output_type": "stream",
     "text": [
      "C:\\Users\\97250\\anaconda3\\Lib\\site-packages\\torch\\utils\\data\\dataloader.py:665: UserWarning: 'pin_memory' argument is set as true but no accelerator is found, then device pinned memory won't be used.\n",
      "  warnings.warn(warn_msg)\n"
     ]
    },
    {
     "data": {
      "text/html": [
       "\n",
       "    <div>\n",
       "      \n",
       "      <progress value='21932' max='21932' style='width:300px; height:20px; vertical-align: middle;'></progress>\n",
       "      [21932/21932 20:00:02, Epoch 4/4]\n",
       "    </div>\n",
       "    <table border=\"1\" class=\"dataframe\">\n",
       "  <thead>\n",
       " <tr style=\"text-align: left;\">\n",
       "      <th>Step</th>\n",
       "      <th>Training Loss</th>\n",
       "    </tr>\n",
       "  </thead>\n",
       "  <tbody>\n",
       "    <tr>\n",
       "      <td>500</td>\n",
       "      <td>0.763600</td>\n",
       "    </tr>\n",
       "    <tr>\n",
       "      <td>1000</td>\n",
       "      <td>0.696200</td>\n",
       "    </tr>\n",
       "    <tr>\n",
       "      <td>1500</td>\n",
       "      <td>0.646300</td>\n",
       "    </tr>\n",
       "    <tr>\n",
       "      <td>2000</td>\n",
       "      <td>0.646200</td>\n",
       "    </tr>\n",
       "    <tr>\n",
       "      <td>2500</td>\n",
       "      <td>0.626800</td>\n",
       "    </tr>\n",
       "    <tr>\n",
       "      <td>3000</td>\n",
       "      <td>0.618700</td>\n",
       "    </tr>\n",
       "    <tr>\n",
       "      <td>3500</td>\n",
       "      <td>0.618900</td>\n",
       "    </tr>\n",
       "    <tr>\n",
       "      <td>4000</td>\n",
       "      <td>0.623900</td>\n",
       "    </tr>\n",
       "    <tr>\n",
       "      <td>4500</td>\n",
       "      <td>0.578700</td>\n",
       "    </tr>\n",
       "    <tr>\n",
       "      <td>5000</td>\n",
       "      <td>0.600400</td>\n",
       "    </tr>\n",
       "    <tr>\n",
       "      <td>5500</td>\n",
       "      <td>0.576200</td>\n",
       "    </tr>\n",
       "    <tr>\n",
       "      <td>6000</td>\n",
       "      <td>0.494300</td>\n",
       "    </tr>\n",
       "    <tr>\n",
       "      <td>6500</td>\n",
       "      <td>0.475900</td>\n",
       "    </tr>\n",
       "    <tr>\n",
       "      <td>7000</td>\n",
       "      <td>0.501200</td>\n",
       "    </tr>\n",
       "    <tr>\n",
       "      <td>7500</td>\n",
       "      <td>0.501800</td>\n",
       "    </tr>\n",
       "    <tr>\n",
       "      <td>8000</td>\n",
       "      <td>0.494700</td>\n",
       "    </tr>\n",
       "    <tr>\n",
       "      <td>8500</td>\n",
       "      <td>0.480400</td>\n",
       "    </tr>\n",
       "    <tr>\n",
       "      <td>9000</td>\n",
       "      <td>0.469000</td>\n",
       "    </tr>\n",
       "    <tr>\n",
       "      <td>9500</td>\n",
       "      <td>0.462200</td>\n",
       "    </tr>\n",
       "    <tr>\n",
       "      <td>10000</td>\n",
       "      <td>0.471400</td>\n",
       "    </tr>\n",
       "    <tr>\n",
       "      <td>10500</td>\n",
       "      <td>0.477800</td>\n",
       "    </tr>\n",
       "    <tr>\n",
       "      <td>11000</td>\n",
       "      <td>0.462200</td>\n",
       "    </tr>\n",
       "    <tr>\n",
       "      <td>11500</td>\n",
       "      <td>0.352000</td>\n",
       "    </tr>\n",
       "    <tr>\n",
       "      <td>12000</td>\n",
       "      <td>0.370800</td>\n",
       "    </tr>\n",
       "    <tr>\n",
       "      <td>12500</td>\n",
       "      <td>0.355500</td>\n",
       "    </tr>\n",
       "    <tr>\n",
       "      <td>13000</td>\n",
       "      <td>0.358600</td>\n",
       "    </tr>\n",
       "    <tr>\n",
       "      <td>13500</td>\n",
       "      <td>0.371700</td>\n",
       "    </tr>\n",
       "    <tr>\n",
       "      <td>14000</td>\n",
       "      <td>0.348800</td>\n",
       "    </tr>\n",
       "    <tr>\n",
       "      <td>14500</td>\n",
       "      <td>0.380600</td>\n",
       "    </tr>\n",
       "    <tr>\n",
       "      <td>15000</td>\n",
       "      <td>0.368200</td>\n",
       "    </tr>\n",
       "    <tr>\n",
       "      <td>15500</td>\n",
       "      <td>0.339300</td>\n",
       "    </tr>\n",
       "    <tr>\n",
       "      <td>16000</td>\n",
       "      <td>0.399800</td>\n",
       "    </tr>\n",
       "    <tr>\n",
       "      <td>16500</td>\n",
       "      <td>0.368600</td>\n",
       "    </tr>\n",
       "    <tr>\n",
       "      <td>17000</td>\n",
       "      <td>0.254900</td>\n",
       "    </tr>\n",
       "    <tr>\n",
       "      <td>17500</td>\n",
       "      <td>0.268800</td>\n",
       "    </tr>\n",
       "    <tr>\n",
       "      <td>18000</td>\n",
       "      <td>0.287100</td>\n",
       "    </tr>\n",
       "    <tr>\n",
       "      <td>18500</td>\n",
       "      <td>0.298200</td>\n",
       "    </tr>\n",
       "    <tr>\n",
       "      <td>19000</td>\n",
       "      <td>0.289600</td>\n",
       "    </tr>\n",
       "    <tr>\n",
       "      <td>19500</td>\n",
       "      <td>0.270600</td>\n",
       "    </tr>\n",
       "    <tr>\n",
       "      <td>20000</td>\n",
       "      <td>0.254200</td>\n",
       "    </tr>\n",
       "    <tr>\n",
       "      <td>20500</td>\n",
       "      <td>0.284800</td>\n",
       "    </tr>\n",
       "    <tr>\n",
       "      <td>21000</td>\n",
       "      <td>0.272100</td>\n",
       "    </tr>\n",
       "    <tr>\n",
       "      <td>21500</td>\n",
       "      <td>0.276700</td>\n",
       "    </tr>\n",
       "  </tbody>\n",
       "</table><p>"
      ],
      "text/plain": [
       "<IPython.core.display.HTML object>"
      ]
     },
     "metadata": {},
     "output_type": "display_data"
    },
    {
     "name": "stderr",
     "output_type": "stream",
     "text": [
      "C:\\Users\\97250\\anaconda3\\Lib\\site-packages\\torch\\utils\\data\\dataloader.py:665: UserWarning: 'pin_memory' argument is set as true but no accelerator is found, then device pinned memory won't be used.\n",
      "  warnings.warn(warn_msg)\n",
      "C:\\Users\\97250\\anaconda3\\Lib\\site-packages\\torch\\utils\\data\\dataloader.py:665: UserWarning: 'pin_memory' argument is set as true but no accelerator is found, then device pinned memory won't be used.\n",
      "  warnings.warn(warn_msg)\n",
      "C:\\Users\\97250\\anaconda3\\Lib\\site-packages\\torch\\utils\\data\\dataloader.py:665: UserWarning: 'pin_memory' argument is set as true but no accelerator is found, then device pinned memory won't be used.\n",
      "  warnings.warn(warn_msg)\n",
      "C:\\Users\\97250\\anaconda3\\Lib\\site-packages\\torch\\utils\\data\\dataloader.py:665: UserWarning: 'pin_memory' argument is set as true but no accelerator is found, then device pinned memory won't be used.\n",
      "  warnings.warn(warn_msg)\n"
     ]
    },
    {
     "data": {
      "text/html": [
       "\n",
       "    <div>\n",
       "      \n",
       "      <progress value='1371' max='1371' style='width:300px; height:20px; vertical-align: middle;'></progress>\n",
       "      [1371/1371 15:05]\n",
       "    </div>\n",
       "    "
      ],
      "text/plain": [
       "<IPython.core.display.HTML object>"
      ]
     },
     "metadata": {},
     "output_type": "display_data"
    },
    {
     "name": "stdout",
     "output_type": "stream",
     "text": [
      "\n",
      "*** Full Fine-Tuning eval ***\n",
      "{'eval_loss': 0.7952936291694641, 'eval_accuracy': 0.7934336525307798, 'eval_runtime': 906.5785, 'eval_samples_per_second': 12.095, 'eval_steps_per_second': 1.512, 'epoch': 4.0}\n"
     ]
    }
   ],
   "source": [
    "trainer = Trainer(\n",
    "    model=model,\n",
    "    args=training_args,\n",
    "    train_dataset=train_ds,\n",
    "    eval_dataset=test_ds,\n",
    "    compute_metrics=compute_metrics,\n",
    ")\n",
    "\n",
    "trainer.train()        # ← 8–10 שעות על CPU\n",
    "eval_res = trainer.evaluate()\n",
    "print(\"\\n*** Full Fine-Tuning eval ***\")\n",
    "print(eval_res)\n"
   ]
  },
  {
   "cell_type": "markdown",
   "id": "7eff2201",
   "metadata": {},
   "source": [
    "אחרי שאימנו את DistilBERT על כל 55 אלף המשפטים במשך ארבעה אפוקים (ללא הקפאה של שכבות) קיבלנו דיוק של ≈79 % ו-loss של ≈0.80. כלומר המודל מזהה נכון כמעט ארבעה מכל חמישה משפטים – שיפור משמעותי לעומת הגרסאות המהירות שהגענו איתן לכ-72 %. התוצאה כבר כמעט נוגעת ביעד 80 %; אפוך נוסף או כיוונון קטן (לדוגמה weight-decay או איזון קטגוריות) עשוי לדחוף אותנו עוד קצת למעלה, אבל גם במצבו הנוכחי זה מודל יציב ומדויק מאוד שהושג על CPU בלבד.\n"
   ]
  },
  {
   "cell_type": "code",
   "execution_count": 90,
   "id": "388c83c0",
   "metadata": {},
   "outputs": [
    {
     "data": {
      "text/plain": [
       "('distilbert_emotion_full\\\\tokenizer_config.json',\n",
       " 'distilbert_emotion_full\\\\special_tokens_map.json',\n",
       " 'distilbert_emotion_full\\\\vocab.txt',\n",
       " 'distilbert_emotion_full\\\\added_tokens.json',\n",
       " 'distilbert_emotion_full\\\\tokenizer.json')"
      ]
     },
     "execution_count": 90,
     "metadata": {},
     "output_type": "execute_result"
    }
   ],
   "source": [
    "model.save_pretrained(\"distilbert_emotion_full\")     # יוצר תיקייה מקומית\n",
    "tokenizer.save_pretrained(\"distilbert_emotion_full\")\n"
   ]
  },
  {
   "cell_type": "code",
   "execution_count": 91,
   "id": "356b90ca",
   "metadata": {},
   "outputs": [],
   "source": [
    "import torch\n",
    "from transformers import AutoTokenizer, AutoModelForSequenceClassification\n",
    "\n",
    "model_path = \"./distilbert_emotion_full\"   # או נתיב מלא: r\"C:\\Users\\97250\\distilbert_emotion_full\"\n",
    "\n",
    "tokenizer = AutoTokenizer.from_pretrained(model_path, local_files_only=True)\n",
    "model     = AutoModelForSequenceClassification.from_pretrained(model_path, local_files_only=True)\n"
   ]
  },
  {
   "cell_type": "code",
   "execution_count": 92,
   "id": "874d2f64",
   "metadata": {},
   "outputs": [
    {
     "name": "stdout",
     "output_type": "stream",
     "text": [
      "\"I feel amazing and productive today!\"  →  Normal\n",
      "\"Nothing makes sense anymore.\"  →  Depression\n",
      "\"I'm anxious about everything I do.\"  →  Anxiety\n",
      "\"I want to die.\"  →  Suicidal\n"
     ]
    }
   ],
   "source": [
    "samples = [\n",
    "    \"I feel amazing and productive today!\",\n",
    "    \"Nothing makes sense anymore.\",\n",
    "    \"I'm anxious about everything I do.\",\n",
    "    \"I want to die.\",\n",
    "]\n",
    "\n",
    "enc = tokenizer(samples, padding=True, truncation=True, max_length=128, return_tensors=\"pt\")\n",
    "\n",
    "with torch.no_grad():\n",
    "    preds = model(**enc).logits.argmax(dim=-1).tolist()\n",
    "\n",
    "for t, p in zip(samples, preds):\n",
    "    print(f'\"{t}\"  →  {id2label[p]}')\n"
   ]
  },
  {
   "cell_type": "code",
   "execution_count": 94,
   "id": "88217d30",
   "metadata": {},
   "outputs": [
    {
     "data": {
      "image/png": "[encoded data removed]",
      "text/plain": [
       "<Figure size 720x360 with 1 Axes>"
      ]
     },
     "metadata": {
      "needs_background": "light"
     },
     "output_type": "display_data"
    }
   ],
   "source": [
    "import numpy as np\n",
    "import matplotlib.pyplot as plt\n",
    "from sklearn.metrics import classification_report\n",
    "\n",
    "# ---------- 1. חישוב דוח מפורט ----------\n",
    "report = classification_report(\n",
    "    labels_true, labels_pred,\n",
    "    output_dict=True,\n",
    "    target_names=[id2label[i] for i in id2label.keys()]\n",
    ")\n",
    "\n",
    "# ---------- 2. הפקת ערכי Precision / Recall / F1 ----------\n",
    "classes   = list(id2label.values())\n",
    "precision = [report[c][\"precision\"] for c in classes]\n",
    "recall    = [report[c][\"recall\"]    for c in classes]\n",
    "f1        = [report[c][\"f1-score\"]  for c in classes]\n",
    "\n",
    "x = np.arange(len(classes))\n",
    "width = 0.25\n",
    "\n",
    "# ---------- 3. תרשים עמודות ----------\n",
    "fig, ax = plt.subplots(figsize=(10, 5))\n",
    "ax.bar(x - width, precision, width, label=\"Precision\")\n",
    "ax.bar(x,         recall,    width, label=\"Recall\")\n",
    "ax.bar(x + width, f1,        width, label=\"F1-score\")\n",
    "\n",
    "ax.set_xticks(x)\n",
    "ax.set_xticklabels(classes, rotation=45, ha=\"right\")\n",
    "ax.set_ylim(0, 1)\n",
    "ax.set_ylabel(\"Score\")\n",
    "ax.set_title(\"Precision / Recall / F1 by Emotion Class\")\n",
    "ax.legend()\n",
    "plt.tight_layout()\n",
    "plt.show()\n"
   ]
  },
  {
   "cell_type": "code",
   "execution_count": 95,
   "id": "24956058",
   "metadata": {},
   "outputs": [
    {
     "name": "stdout",
     "output_type": "stream",
     "text": [
      "\n",
      "Overall Accuracy: 0.793\n",
      "\n",
      "                      precision    recall  f1-score       support\n",
      "Anxiety                0.822733  0.840941  0.831737    723.000000\n",
      "Normal                 0.914217  0.913122  0.913669   3338.000000\n",
      "Depression             0.754849  0.770203  0.762449   3638.000000\n",
      "Suicidal               0.689271  0.697368  0.693296   2128.000000\n",
      "Stress                 0.649510  0.577342  0.611303    459.000000\n",
      "Bipolar                0.818750  0.786000  0.802041    500.000000\n",
      "Personality disorder   0.719424  0.558659  0.628931    179.000000\n",
      "accuracy               0.793434  0.793434  0.793434      0.793434\n",
      "macro avg              0.766965  0.734805  0.749061  10965.000000\n",
      "weighted avg           0.793040  0.793434  0.792931  10965.000000\n"
     ]
    }
   ],
   "source": [
    "import numpy as np\n",
    "import pandas as pd\n",
    "from sklearn.metrics import classification_report, accuracy_score\n",
    "\n",
    "# ----- 1. אם כבר חישבת labels_pred ו-labels_true, דלג על בלוק זה -----\n",
    "# otherwise, הפק תחזיות:\n",
    "# batch_size = 32\n",
    "# labels_pred = []\n",
    "# for i in range(0, len(test_df), batch_size):\n",
    "#     batch_text = test_df[\"clean_text\"].tolist()[i:i+batch_size]\n",
    "#     enc = tokenizer(batch_text, padding=True, truncation=True, max_length=128, return_tensors=\"pt\")\n",
    "#     with torch.no_grad():\n",
    "#         labels_pred.extend(model(**enc).logits.argmax(dim=-1).tolist())\n",
    "# labels_true = test_df[\"label\"].tolist()\n",
    "\n",
    "# ----- 2. דיווח מפורט בספריית sklearn -----\n",
    "report_dict = classification_report(\n",
    "    labels_true,\n",
    "    labels_pred,\n",
    "    target_names=[id2label[i] for i in id2label.keys()],\n",
    "    output_dict=True,\n",
    "    digits=3,\n",
    ")\n",
    "\n",
    "# ----- 3. הדפסת Accuracy כללי -----\n",
    "overall_acc = accuracy_score(labels_true, labels_pred)\n",
    "print(f\"\\nOverall Accuracy: {overall_acc:.3f}\\n\")\n",
    "\n",
    "# ----- 4. הדפסת דוח בפורמט יפה -----\n",
    "# הפיכת dict ל-DataFrame כדי להדפיס בטבלה\n",
    "report_df = pd.DataFrame(report_dict).transpose()\n",
    "print(report_df)\n",
    "\n",
    "# ----- 5. שמירה לקובץ CSV (אופציונלי) -----\n",
    "# report_df.to_csv(\"distilbert_emotion_metrics.csv\", index=True)\n"
   ]
  },
  {
   "cell_type": "code",
   "execution_count": null,
   "id": "003369c1",
   "metadata": {},
   "outputs": [],
   "source": []
  },
  {
   "cell_type": "markdown",
   "id": "4fc57159",
   "metadata": {},
   "source": [
    "## השוואת מדדים"
   ]
  },
  {
   "cell_type": "markdown",
   "id": "20174db6",
   "metadata": {},
   "source": [
    "##### ACCURACY"
   ]
  },
  {
   "cell_type": "code",
   "execution_count": 96,
   "id": "47de9d70",
   "metadata": {},
   "outputs": [
    {
     "name": "stderr",
     "output_type": "stream",
     "text": [
      "C:\\Users\\97250\\AppData\\Local\\Temp\\ipykernel_22756\\2372238032.py:49: UserWarning: Glyph 128202 (\\N{BAR CHART}) missing from current font.\n",
      "  plt.tight_layout()\n",
      "C:\\Users\\97250\\anaconda3\\Lib\\site-packages\\IPython\\core\\pylabtools.py:152: UserWarning: Glyph 128202 (\\N{BAR CHART}) missing from current font.\n",
      "  fig.canvas.print_figure(bytes_io, **kw)\n"
     ]
    },
    {
     "data": {
      "image/png": "[encoded data removed]",
      "text/plain": [
       "<Figure size 864x432 with 1 Axes>"
      ]
     },
     "metadata": {
      "needs_background": "light"
     },
     "output_type": "display_data"
    }
   ],
   "source": [
    "import matplotlib.pyplot as plt\n",
    "\n",
    "# ----------------- Model names -----------------\n",
    "models = [\n",
    "    \"LogReg (TF-IDF)\",\n",
    "    \"LogReg (n-grams)\",\n",
    "    \"SVM (n-grams)\",\n",
    "    \"Random Forest\",\n",
    "    \"XGBoost\",\n",
    "    \"Naive Bayes\",\n",
    "    \"DistilBERT 2 K / 3 E\",\n",
    "    \"DistilBERT 10 K (frozen)\",\n",
    "    \"DistilBERT 10 K (unfreeze-2)\",\n",
    "    \"DistilBERT 55 K (full FT)\"\n",
    "]\n",
    "\n",
    "# ----------------- Corresponding accuracies -----------------\n",
    "accuracies = [\n",
    "    0.74,   # Logistic Regression (TF-IDF)\n",
    "    0.75,   # Logistic Regression (n-grams)\n",
    "    0.73,   # SVM (n-grams)\n",
    "    0.69,   # Random Forest\n",
    "    0.75,   # XGBoost\n",
    "    0.70,   # Naive Bayes\n",
    "    0.666,  # DistilBERT subset 2 K, 3 epochs\n",
    "    0.6645, # DistilBERT 10 K, base frozen 4 epochs\n",
    "    0.719,  # DistilBERT 10 K, last-2 layers unfrozen (+2 epochs)\n",
    "    0.793   # DistilBERT full fine-tune 55 K, 4 epochs\n",
    "]\n",
    "\n",
    "# ----------------- Plot -----------------\n",
    "plt.figure(figsize=(12, 6))\n",
    "bars = plt.bar(models, accuracies, color='skyblue')\n",
    "plt.ylim(0.6, 0.85)\n",
    "plt.ylabel(\"Accuracy\")\n",
    "plt.title(\"📊 Accuracy Comparison Across Classical and Transformer Models\")\n",
    "\n",
    "# annotate bars\n",
    "for bar, acc in zip(bars, accuracies):\n",
    "    plt.text(\n",
    "        bar.get_x() + bar.get_width() / 2.0,\n",
    "        acc + 0.005,\n",
    "        f\"{acc:.3f}\",\n",
    "        ha='center',\n",
    "        va='bottom'\n",
    "    )\n",
    "\n",
    "plt.xticks(rotation=25, ha='right')\n",
    "plt.tight_layout()\n",
    "plt.show()\n"
   ]
  },
  {
   "cell_type": "markdown",
   "id": "92a20bed",
   "metadata": {},
   "source": [
    "בגרף השווינו בין המודלים הקלאסיים (TF-IDF, n-grams, Random Forest, XGBoost, Naive Bayes) לבין סדרת ניסויי DistilBERT. המודלים המסורתיים נעים סביב 69-75 % דיוק, כאשר Logistic Regression עם n-grams ו-XGBoost הם הטובים ביותר בקבוצה (≈ 75 %). לעומת זאת, DistilBERT מתחיל נמוך בתת-דגימה קטנה (≈ 66 %), אבל בכל פעם שהגדלנו את כמות הנתונים או פתחנו יותר שכבות למדידה, הדיוק קפץ: בסיס קפוא (10 K) עדיין דומה לקלאסיים, פתיחת שתי שכבות אחרונות העלתה אותו ל-72 %, וב-Fine-Tuning מלא על כל 55 אלף המשפטים הגענו כמעט ל-80 %. כלומר, מודל טרנספורמר מאומן היטב מנצח בבירור, אבל דורש הרבה יותר נתונים וזמן חישוב כדי לממש את הפוטנציאל שלו.\n"
   ]
  },
  {
   "cell_type": "markdown",
   "id": "43b9e101",
   "metadata": {},
   "source": [
    "### precision\n"
   ]
  },
  {
   "cell_type": "code",
   "execution_count": 97,
   "id": "64212422",
   "metadata": {},
   "outputs": [
    {
     "name": "stdout",
     "output_type": "stream",
     "text": [
      "Macro-Precision:    0.767\n",
      "Weighted-Precision: 0.793\n"
     ]
    }
   ],
   "source": [
    "from sklearn.metrics import classification_report, accuracy_score\n",
    "import numpy as np\n",
    "\n",
    "# -------------------------------------------------\n",
    "# הנח שאת כבר במצב שיש לך:\n",
    "#   - labels_true  →  רשימת התוויות האמיתיות ל-test\n",
    "#   - labels_pred  →  רשימת התחזיות של המודל הנוכחי\n",
    "# -------------------------------------------------\n",
    "report = classification_report(\n",
    "    labels_true,\n",
    "    labels_pred,\n",
    "    target_names=[id2label[i] for i in id2label.keys()],\n",
    "    output_dict=True,\n",
    "    digits=3,\n",
    ")\n",
    "\n",
    "# precision ממוצע לפי Macro (כל קטגוריה באותה‎־חשיבות)\n",
    "macro_prec  = report[\"macro avg\"][\"precision\"]\n",
    "weighted_prec = report[\"weighted avg\"][\"precision\"]\n",
    "\n",
    "print(f\"Macro-Precision:    {macro_prec:.3f}\")\n",
    "print(f\"Weighted-Precision: {weighted_prec:.3f}\")\n"
   ]
  },
  {
   "cell_type": "code",
   "execution_count": 98,
   "id": "325dd3f4",
   "metadata": {},
   "outputs": [
    {
     "data": {
      "text/plain": [
       "('distilbert_2k3e\\\\tokenizer_config.json',\n",
       " 'distilbert_2k3e\\\\special_tokens_map.json',\n",
       " 'distilbert_2k3e\\\\vocab.txt',\n",
       " 'distilbert_2k3e\\\\added_tokens.json',\n",
       " 'distilbert_2k3e\\\\tokenizer.json')"
      ]
     },
     "execution_count": 98,
     "metadata": {},
     "output_type": "execute_result"
    }
   ],
   "source": [
    "model.save_pretrained(\"distilbert_2k3e\")\n",
    "tokenizer.save_pretrained(\"distilbert_2k3e\")\n"
   ]
  },
  {
   "cell_type": "code",
   "execution_count": 100,
   "id": "0194ca1e",
   "metadata": {},
   "outputs": [
    {
     "name": "stderr",
     "output_type": "stream",
     "text": [
      "C:\\Users\\97250\\AppData\\Local\\Temp\\ipykernel_22756\\208808760.py:41: UserWarning: Glyph 128202 (\\N{BAR CHART}) missing from current font.\n",
      "  plt.tight_layout()\n",
      "C:\\Users\\97250\\anaconda3\\Lib\\site-packages\\IPython\\core\\pylabtools.py:152: UserWarning: Glyph 128202 (\\N{BAR CHART}) missing from current font.\n",
      "  fig.canvas.print_figure(bytes_io, **kw)\n"
     ]
    },
    {
     "data": {
      "image/png": "[encoded data removed]",
      "text/plain": [
       "<Figure size 864x432 with 1 Axes>"
      ]
     },
     "metadata": {
      "needs_background": "light"
     },
     "output_type": "display_data"
    }
   ],
   "source": [
    "import matplotlib.pyplot as plt\n",
    "\n",
    "models = [\n",
    "    \"LogReg (TF-IDF)\",\n",
    "    \"LogReg (n-grams)\",\n",
    "    \"SVM (n-grams)\",\n",
    "    \"Random Forest\",\n",
    "    \"XGBoost\",\n",
    "    \"Naive Bayes\",\n",
    "    \"DistilBERT 2 K / 3 E\",\n",
    "    \"DistilBERT 10 K (frozen)\",\n",
    "    \"DistilBERT 10 K (unfreeze-2)\",\n",
    "    \"DistilBERT 55 K (full FT)\",\n",
    "]\n",
    "\n",
    "precisions = [\n",
    "    0.74,   # LogReg (TF-IDF)\n",
    "    0.74,   # LogReg (n-grams)\n",
    "    0.73,   # SVM (n-grams)\n",
    "    0.72,   # Random Forest\n",
    "    0.75,   # XGBoost\n",
    "    0.71,   # Naive Bayes\n",
    "    0.67,   # DistilBERT 2 K / 3 E  ← הכניסי כאן את הערך האמיתי כשיהיה\n",
    "    0.66,   # DistilBERT 10 K (frozen) ← \"\n",
    "    0.72,   # DistilBERT 10 K (unfreeze-2) ← \"\n",
    "    0.767,  # DistilBERT 55 K (full FT)  ← מאקרו-precision החדש\n",
    "]\n",
    "\n",
    "plt.figure(figsize=(12, 6))\n",
    "bars = plt.bar(models, precisions, color=\"royalblue\")\n",
    "\n",
    "for bar, p in zip(bars, precisions):\n",
    "    plt.text(bar.get_x() + bar.get_width()/2, p + 0.005, f\"{p:.3f}\",\n",
    "             ha=\"center\", va=\"bottom\")\n",
    "\n",
    "plt.ylim(0.6, 0.85)\n",
    "plt.ylabel(\"Precision\")\n",
    "plt.title(\"📊 Precision Comparison Across Models\")\n",
    "plt.xticks(rotation=25, ha=\"right\")\n",
    "plt.grid(axis='y', linestyle='--', alpha=0.6)\n",
    "plt.tight_layout()\n",
    "plt.show()\n"
   ]
  },
  {
   "cell_type": "markdown",
   "id": "26cd83b6",
   "metadata": {},
   "source": [
    "בגרף רואים את דיוק-ה־precision של כל המודלים שבדקנו. ששת המודלים ה“קלאסיים” (לוגיסטי, SVM, Random Forest, XGBoost, Naive Bayes) נעים בטווח צר של ‎0.71–0.75, כאשר XGBoost מוביל בקבוצה עם ‎0.75. סדרת ניסויי DistilBERT מתחילה נמוך: תת-דגימה קטנה (2 K) נותנת רק ‎0.67 ואפילו גרסה של 10 K עם בסיס קפוא יורדת ל-0.66. ברגע שפתחנו שתי שכבות אחרונות המודל קפץ ל-0.72, וכאשר עשינו fine-tuning מלא על כל 55 אלף המשפטים הוא הגיע ל-0.767 – הערך הגבוה ביותר בגרף. כלומר, מודל טרנספורמר גובר על השיטות המסורתיות רק אחרי שמאכילים אותו בהרבה נתונים ונותנים לו להתעדכן לעומק; לפני כן הוא אפילו חלש מהקלאסיים.\n"
   ]
  },
  {
   "cell_type": "markdown",
   "id": "c15c37c1",
   "metadata": {},
   "source": [
    "### recall\n"
   ]
  },
  {
   "cell_type": "code",
   "execution_count": 101,
   "id": "246d1dc3",
   "metadata": {},
   "outputs": [
    {
     "name": "stderr",
     "output_type": "stream",
     "text": [
      "C:\\Users\\97250\\AppData\\Local\\Temp\\ipykernel_22756\\254051561.py:45: UserWarning: Glyph 128270 (\\N{RIGHT-POINTING MAGNIFYING GLASS}) missing from current font.\n",
      "  plt.tight_layout()\n",
      "C:\\Users\\97250\\anaconda3\\Lib\\site-packages\\IPython\\core\\pylabtools.py:152: UserWarning: Glyph 128270 (\\N{RIGHT-POINTING MAGNIFYING GLASS}) missing from current font.\n",
      "  fig.canvas.print_figure(bytes_io, **kw)\n"
     ]
    },
    {
     "data": {
      "image/png": "[encoded data removed]",
      "text/plain": [
       "<Figure size 864x432 with 1 Axes>"
      ]
     },
     "metadata": {
      "needs_background": "light"
     },
     "output_type": "display_data"
    }
   ],
   "source": [
    "import matplotlib.pyplot as plt\n",
    "\n",
    "# 1. שמות כל המודלים\n",
    "models = [\n",
    "    \"LogReg (TF-IDF)\",\n",
    "    \"LogReg (n-grams)\",\n",
    "    \"SVM (n-grams)\",\n",
    "    \"Random Forest\",\n",
    "    \"XGBoost\",\n",
    "    \"Naive Bayes\",\n",
    "    \"DistilBERT 2 K / 3 E\",\n",
    "    \"DistilBERT 10 K (frozen)\",\n",
    "    \"DistilBERT 10 K (unfreeze-2)\",\n",
    "    \"DistilBERT 55 K (full FT)\",\n",
    "]\n",
    "\n",
    "# 2. ערכי recall בפועל — הכניסי את המאקרו-recall מכל דוח\n",
    "recall_scores = [\n",
    "    0.74,   # LogReg (TF-IDF)\n",
    "    0.74,   # LogReg (n-grams)\n",
    "    0.73,   # SVM (n-grams)\n",
    "    0.68,   # Random Forest\n",
    "    0.75,   # XGBoost\n",
    "    0.69,   # Naive Bayes\n",
    "    0.68,   # DistilBERT 2 K / 3 E        ← עדכני כאן\n",
    "    0.67,   # DistilBERT 10 K (frozen)    ← עדכני כאן\n",
    "    0.71,   # DistilBERT 10 K (unfreeze-2)← עדכני כאן\n",
    "    0.785,  # DistilBERT 55 K (full-FT)   ← דוגמה; עדכני אם יש מספר מדויק\n",
    "]\n",
    "\n",
    "# 3. ציור הגרף\n",
    "plt.figure(figsize=(12, 6))\n",
    "bars = plt.bar(models, recall_scores, color=\"seagreen\")\n",
    "plt.ylim(0.6, 0.82)\n",
    "plt.ylabel(\"Recall\")\n",
    "plt.title(\"🔎 Recall Comparison Across Models\")\n",
    "\n",
    "# הוספת הערך על כל עמודה\n",
    "for bar, score in zip(bars, recall_scores):\n",
    "    plt.text(bar.get_x() + bar.get_width()/2, score + 0.005,\n",
    "             f\"{score:.3f}\", ha=\"center\", va=\"bottom\")\n",
    "\n",
    "plt.xticks(rotation=25, ha=\"right\")\n",
    "plt.grid(axis=\"y\", linestyle=\"--\", alpha=0.6)\n",
    "plt.tight_layout()\n",
    "plt.show()\n"
   ]
  },
  {
   "cell_type": "markdown",
   "id": "51408ec4",
   "metadata": {},
   "source": [
    "בבדיקת ה-recall – כלומר יכולת המודל “לתפוס” את כל המקרים הנכונים – המודלים הקלאסיים (Logistic Regression, SVM, Random Forest, XGBoost, Naive Bayes) נעים בין ≈0.68 ל-0.75, כאשר XGBoost מוביל בחבורה. סדרת DistilBERT מתחילה נמוך בתת-דגימה קטנה (0.67) ואפילו בבסיס קפוא (0.68), אבל ברגע ששחררנו שתי שכבות אחרונות קפצה ל-0.71. כשביצענו Fine-Tuning מלא על כל 55 אלף המשפטים הגענו ל-0.785 – הערך הגבוה ביותר בגרף. המשמעות: מודל טרנספורמר מאומן היטב מצליח לזהות כמעט 80 % מכל מקרי הרגש הנכונים, אבל רק לאחר שמעדכנים את כל שכבותיו וכוללים כמות נתונים גדולה; בלעדיהם הוא אינו עדיף על השיטות המסורתיות.\n"
   ]
  },
  {
   "cell_type": "markdown",
   "id": "77127efb",
   "metadata": {},
   "source": [
    "### F1 SCORE"
   ]
  },
  {
   "cell_type": "code",
   "execution_count": 103,
   "id": "a256de7d",
   "metadata": {},
   "outputs": [
    {
     "name": "stderr",
     "output_type": "stream",
     "text": [
      "C:\\Users\\97250\\AppData\\Local\\Temp\\ipykernel_22756\\1982156725.py:44: UserWarning: Glyph 127919 (\\N{DIRECT HIT}) missing from current font.\n",
      "  plt.tight_layout()\n",
      "C:\\Users\\97250\\anaconda3\\Lib\\site-packages\\IPython\\core\\pylabtools.py:152: UserWarning: Glyph 127919 (\\N{DIRECT HIT}) missing from current font.\n",
      "  fig.canvas.print_figure(bytes_io, **kw)\n"
     ]
    },
    {
     "data": {
      "image/png": "[encoded data removed]",
      "text/plain": [
       "<Figure size 864x432 with 1 Axes>"
      ]
     },
     "metadata": {
      "needs_background": "light"
     },
     "output_type": "display_data"
    }
   ],
   "source": [
    "import matplotlib.pyplot as plt\n",
    "\n",
    "# 1. שמות המודלים (קלאסיים + DistilBERT)\n",
    "models = [\n",
    "    \"LogReg (TF-IDF)\",\n",
    "    \"LogReg (n-grams)\",\n",
    "    \"SVM (n-grams)\",\n",
    "    \"Random Forest\",\n",
    "    \"XGBoost\",\n",
    "    \"Naive Bayes\",\n",
    "    \"DistilBERT 2 K / 3 E\",\n",
    "    \"DistilBERT 10 K (frozen)\",\n",
    "    \"DistilBERT 10 K (unfreeze-2)\",\n",
    "    \"DistilBERT 55 K (full FT)\",\n",
    "]\n",
    "\n",
    "# 2. ערכי F1 בפועל – הכניסי את המספרים מהדוחות\n",
    "f1_scores = [\n",
    "    0.73,   # LogReg (TF-IDF)\n",
    "    0.74,   # LogReg (n-grams)\n",
    "    0.73,   # SVM (n-grams)\n",
    "    0.66,   # Random Forest\n",
    "    0.75,   # XGBoost\n",
    "    0.70,   # Naive Bayes\n",
    "    0.69,   # DistilBERT 2 K / 3 E          ← עדכני כאן\n",
    "    0.68,   # DistilBERT 10 K (frozen)      ← עדכני כאן\n",
    "    0.72,   # DistilBERT 10 K (unfreeze-2)  ← עדכני כאן\n",
    "    0.780,  # DistilBERT 55 K (full FT)     ← דוגמה; החליפי בערך המדויק\n",
    "]\n",
    "\n",
    "# 3. ציור גרף העמודות\n",
    "plt.figure(figsize=(12, 6))\n",
    "bars = plt.bar(models, f1_scores, color=\"mediumorchid\")\n",
    "\n",
    "for bar, score in zip(bars, f1_scores):\n",
    "    plt.text(bar.get_x() + bar.get_width()/2, score + 0.005,\n",
    "             f\"{score:.3f}\", ha=\"center\", va=\"bottom\")\n",
    "\n",
    "plt.ylim(0.6, 0.82)\n",
    "plt.ylabel(\"F1 Score\")\n",
    "plt.title(\"🎯 F1 Score Comparison Across Models\")\n",
    "plt.xticks(rotation=25, ha=\"right\")\n",
    "plt.grid(axis=\"y\", linestyle=\"--\", alpha=0.6)\n",
    "plt.tight_layout()\n",
    "plt.show()\n"
   ]
  },
  {
   "cell_type": "markdown",
   "id": "569521ef",
   "metadata": {},
   "source": [
    "הגרף מציג את מדד F1—האיזון בין precision ל-recall—לכל המודלים. במודלים הקלאסיים XGBoost מוביל עם ‎0.75 ואחריו לוגיסטי עם n-grams (0.74), בזמן ש-Random Forest יורד ל-0.66. בסדרת DistilBERT רואים מגמת שיפור ברורה ככל שמגדילים נתונים ופותחים שכבות: תת-דגימה קטנה (0.69) ובסיס קפוא (0.68) עדיין נחותים מהקלאסיים; פתיחת שתי שכבות אחרונות מעלה ל-0.72, ו-fine-tuning מלא על 55 K טקסטים מקפיץ ל-0.78—ה-F1 הגבוה ביותר. המסקנה: מודל טרנספורמר מאומן לעומק מספק את האיזון הטוב ביותר בין דיוק וכיסוי, אך רק אחרי אימון מלא ונתונים רבים; בלעדיהם מודלים מסורתיים כמו XGBoost עדיין משתווים או אפילו עוקפים אותו.\n"
   ]
  },
  {
   "cell_type": "markdown",
   "id": "9eac8a7c",
   "metadata": {},
   "source": [
    "### טבלת השוואה מסכמת"
   ]
  },
  {
   "cell_type": "code",
   "execution_count": 104,
   "id": "6969e348",
   "metadata": {},
   "outputs": [
    {
     "data": {
      "text/html": [
       "<div>\n",
       "<style scoped>\n",
       "    .dataframe tbody tr th:only-of-type {\n",
       "        vertical-align: middle;\n",
       "    }\n",
       "\n",
       "    .dataframe tbody tr th {\n",
       "        vertical-align: top;\n",
       "    }\n",
       "\n",
       "    .dataframe thead th {\n",
       "        text-align: right;\n",
       "    }\n",
       "</style>\n",
       "<table border=\"1\" class=\"dataframe\">\n",
       "  <thead>\n",
       "    <tr style=\"text-align: right;\">\n",
       "      <th></th>\n",
       "      <th>Model</th>\n",
       "      <th>Accuracy</th>\n",
       "      <th>Precision</th>\n",
       "      <th>Recall</th>\n",
       "      <th>F1 Score</th>\n",
       "    </tr>\n",
       "  </thead>\n",
       "  <tbody>\n",
       "    <tr>\n",
       "      <th>0</th>\n",
       "      <td>Naive Bayes</td>\n",
       "      <td>0.700</td>\n",
       "      <td>0.710</td>\n",
       "      <td>0.690</td>\n",
       "      <td>0.70</td>\n",
       "    </tr>\n",
       "    <tr>\n",
       "      <th>1</th>\n",
       "      <td>Logistic Regression (TF-IDF)</td>\n",
       "      <td>0.740</td>\n",
       "      <td>0.740</td>\n",
       "      <td>0.740</td>\n",
       "      <td>0.73</td>\n",
       "    </tr>\n",
       "    <tr>\n",
       "      <th>2</th>\n",
       "      <td>Logistic Regression (n-grams)</td>\n",
       "      <td>0.750</td>\n",
       "      <td>0.740</td>\n",
       "      <td>0.740</td>\n",
       "      <td>0.74</td>\n",
       "    </tr>\n",
       "    <tr>\n",
       "      <th>3</th>\n",
       "      <td>SVM (n-grams)</td>\n",
       "      <td>0.730</td>\n",
       "      <td>0.730</td>\n",
       "      <td>0.730</td>\n",
       "      <td>0.73</td>\n",
       "    </tr>\n",
       "    <tr>\n",
       "      <th>4</th>\n",
       "      <td>Random Forest</td>\n",
       "      <td>0.690</td>\n",
       "      <td>0.720</td>\n",
       "      <td>0.680</td>\n",
       "      <td>0.66</td>\n",
       "    </tr>\n",
       "    <tr>\n",
       "      <th>5</th>\n",
       "      <td>XGBoost</td>\n",
       "      <td>0.750</td>\n",
       "      <td>0.750</td>\n",
       "      <td>0.750</td>\n",
       "      <td>0.75</td>\n",
       "    </tr>\n",
       "    <tr>\n",
       "      <th>6</th>\n",
       "      <td>DistilBERT 2 K / 3 E</td>\n",
       "      <td>0.666</td>\n",
       "      <td>0.670</td>\n",
       "      <td>0.680</td>\n",
       "      <td>0.69</td>\n",
       "    </tr>\n",
       "    <tr>\n",
       "      <th>7</th>\n",
       "      <td>DistilBERT 10 K (frozen)</td>\n",
       "      <td>0.664</td>\n",
       "      <td>0.660</td>\n",
       "      <td>0.670</td>\n",
       "      <td>0.68</td>\n",
       "    </tr>\n",
       "    <tr>\n",
       "      <th>8</th>\n",
       "      <td>DistilBERT 10 K (unfreeze-2)</td>\n",
       "      <td>0.719</td>\n",
       "      <td>0.720</td>\n",
       "      <td>0.710</td>\n",
       "      <td>0.72</td>\n",
       "    </tr>\n",
       "    <tr>\n",
       "      <th>9</th>\n",
       "      <td>DistilBERT 55 K (full FT)</td>\n",
       "      <td>0.793</td>\n",
       "      <td>0.767</td>\n",
       "      <td>0.785</td>\n",
       "      <td>0.78</td>\n",
       "    </tr>\n",
       "  </tbody>\n",
       "</table>\n",
       "</div>"
      ],
      "text/plain": [
       "                           Model  Accuracy  Precision  Recall  F1 Score\n",
       "0                    Naive Bayes     0.700      0.710   0.690      0.70\n",
       "1   Logistic Regression (TF-IDF)     0.740      0.740   0.740      0.73\n",
       "2  Logistic Regression (n-grams)     0.750      0.740   0.740      0.74\n",
       "3                  SVM (n-grams)     0.730      0.730   0.730      0.73\n",
       "4                  Random Forest     0.690      0.720   0.680      0.66\n",
       "5                        XGBoost     0.750      0.750   0.750      0.75\n",
       "6           DistilBERT 2 K / 3 E     0.666      0.670   0.680      0.69\n",
       "7       DistilBERT 10 K (frozen)     0.664      0.660   0.670      0.68\n",
       "8   DistilBERT 10 K (unfreeze-2)     0.719      0.720   0.710      0.72\n",
       "9      DistilBERT 55 K (full FT)     0.793      0.767   0.785      0.78"
      ]
     },
     "execution_count": 104,
     "metadata": {},
     "output_type": "execute_result"
    }
   ],
   "source": [
    "import pandas as pd\n",
    "\n",
    "data = {\n",
    "    \"Model\": [\n",
    "        \"Naive Bayes\",\n",
    "        \"Logistic Regression (TF-IDF)\",\n",
    "        \"Logistic Regression (n-grams)\",\n",
    "        \"SVM (n-grams)\",\n",
    "        \"Random Forest\",\n",
    "        \"XGBoost\",\n",
    "        \"DistilBERT 2 K / 3 E\",\n",
    "        \"DistilBERT 10 K (frozen)\",\n",
    "        \"DistilBERT 10 K (unfreeze-2)\",\n",
    "        \"DistilBERT 55 K (full FT)\",\n",
    "    ],\n",
    "    # ← מספרים קלאסיים (כבר היו)     ← ארבעת הערכים של DistilBERT\n",
    "    \"Accuracy\":  [0.70, 0.74, 0.75, 0.73, 0.69, 0.75, 0.666, 0.664, 0.719, 0.793],\n",
    "    \"Precision\": [0.71, 0.74, 0.74, 0.73, 0.72, 0.75, 0.67 , 0.66 , 0.72 , 0.767],\n",
    "    \"Recall\":    [0.69, 0.74, 0.74, 0.73, 0.68, 0.75, 0.68 , 0.67 , 0.71 , 0.785],\n",
    "    \"F1 Score\":  [0.70, 0.73, 0.74, 0.73, 0.66, 0.75, 0.69 , 0.68 , 0.72 , 0.780],\n",
    "}\n",
    "\n",
    "comparison_df = pd.DataFrame(data)\n",
    "\n",
    "# אם תרצי למיין מהגבוה לנמוך לפי Accuracy (או מדד אחר):\n",
    "# comparison_df = comparison_df.sort_values(by=\"Accuracy\", ascending=False)\n",
    "\n",
    "comparison_df\n"
   ]
  },
  {
   "cell_type": "markdown",
   "id": "d2ed2016",
   "metadata": {},
   "source": [
    "הטבלה מסכמת את ביצועי כל המודלים בארבעת המדדים המרכזיים. בשיטות הקלאסיות ‏XGBoost מוביל עם F1 = 0.75 ודיוק 0.75, בעוד Logistic Regression עם n-grams מגיע מיד אחריו (0.74-0.75 בממדי הדיוק, הפרסישן וה-F1). DistilBERT מתחיל נמוך כשהוא מאומן רק על תת-דגימה (דיוק ≈ 0.67) ואפילו עם בסיס קפוא (0.664), אך משתפר ל-0.719 לאחר שחרור שתי שכבות אחרונות. כשהפעלנו Fine-Tuning מלא על כל 55 אלף המשפטים DistilBERT זינק לדיוק 0.793, Precision 0.767, Recall 0.785 ו-F1 0.78—הערכים הגבוהים ביותר בכל העמודות. כלומר, מודל הטרנספורמר המאומן לעומק גובר בבירור על השיטות המסורתיות, אך רק לאחר שהושקע בו אימון מלא ועל כמות נתונים גדולה; לפני כן, המודלים הקלאסיים עדיין נותנים תוצאות תחרותיות.\n"
   ]
  },
  {
   "cell_type": "code",
   "execution_count": 105,
   "id": "f84dbbd0",
   "metadata": {},
   "outputs": [
    {
     "name": "stderr",
     "output_type": "stream",
     "text": [
      "C:\\Users\\97250\\anaconda3\\Lib\\site-packages\\seaborn\\_oldcore.py:1119: FutureWarning: use_inf_as_na option is deprecated and will be removed in a future version. Convert inf values to NaN before operating instead.\n",
      "  with pd.option_context('mode.use_inf_as_na', True):\n"
     ]
    },
    {
     "data": {
      "image/png": "[encoded data removed]",
      "text/plain": [
       "<Figure size 1008x432 with 2 Axes>"
      ]
     },
     "metadata": {
      "needs_background": "light"
     },
     "output_type": "display_data"
    }
   ],
   "source": [
    "import pandas as pd\n",
    "import matplotlib.pyplot as plt\n",
    "import seaborn as sns\n",
    "\n",
    "# טען את הדאטה\n",
    "df = pd.read_csv(\"final_data_.csv\")\n",
    "\n",
    "# הסרת ערכים חסרים (אם יש)\n",
    "df = df.dropna(subset=['clean_text'])\n",
    "\n",
    "# הוספת עמודת אורך טקסט\n",
    "df['text_length'] = df['clean_text'].apply(lambda x: len(str(x).split()))\n",
    "\n",
    "# יצירת גרפים\n",
    "plt.figure(figsize=(14, 6))\n",
    "\n",
    "# גרף התפלגות תוויות\n",
    "plt.subplot(1, 2, 1)\n",
    "sns.countplot(x='status', data=df, palette='Set2')\n",
    "plt.title(\"Label Distribution\")\n",
    "plt.xticks(rotation=45)\n",
    "plt.xlabel(\"Mental Health Category\")\n",
    "plt.ylabel(\"Count\")\n",
    "\n",
    "# גרף התפלגות אורך טקסט\n",
    "plt.subplot(1, 2, 2)\n",
    "sns.histplot(df['text_length'], bins=40, color='skyblue')\n",
    "plt.title(\"Text Length Distribution\")\n",
    "plt.xlabel(\"Number of Words\")\n",
    "plt.ylabel(\"Number of Samples\")\n",
    "plt.xlim(0, 200)  # כדי לא להציג קצוות קיצוניים מדי\n",
    "\n",
    "plt.tight_layout()\n",
    "plt.show()\n"
   ]
  },
  {
   "cell_type": "markdown",
   "id": "4ce4ee7b",
   "metadata": {},
   "source": [
    "הקוד יוצר שתי ויזואליזציות שימושיות ל-EDA (חקירת הנתונים):\n",
    "\n",
    "התפלגות התוויות (Label Distribution)\n",
    "העמודות בגרף השמאלי מציגות כמה משפטים שייכים לכל קטגוריית רגש. כך אפשר לראות מיד האם הנתונים מאוזנים או שקיימים רגשות נדירים (למשל Suicidal או Bipolar). חוסר איזון משמעותי רומז שנצטרך טכניקות כמו oversampling או משקלי-קטגוריה באימון.\n",
    "\n",
    "אורך הטקסט (Text Length Distribution)\n",
    "ההיסטוגרמה הימנית מראה את מספר המילים בכל משפט (עד 200 מילים כדי להסתיר קצוות חריגים). רוב המשפטים כנראה קצרים—למשל סביב 10–30 מילים—מה שמאשר שה-max_length=128 שבחרנו לטוקניזציה מספיק בהחלט. אם היו הרבה משפטים ארוכים מחוץ לטווח 128-טוקנים, היינו צריכים לשקול להגדיל את הפרמטר הזה או לחתוך אחרת.\n",
    "\n",
    "\n",
    "\n"
   ]
  },
  {
   "cell_type": "code",
   "execution_count": 106,
   "id": "943a400d",
   "metadata": {},
   "outputs": [
    {
     "data": {
      "image/png": "[encoded data removed]",
      "text/plain": [
       "<Figure size 432x360 with 1 Axes>"
      ]
     },
     "metadata": {
      "needs_background": "light"
     },
     "output_type": "display_data"
    }
   ],
   "source": [
    "import torch\n",
    "import matplotlib.pyplot as plt\n",
    "from sklearn.metrics import confusion_matrix, ConfusionMatrixDisplay\n",
    "\n",
    "# ----- הפקת תחזיות על כל סט הבדיקה -----\n",
    "batch_size = 32\n",
    "texts       = test_df[\"clean_text\"].astype(str).tolist()\n",
    "labels_true = test_df[\"label\"].tolist()\n",
    "\n",
    "labels_pred = []\n",
    "for i in range(0, len(texts), batch_size):\n",
    "    enc = tokenizer(texts[i:i+batch_size],\n",
    "                    padding=True, truncation=True,\n",
    "                    max_length=128, return_tensors=\"pt\")\n",
    "    with torch.no_grad():\n",
    "        preds = model(**enc).logits.argmax(dim=-1).tolist()\n",
    "    labels_pred.extend(preds)\n",
    "\n",
    "# ----- מטריצת בלבול -----\n",
    "cm = confusion_matrix(labels_true, labels_pred,\n",
    "                      labels=list(id2label.keys()))\n",
    "\n",
    "fig, ax = plt.subplots(figsize=(6, 5))\n",
    "disp = ConfusionMatrixDisplay(\n",
    "    confusion_matrix=cm,\n",
    "    display_labels=[id2label[i] for i in id2label.keys()]\n",
    ")\n",
    "disp.plot(ax=ax, cmap=\"YlGnBu\", values_format=\"g\", colorbar=False)\n",
    "\n",
    "plt.title(\"Confusion Matrix – Emotion Classification\")\n",
    "plt.xticks(rotation=45, ha=\"right\")\n",
    "plt.tight_layout()\n",
    "plt.show()\n"
   ]
  },
  {
   "cell_type": "markdown",
   "id": "53905340",
   "metadata": {},
   "source": [
    "מטריצת הבלבול ממחישה איך מודל DistilBERT מבדיל בין שבעת הרגשות. התאים הכהים באלכסון (למשל **Normal**, **Depression**, **Suicidal**) מצביעים על כמות גדולה של תחזיות נכונות. התאים הבהירים מחוץ לאלכסון מסמנים היכן המודל מתבלבל: לדוגמה, 576 טקסטים אובדניים סווגו בטעות כ-Depression ו-133 טקסטים נייטרליים (Normal) כ-Depression – מה שמעיד שההפרדה בין שתי קטגוריות אלו היא הקשה ביותר. בסך-הכול, האלכסון הדומיננטי מאשר ביצועים טובים, בעוד הכיסים הבהירים מציעים שעל ידי תוספת נתונים או איזון קטגוריות ניתן לשפר עוד יותר את הדיוק.\n"
   ]
  },
  {
   "cell_type": "code",
   "execution_count": null,
   "id": "6b157a36",
   "metadata": {},
   "outputs": [],
   "source": []
  }
 ],
 "metadata": {
  "kernelspec": {
   "display_name": "Python 3 (ipykernel)",
   "language": "python",
   "name": "python3"
  },
  "language_info": {
   "codemirror_mode": {
    "name": "ipython",
    "version": 3
   },
   "file_extension": ".py",
   "mimetype": "text/x-python",
   "name": "python",
   "nbconvert_exporter": "python",
   "pygments_lexer": "ipython3",
   "version": "3.11.5"
  }
 },
 "nbformat": 4,
 "nbformat_minor": 5
}
